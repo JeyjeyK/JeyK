{
 "cells": [
  {
   "cell_type": "markdown",
   "id": "4df8528f",
   "metadata": {
    "id": "4df8528f"
   },
   "source": [
    "* 데이터 수집      \n",
    "https://data.seoul.go.kr/dataList/5/literacyView.do"
   ]
  },
  {
   "cell_type": "code",
   "execution_count": 1,
   "id": "53914b7c",
   "metadata": {
    "id": "53914b7c"
   },
   "outputs": [],
   "source": [
    "import pandas as pd"
   ]
  },
  {
   "cell_type": "code",
   "execution_count": 2,
   "id": "81d0684a",
   "metadata": {
    "id": "81d0684a"
   },
   "outputs": [],
   "source": [
    "# 그래프를 노트북 안에 그리기 위해 설정\n",
    "%matplotlib inline\n",
    "\n",
    "# 필요한 패키지와 라이브러리 가져온다.\n",
    "import matplotlib as mpl\n",
    "import matplotlib.pyplot as plt\n",
    "import matplotlib.font_manager as fm\n",
    "\n",
    "# 그래프에서 마이너스 폰트 깨지는 문제에 대한 대처\n",
    "mpl.rcParams['axes.unicode_minus'] = False\n",
    "\n",
    "# 폰트 지정하기\n",
    "plt.rcParams['font.family'] = 'gulim'"
   ]
  },
  {
   "cell_type": "markdown",
   "id": "ca7b1f87",
   "metadata": {
    "id": "ca7b1f87"
   },
   "source": [
    "# 데이터 확인 및 전처리"
   ]
  },
  {
   "cell_type": "markdown",
   "id": "834e2e7f",
   "metadata": {
    "id": "834e2e7f"
   },
   "source": [
    "## 2021년 공공자전거 대여이력 정보"
   ]
  },
  {
   "cell_type": "markdown",
   "id": "30296105",
   "metadata": {
    "id": "30296105"
   },
   "source": [
    "### 데이터프레임 생성/확인"
   ]
  },
  {
   "cell_type": "code",
   "execution_count": 3,
   "id": "7b4fbe0f",
   "metadata": {
    "id": "7b4fbe0f",
    "scrolled": true
   },
   "outputs": [],
   "source": [
    "df1 = pd.read_csv('test_data/공공자전거 대여이력 정보_2021.01.csv', encoding='cp949', low_memory=False)\n",
    "df2 = pd.read_csv('test_data/공공자전거 대여이력 정보_2021.02.csv', encoding='cp949', low_memory=False)\n",
    "df3 = pd.read_csv('test_data/공공자전거 대여이력 정보_2021.03.csv', encoding='cp949', low_memory=False)\n",
    "df4 = pd.read_csv('test_data/공공자전거 대여이력 정보_2021.04.csv', encoding='cp949', low_memory=False)\n",
    "df5 = pd.read_csv('test_data/공공자전거 대여이력 정보_2021.05.csv', encoding='cp949', low_memory=False)\n",
    "df6 = pd.read_csv('test_data/공공자전거 대여이력 정보_2021.06.csv', encoding='cp949', low_memory=False)"
   ]
  },
  {
   "cell_type": "code",
   "execution_count": null,
   "id": "175ffcfa",
   "metadata": {
    "id": "175ffcfa",
    "outputId": "d1695b63-f261-4f29-d305-df9dfb4d5632"
   },
   "outputs": [
    {
     "data": {
      "text/html": [
       "<div>\n",
       "<style scoped>\n",
       "    .dataframe tbody tr th:only-of-type {\n",
       "        vertical-align: middle;\n",
       "    }\n",
       "\n",
       "    .dataframe tbody tr th {\n",
       "        vertical-align: top;\n",
       "    }\n",
       "\n",
       "    .dataframe thead th {\n",
       "        text-align: right;\n",
       "    }\n",
       "</style>\n",
       "<table border=\"1\" class=\"dataframe\">\n",
       "  <thead>\n",
       "    <tr style=\"text-align: right;\">\n",
       "      <th></th>\n",
       "      <th>자전거번호</th>\n",
       "      <th>대여일시</th>\n",
       "      <th>대여 대여소번호</th>\n",
       "      <th>대여 대여소명</th>\n",
       "      <th>대여거치대</th>\n",
       "      <th>반납일시</th>\n",
       "      <th>반납대여소번호</th>\n",
       "      <th>반납대여소명</th>\n",
       "      <th>반납거치대</th>\n",
       "      <th>이용시간</th>\n",
       "      <th>이용거리</th>\n",
       "    </tr>\n",
       "  </thead>\n",
       "  <tbody>\n",
       "    <tr>\n",
       "      <th>0</th>\n",
       "      <td>SPB-30385</td>\n",
       "      <td>2021-05-31 23:07:00</td>\n",
       "      <td>3571</td>\n",
       "      <td>화양 APT(횡단보도 옆)</td>\n",
       "      <td>0</td>\n",
       "      <td>2021-06-01 00:00:00</td>\n",
       "      <td>03538</td>\n",
       "      <td>서울숲 IT캐슬</td>\n",
       "      <td>0</td>\n",
       "      <td>53.0</td>\n",
       "      <td>2502.8</td>\n",
       "    </tr>\n",
       "    <tr>\n",
       "      <th>1</th>\n",
       "      <td>SPB-46321</td>\n",
       "      <td>2021-05-31 23:37:19</td>\n",
       "      <td>1911</td>\n",
       "      <td>구로디지털단지역 앞</td>\n",
       "      <td>0</td>\n",
       "      <td>2021-06-01 00:00:02</td>\n",
       "      <td>01843</td>\n",
       "      <td>독산고등학교</td>\n",
       "      <td>0</td>\n",
       "      <td>22.0</td>\n",
       "      <td>1630.0</td>\n",
       "    </tr>\n",
       "  </tbody>\n",
       "</table>\n",
       "</div>"
      ],
      "text/plain": [
       "       자전거번호                 대여일시  대여 대여소번호         대여 대여소명 대여거치대  \\\n",
       "0  SPB-30385  2021-05-31 23:07:00      3571  화양 APT(횡단보도 옆)     0   \n",
       "1  SPB-46321  2021-05-31 23:37:19      1911      구로디지털단지역 앞     0   \n",
       "\n",
       "                  반납일시 반납대여소번호    반납대여소명  반납거치대  이용시간    이용거리  \n",
       "0  2021-06-01 00:00:00   03538  서울숲 IT캐슬      0  53.0  2502.8  \n",
       "1  2021-06-01 00:00:02   01843    독산고등학교      0  22.0  1630.0  "
      ]
     },
     "execution_count": 5,
     "metadata": {},
     "output_type": "execute_result"
    }
   ],
   "source": [
    "df6.head(2)"
   ]
  },
  {
   "cell_type": "markdown",
   "id": "b2c27450",
   "metadata": {
    "id": "b2c27450"
   },
   "source": [
    "### 데이터 연결/확인\n",
    "* concat"
   ]
  },
  {
   "cell_type": "code",
   "execution_count": 4,
   "id": "367fa222",
   "metadata": {
    "id": "367fa222"
   },
   "outputs": [],
   "source": [
    "# concat\n",
    "df = pd.concat([df1,df2,df3,df4,df5,df6])"
   ]
  },
  {
   "cell_type": "code",
   "execution_count": 5,
   "id": "22f3ce8d",
   "metadata": {
    "id": "22f3ce8d",
    "outputId": "9c1719a4-49fe-4bb4-b07c-76baaf55545d"
   },
   "outputs": [
    {
     "data": {
      "text/html": [
       "<div>\n",
       "<style scoped>\n",
       "    .dataframe tbody tr th:only-of-type {\n",
       "        vertical-align: middle;\n",
       "    }\n",
       "\n",
       "    .dataframe tbody tr th {\n",
       "        vertical-align: top;\n",
       "    }\n",
       "\n",
       "    .dataframe thead th {\n",
       "        text-align: right;\n",
       "    }\n",
       "</style>\n",
       "<table border=\"1\" class=\"dataframe\">\n",
       "  <thead>\n",
       "    <tr style=\"text-align: right;\">\n",
       "      <th></th>\n",
       "      <th>자전거번호</th>\n",
       "      <th>대여일시</th>\n",
       "      <th>대여 대여소번호</th>\n",
       "      <th>대여 대여소명</th>\n",
       "      <th>대여거치대</th>\n",
       "      <th>반납일시</th>\n",
       "      <th>반납대여소번호</th>\n",
       "      <th>반납대여소명</th>\n",
       "      <th>반납거치대</th>\n",
       "      <th>이용시간</th>\n",
       "      <th>이용거리</th>\n",
       "    </tr>\n",
       "  </thead>\n",
       "  <tbody>\n",
       "    <tr>\n",
       "      <th>0</th>\n",
       "      <td>SPB-53145</td>\n",
       "      <td>2021-01-02 20:50:36</td>\n",
       "      <td>3</td>\n",
       "      <td>중랑센터</td>\n",
       "      <td>0</td>\n",
       "      <td>2021-01-02 21:15:41</td>\n",
       "      <td>668</td>\n",
       "      <td>서울축산농협(장안지점)</td>\n",
       "      <td>0</td>\n",
       "      <td>25.0</td>\n",
       "      <td>0.0</td>\n",
       "    </tr>\n",
       "    <tr>\n",
       "      <th>1</th>\n",
       "      <td>SPB-53074</td>\n",
       "      <td>2021-01-04 16:02:12</td>\n",
       "      <td>3</td>\n",
       "      <td>중랑센터</td>\n",
       "      <td>0</td>\n",
       "      <td>2021-01-04 16:17:06</td>\n",
       "      <td>668</td>\n",
       "      <td>서울축산농협(장안지점)</td>\n",
       "      <td>0</td>\n",
       "      <td>14.0</td>\n",
       "      <td>0.0</td>\n",
       "    </tr>\n",
       "  </tbody>\n",
       "</table>\n",
       "</div>"
      ],
      "text/plain": [
       "       자전거번호                 대여일시  대여 대여소번호 대여 대여소명 대여거치대  \\\n",
       "0  SPB-53145  2021-01-02 20:50:36         3    중랑센터     0   \n",
       "1  SPB-53074  2021-01-04 16:02:12         3    중랑센터     0   \n",
       "\n",
       "                  반납일시 반납대여소번호        반납대여소명  반납거치대  이용시간  이용거리  \n",
       "0  2021-01-02 21:15:41     668  서울축산농협(장안지점)      0  25.0   0.0  \n",
       "1  2021-01-04 16:17:06     668  서울축산농협(장안지점)      0  14.0   0.0  "
      ]
     },
     "execution_count": 5,
     "metadata": {},
     "output_type": "execute_result"
    }
   ],
   "source": [
    "# head\n",
    "df.head(2)"
   ]
  },
  {
   "cell_type": "code",
   "execution_count": 6,
   "id": "263b0ce9",
   "metadata": {
    "id": "263b0ce9",
    "outputId": "b3cc1b43-008f-4652-fcc5-4d74656ff2be"
   },
   "outputs": [
    {
     "data": {
      "text/html": [
       "<div>\n",
       "<style scoped>\n",
       "    .dataframe tbody tr th:only-of-type {\n",
       "        vertical-align: middle;\n",
       "    }\n",
       "\n",
       "    .dataframe tbody tr th {\n",
       "        vertical-align: top;\n",
       "    }\n",
       "\n",
       "    .dataframe thead th {\n",
       "        text-align: right;\n",
       "    }\n",
       "</style>\n",
       "<table border=\"1\" class=\"dataframe\">\n",
       "  <thead>\n",
       "    <tr style=\"text-align: right;\">\n",
       "      <th></th>\n",
       "      <th>자전거번호</th>\n",
       "      <th>대여일시</th>\n",
       "      <th>대여 대여소번호</th>\n",
       "      <th>대여 대여소명</th>\n",
       "      <th>대여거치대</th>\n",
       "      <th>반납일시</th>\n",
       "      <th>반납대여소번호</th>\n",
       "      <th>반납대여소명</th>\n",
       "      <th>반납거치대</th>\n",
       "      <th>이용시간</th>\n",
       "      <th>이용거리</th>\n",
       "    </tr>\n",
       "  </thead>\n",
       "  <tbody>\n",
       "    <tr>\n",
       "      <th>3445942</th>\n",
       "      <td>SPB-41691</td>\n",
       "      <td>2021-06-30 22:11:14</td>\n",
       "      <td>2220</td>\n",
       "      <td>반포본동 주민센터 앞</td>\n",
       "      <td>0</td>\n",
       "      <td>2021-07-01 04:55:29</td>\n",
       "      <td>02526</td>\n",
       "      <td>반포경남쇼핑 앞</td>\n",
       "      <td>0</td>\n",
       "      <td>404.0</td>\n",
       "      <td>0.00</td>\n",
       "    </tr>\n",
       "    <tr>\n",
       "      <th>3445943</th>\n",
       "      <td>SPB-52274</td>\n",
       "      <td>2021-06-30 22:12:10</td>\n",
       "      <td>2220</td>\n",
       "      <td>반포본동 주민센터 앞</td>\n",
       "      <td>0</td>\n",
       "      <td>2021-07-01 04:55:30</td>\n",
       "      <td>02526</td>\n",
       "      <td>반포경남쇼핑 앞</td>\n",
       "      <td>0</td>\n",
       "      <td>403.0</td>\n",
       "      <td>4541.22</td>\n",
       "    </tr>\n",
       "  </tbody>\n",
       "</table>\n",
       "</div>"
      ],
      "text/plain": [
       "             자전거번호                 대여일시  대여 대여소번호      대여 대여소명 대여거치대  \\\n",
       "3445942  SPB-41691  2021-06-30 22:11:14      2220  반포본동 주민센터 앞     0   \n",
       "3445943  SPB-52274  2021-06-30 22:12:10      2220  반포본동 주민센터 앞     0   \n",
       "\n",
       "                        반납일시 반납대여소번호    반납대여소명  반납거치대   이용시간     이용거리  \n",
       "3445942  2021-07-01 04:55:29   02526  반포경남쇼핑 앞      0  404.0     0.00  \n",
       "3445943  2021-07-01 04:55:30   02526  반포경남쇼핑 앞      0  403.0  4541.22  "
      ]
     },
     "execution_count": 6,
     "metadata": {},
     "output_type": "execute_result"
    }
   ],
   "source": [
    "#tail\n",
    "df.tail(2)"
   ]
  },
  {
   "cell_type": "code",
   "execution_count": 7,
   "id": "c9829c9a",
   "metadata": {
    "id": "c9829c9a",
    "outputId": "45a58858-d1d2-4a19-a7f4-d3c6eb8025f5"
   },
   "outputs": [
    {
     "data": {
      "text/plain": [
       "(13613873, 11)"
      ]
     },
     "execution_count": 7,
     "metadata": {},
     "output_type": "execute_result"
    }
   ],
   "source": [
    "# 데이터 크기\n",
    "df.shape"
   ]
  },
  {
   "cell_type": "code",
   "execution_count": 8,
   "id": "33b4ec81-d6f6-4c3b-8a93-03b18fca96d5",
   "metadata": {
    "id": "33b4ec81-d6f6-4c3b-8a93-03b18fca96d5",
    "outputId": "ccf7dfac-c16f-45b3-f8e5-6d149d8affd4",
    "scrolled": true
   },
   "outputs": [
    {
     "data": {
      "text/plain": [
       "149752603"
      ]
     },
     "execution_count": 8,
     "metadata": {},
     "output_type": "execute_result"
    }
   ],
   "source": [
    "df.size # 전체셀 개수"
   ]
  },
  {
   "cell_type": "code",
   "execution_count": 9,
   "id": "fd27aa50",
   "metadata": {
    "id": "fd27aa50",
    "outputId": "200668af-4917-4943-a034-dabec4750890",
    "scrolled": true
   },
   "outputs": [
    {
     "name": "stdout",
     "output_type": "stream",
     "text": [
      "<class 'pandas.core.frame.DataFrame'>\n",
      "Index: 13613873 entries, 0 to 3445943\n",
      "Data columns (total 11 columns):\n",
      " #   Column    Dtype  \n",
      "---  ------    -----  \n",
      " 0   자전거번호     object \n",
      " 1   대여일시      object \n",
      " 2   대여 대여소번호  int64  \n",
      " 3   대여 대여소명   object \n",
      " 4   대여거치대     object \n",
      " 5   반납일시      object \n",
      " 6   반납대여소번호   object \n",
      " 7   반납대여소명    object \n",
      " 8   반납거치대     int64  \n",
      " 9   이용시간      float64\n",
      " 10  이용거리      float64\n",
      "dtypes: float64(2), int64(2), object(7)\n",
      "memory usage: 1.2+ GB\n"
     ]
    }
   ],
   "source": [
    "# 데이터 정보(사용메모리)\n",
    "df.info()"
   ]
  },
  {
   "cell_type": "markdown",
   "id": "d1306bfb",
   "metadata": {
    "id": "d1306bfb"
   },
   "source": [
    "## 데이터 전처리"
   ]
  },
  {
   "cell_type": "markdown",
   "id": "dad37062",
   "metadata": {
    "id": "dad37062"
   },
   "source": [
    "### 불필요한 컬럼 제거"
   ]
  },
  {
   "cell_type": "code",
   "execution_count": 10,
   "id": "731c760c",
   "metadata": {
    "id": "731c760c"
   },
   "outputs": [],
   "source": [
    "# 자전거번호, 대여거치대, 반납거치대 제거\n",
    "df.drop(columns=['자전거번호', '대여거치대', '반납거치대'], inplace=True, axis=1)"
   ]
  },
  {
   "cell_type": "code",
   "execution_count": 11,
   "id": "5e61327b",
   "metadata": {
    "id": "5e61327b",
    "outputId": "015f2c1c-b4cd-438e-d1c2-c573d15c5cb2",
    "scrolled": true
   },
   "outputs": [
    {
     "data": {
      "text/plain": [
       "(13613873, 8)"
      ]
     },
     "execution_count": 11,
     "metadata": {},
     "output_type": "execute_result"
    }
   ],
   "source": [
    "df.shape"
   ]
  },
  {
   "cell_type": "markdown",
   "id": "f6f9c487",
   "metadata": {
    "id": "f6f9c487"
   },
   "source": [
    "### 자료형 확인/변경"
   ]
  },
  {
   "cell_type": "code",
   "execution_count": 12,
   "id": "64c14609",
   "metadata": {
    "id": "64c14609",
    "outputId": "27160c54-43f4-4233-a584-f7ae25210043",
    "scrolled": true
   },
   "outputs": [
    {
     "name": "stdout",
     "output_type": "stream",
     "text": [
      "<class 'pandas.core.frame.DataFrame'>\n",
      "Index: 13613873 entries, 0 to 3445943\n",
      "Data columns (total 8 columns):\n",
      " #   Column    Dtype  \n",
      "---  ------    -----  \n",
      " 0   대여일시      object \n",
      " 1   대여 대여소번호  int64  \n",
      " 2   대여 대여소명   object \n",
      " 3   반납일시      object \n",
      " 4   반납대여소번호   object \n",
      " 5   반납대여소명    object \n",
      " 6   이용시간      float64\n",
      " 7   이용거리      float64\n",
      "dtypes: float64(2), int64(1), object(5)\n",
      "memory usage: 934.8+ MB\n"
     ]
    }
   ],
   "source": [
    "# 자료형 확인\n",
    "df.info()"
   ]
  },
  {
   "cell_type": "code",
   "execution_count": 13,
   "id": "4a07ff19",
   "metadata": {
    "id": "4a07ff19"
   },
   "outputs": [],
   "source": [
    "# 카테고리형으로 변경  :    대여 대여소번호, 반납대여소번호\n",
    "df['대여 대여소번호'] = df['대여 대여소번호'].astype('category')\n",
    "df['반납대여소번호'] = df['반납대여소번호'].astype('category')"
   ]
  },
  {
   "cell_type": "code",
   "execution_count": 14,
   "id": "d393a62d",
   "metadata": {
    "id": "d393a62d",
    "outputId": "b00938ac-0401-4463-d980-d3ea10fae50c"
   },
   "outputs": [
    {
     "name": "stdout",
     "output_type": "stream",
     "text": [
      "<class 'pandas.core.frame.DataFrame'>\n",
      "Index: 13613873 entries, 0 to 3445943\n",
      "Data columns (total 8 columns):\n",
      " #   Column    Dtype   \n",
      "---  ------    -----   \n",
      " 0   대여일시      object  \n",
      " 1   대여 대여소번호  category\n",
      " 2   대여 대여소명   object  \n",
      " 3   반납일시      object  \n",
      " 4   반납대여소번호   category\n",
      " 5   반납대여소명    object  \n",
      " 6   이용시간      float64 \n",
      " 7   이용거리      float64 \n",
      "dtypes: category(2), float64(2), object(4)\n",
      "memory usage: 779.2+ MB\n"
     ]
    }
   ],
   "source": [
    "# 메모리 용량 확인\n",
    "df.info()"
   ]
  },
  {
   "cell_type": "code",
   "execution_count": 15,
   "id": "03254d7a",
   "metadata": {
    "id": "03254d7a"
   },
   "outputs": [],
   "source": [
    "# datetime형으로 변경 : 대여일시,반납일시\n",
    "df['대여일시'] = pd.to_datetime(df['대여일시'])\n",
    "df['반납일시'] = pd.to_datetime(df['반납일시'], errors='coerce')"
   ]
  },
  {
   "cell_type": "code",
   "execution_count": 16,
   "id": "7150d8c6",
   "metadata": {
    "id": "7150d8c6"
   },
   "outputs": [],
   "source": [
    "# erros 오류 = 1. 무시, 2. 상승, 3. 강제  default가 상승\n",
    "# raise 인경우 잘못된 구문 분석은 예외를 발생시킨다.\n",
    "# coerce 잘못된 구문 분석이 NaT로 설정\n",
    "# ignore  무시"
   ]
  },
  {
   "cell_type": "code",
   "execution_count": 17,
   "id": "2487f578",
   "metadata": {
    "id": "2487f578",
    "outputId": "93c0616b-a40f-4412-bcb3-ad5cf07a3ca7"
   },
   "outputs": [
    {
     "data": {
      "text/plain": [
       "대여일시        datetime64[ns]\n",
       "대여 대여소번호          category\n",
       "대여 대여소명             object\n",
       "반납일시        datetime64[ns]\n",
       "반납대여소번호           category\n",
       "반납대여소명              object\n",
       "이용시간               float64\n",
       "이용거리               float64\n",
       "dtype: object"
      ]
     },
     "execution_count": 17,
     "metadata": {},
     "output_type": "execute_result"
    }
   ],
   "source": [
    "# 자료형 변경 확인\n",
    "df.dtypes"
   ]
  },
  {
   "cell_type": "markdown",
   "id": "09f83d6e",
   "metadata": {
    "id": "09f83d6e"
   },
   "source": [
    "## 결측치 확인/처리"
   ]
  },
  {
   "cell_type": "code",
   "execution_count": 18,
   "id": "959646d5",
   "metadata": {
    "id": "959646d5",
    "outputId": "c4e21920-44b6-4137-fdad-d839a0d381e9",
    "scrolled": true
   },
   "outputs": [
    {
     "data": {
      "text/plain": [
       "대여일시          0\n",
       "대여 대여소번호      0\n",
       "대여 대여소명       0\n",
       "반납일시        146\n",
       "반납대여소번호       0\n",
       "반납대여소명        0\n",
       "이용시간          0\n",
       "이용거리        269\n",
       "dtype: int64"
      ]
     },
     "execution_count": 18,
     "metadata": {},
     "output_type": "execute_result"
    }
   ],
   "source": [
    "# 결측치 확인\n",
    "df.isnull().sum()"
   ]
  },
  {
   "cell_type": "code",
   "execution_count": 19,
   "id": "c3f86ab7",
   "metadata": {
    "id": "c3f86ab7"
   },
   "outputs": [],
   "source": [
    "# 결측치 제거\n",
    "df = df.dropna() # df.dropna(inplace=True)"
   ]
  },
  {
   "cell_type": "code",
   "execution_count": 20,
   "id": "3ac838ae",
   "metadata": {
    "id": "3ac838ae",
    "outputId": "5156cd7d-e661-440e-e225-2b30773fe38f",
    "scrolled": true
   },
   "outputs": [
    {
     "data": {
      "text/plain": [
       "대여일시        0\n",
       "대여 대여소번호    0\n",
       "대여 대여소명     0\n",
       "반납일시        0\n",
       "반납대여소번호     0\n",
       "반납대여소명      0\n",
       "이용시간        0\n",
       "이용거리        0\n",
       "dtype: int64"
      ]
     },
     "execution_count": 20,
     "metadata": {},
     "output_type": "execute_result"
    }
   ],
   "source": [
    "# 결측치 확인\n",
    "df.isnull().sum()"
   ]
  },
  {
   "cell_type": "markdown",
   "id": "f5c4c49c",
   "metadata": {
    "id": "f5c4c49c"
   },
   "source": [
    "# 일별 이용 현황"
   ]
  },
  {
   "cell_type": "markdown",
   "id": "784d5eb4",
   "metadata": {
    "id": "784d5eb4"
   },
   "source": [
    "## 대여날짜 컬럼 추가\n",
    "* date"
   ]
  },
  {
   "cell_type": "code",
   "execution_count": 21,
   "id": "20f7e831",
   "metadata": {
    "id": "20f7e831"
   },
   "outputs": [],
   "source": [
    "df['대여날짜'] = df['대여일시'].dt.date"
   ]
  },
  {
   "cell_type": "code",
   "execution_count": 22,
   "id": "97da15cf",
   "metadata": {
    "id": "97da15cf",
    "outputId": "f29e9176-cebf-4ed9-eae8-6771eb627b2e",
    "scrolled": true
   },
   "outputs": [
    {
     "data": {
      "text/html": [
       "<div>\n",
       "<style scoped>\n",
       "    .dataframe tbody tr th:only-of-type {\n",
       "        vertical-align: middle;\n",
       "    }\n",
       "\n",
       "    .dataframe tbody tr th {\n",
       "        vertical-align: top;\n",
       "    }\n",
       "\n",
       "    .dataframe thead th {\n",
       "        text-align: right;\n",
       "    }\n",
       "</style>\n",
       "<table border=\"1\" class=\"dataframe\">\n",
       "  <thead>\n",
       "    <tr style=\"text-align: right;\">\n",
       "      <th></th>\n",
       "      <th>대여일시</th>\n",
       "      <th>대여 대여소번호</th>\n",
       "      <th>대여 대여소명</th>\n",
       "      <th>반납일시</th>\n",
       "      <th>반납대여소번호</th>\n",
       "      <th>반납대여소명</th>\n",
       "      <th>이용시간</th>\n",
       "      <th>이용거리</th>\n",
       "      <th>대여날짜</th>\n",
       "    </tr>\n",
       "  </thead>\n",
       "  <tbody>\n",
       "    <tr>\n",
       "      <th>0</th>\n",
       "      <td>2021-01-02 20:50:36</td>\n",
       "      <td>3</td>\n",
       "      <td>중랑센터</td>\n",
       "      <td>2021-01-02 21:15:41</td>\n",
       "      <td>668</td>\n",
       "      <td>서울축산농협(장안지점)</td>\n",
       "      <td>25.0</td>\n",
       "      <td>0.0</td>\n",
       "      <td>2021-01-02</td>\n",
       "    </tr>\n",
       "    <tr>\n",
       "      <th>1</th>\n",
       "      <td>2021-01-04 16:02:12</td>\n",
       "      <td>3</td>\n",
       "      <td>중랑센터</td>\n",
       "      <td>2021-01-04 16:17:06</td>\n",
       "      <td>668</td>\n",
       "      <td>서울축산농협(장안지점)</td>\n",
       "      <td>14.0</td>\n",
       "      <td>0.0</td>\n",
       "      <td>2021-01-04</td>\n",
       "    </tr>\n",
       "  </tbody>\n",
       "</table>\n",
       "</div>"
      ],
      "text/plain": [
       "                 대여일시 대여 대여소번호 대여 대여소명                반납일시 반납대여소번호  \\\n",
       "0 2021-01-02 20:50:36        3    중랑센터 2021-01-02 21:15:41     668   \n",
       "1 2021-01-04 16:02:12        3    중랑센터 2021-01-04 16:17:06     668   \n",
       "\n",
       "         반납대여소명  이용시간  이용거리        대여날짜  \n",
       "0  서울축산농협(장안지점)  25.0   0.0  2021-01-02  \n",
       "1  서울축산농협(장안지점)  14.0   0.0  2021-01-04  "
      ]
     },
     "execution_count": 22,
     "metadata": {},
     "output_type": "execute_result"
    }
   ],
   "source": [
    "df.head(2)"
   ]
  },
  {
   "cell_type": "markdown",
   "id": "482fd396",
   "metadata": {
    "id": "482fd396"
   },
   "source": [
    "## 대여날짜 별 대여 건수\n",
    "* groupby\n",
    "* to_frame"
   ]
  },
  {
   "cell_type": "code",
   "execution_count": 63,
   "id": "ddef9ea5",
   "metadata": {
    "id": "ddef9ea5",
    "outputId": "2c0d169f-4ecc-4878-aa83-29832a441654"
   },
   "outputs": [
    {
     "data": {
      "text/html": [
       "<div>\n",
       "<style scoped>\n",
       "    .dataframe tbody tr th:only-of-type {\n",
       "        vertical-align: middle;\n",
       "    }\n",
       "\n",
       "    .dataframe tbody tr th {\n",
       "        vertical-align: top;\n",
       "    }\n",
       "\n",
       "    .dataframe thead th {\n",
       "        text-align: right;\n",
       "    }\n",
       "</style>\n",
       "<table border=\"1\" class=\"dataframe\">\n",
       "  <thead>\n",
       "    <tr style=\"text-align: right;\">\n",
       "      <th></th>\n",
       "      <th>대여일시</th>\n",
       "    </tr>\n",
       "    <tr>\n",
       "      <th>대여날짜</th>\n",
       "      <th></th>\n",
       "    </tr>\n",
       "  </thead>\n",
       "  <tbody>\n",
       "    <tr>\n",
       "      <th>2021-01-01</th>\n",
       "      <td>22119</td>\n",
       "    </tr>\n",
       "    <tr>\n",
       "      <th>2021-01-02</th>\n",
       "      <td>23463</td>\n",
       "    </tr>\n",
       "    <tr>\n",
       "      <th>2021-01-03</th>\n",
       "      <td>21656</td>\n",
       "    </tr>\n",
       "    <tr>\n",
       "      <th>2021-01-04</th>\n",
       "      <td>32732</td>\n",
       "    </tr>\n",
       "    <tr>\n",
       "      <th>2021-01-05</th>\n",
       "      <td>28819</td>\n",
       "    </tr>\n",
       "    <tr>\n",
       "      <th>...</th>\n",
       "      <td>...</td>\n",
       "    </tr>\n",
       "    <tr>\n",
       "      <th>2021-06-26</th>\n",
       "      <td>105414</td>\n",
       "    </tr>\n",
       "    <tr>\n",
       "      <th>2021-06-27</th>\n",
       "      <td>92486</td>\n",
       "    </tr>\n",
       "    <tr>\n",
       "      <th>2021-06-28</th>\n",
       "      <td>105882</td>\n",
       "    </tr>\n",
       "    <tr>\n",
       "      <th>2021-06-29</th>\n",
       "      <td>111436</td>\n",
       "    </tr>\n",
       "    <tr>\n",
       "      <th>2021-06-30</th>\n",
       "      <td>121632</td>\n",
       "    </tr>\n",
       "  </tbody>\n",
       "</table>\n",
       "<p>181 rows × 1 columns</p>\n",
       "</div>"
      ],
      "text/plain": [
       "              대여일시\n",
       "대여날짜              \n",
       "2021-01-01   22119\n",
       "2021-01-02   23463\n",
       "2021-01-03   21656\n",
       "2021-01-04   32732\n",
       "2021-01-05   28819\n",
       "...            ...\n",
       "2021-06-26  105414\n",
       "2021-06-27   92486\n",
       "2021-06-28  105882\n",
       "2021-06-29  111436\n",
       "2021-06-30  121632\n",
       "\n",
       "[181 rows x 1 columns]"
      ]
     },
     "execution_count": 63,
     "metadata": {},
     "output_type": "execute_result"
    }
   ],
   "source": [
    "# 대여날짜 별 대여건수 추출\n",
    "df_count = df.groupby('대여날짜').대여일시.count().to_frame()\n",
    "df_count"
   ]
  },
  {
   "cell_type": "code",
   "execution_count": 24,
   "id": "6ca2a9ab",
   "metadata": {
    "id": "6ca2a9ab",
    "outputId": "e883357c-0a86-4cb9-9d13-15c57e79e312"
   },
   "outputs": [
    {
     "data": {
      "image/png": "[encoded data removed]",
      "text/plain": [
       "<Figure size 640x480 with 1 Axes>"
      ]
     },
     "metadata": {},
     "output_type": "display_data"
    }
   ],
   "source": [
    "# 대여날짜 별 대여건수 시각화\n",
    "plt.plot(df_count.index, df_count.values)\n",
    "plt.title('서울공공자전거 대여날짜 별 대여건수')\n",
    "plt.show()"
   ]
  },
  {
   "cell_type": "markdown",
   "id": "83c0ac75",
   "metadata": {
    "id": "83c0ac75"
   },
   "source": [
    "## 대여날짜 별 이용시간\n",
    "* groupby\n",
    "* to_frame"
   ]
  },
  {
   "cell_type": "code",
   "execution_count": 25,
   "id": "3538de01",
   "metadata": {
    "id": "3538de01",
    "outputId": "8db39067-73dd-493a-99a6-4d520e03e74b",
    "scrolled": true
   },
   "outputs": [
    {
     "data": {
      "text/html": [
       "<div>\n",
       "<style scoped>\n",
       "    .dataframe tbody tr th:only-of-type {\n",
       "        vertical-align: middle;\n",
       "    }\n",
       "\n",
       "    .dataframe tbody tr th {\n",
       "        vertical-align: top;\n",
       "    }\n",
       "\n",
       "    .dataframe thead th {\n",
       "        text-align: right;\n",
       "    }\n",
       "</style>\n",
       "<table border=\"1\" class=\"dataframe\">\n",
       "  <thead>\n",
       "    <tr style=\"text-align: right;\">\n",
       "      <th></th>\n",
       "      <th>이용시간</th>\n",
       "    </tr>\n",
       "    <tr>\n",
       "      <th>대여날짜</th>\n",
       "      <th></th>\n",
       "    </tr>\n",
       "  </thead>\n",
       "  <tbody>\n",
       "    <tr>\n",
       "      <th>2021-01-01</th>\n",
       "      <td>692309.0</td>\n",
       "    </tr>\n",
       "    <tr>\n",
       "      <th>2021-01-02</th>\n",
       "      <td>686580.0</td>\n",
       "    </tr>\n",
       "    <tr>\n",
       "      <th>2021-01-03</th>\n",
       "      <td>609571.0</td>\n",
       "    </tr>\n",
       "    <tr>\n",
       "      <th>2021-01-04</th>\n",
       "      <td>750721.0</td>\n",
       "    </tr>\n",
       "    <tr>\n",
       "      <th>2021-01-05</th>\n",
       "      <td>610227.0</td>\n",
       "    </tr>\n",
       "    <tr>\n",
       "      <th>...</th>\n",
       "      <td>...</td>\n",
       "    </tr>\n",
       "    <tr>\n",
       "      <th>2021-06-26</th>\n",
       "      <td>3168288.0</td>\n",
       "    </tr>\n",
       "    <tr>\n",
       "      <th>2021-06-27</th>\n",
       "      <td>2706168.0</td>\n",
       "    </tr>\n",
       "    <tr>\n",
       "      <th>2021-06-28</th>\n",
       "      <td>2405249.0</td>\n",
       "    </tr>\n",
       "    <tr>\n",
       "      <th>2021-06-29</th>\n",
       "      <td>2530020.0</td>\n",
       "    </tr>\n",
       "    <tr>\n",
       "      <th>2021-06-30</th>\n",
       "      <td>2950342.0</td>\n",
       "    </tr>\n",
       "  </tbody>\n",
       "</table>\n",
       "<p>181 rows × 1 columns</p>\n",
       "</div>"
      ],
      "text/plain": [
       "                 이용시간\n",
       "대여날짜                 \n",
       "2021-01-01   692309.0\n",
       "2021-01-02   686580.0\n",
       "2021-01-03   609571.0\n",
       "2021-01-04   750721.0\n",
       "2021-01-05   610227.0\n",
       "...               ...\n",
       "2021-06-26  3168288.0\n",
       "2021-06-27  2706168.0\n",
       "2021-06-28  2405249.0\n",
       "2021-06-29  2530020.0\n",
       "2021-06-30  2950342.0\n",
       "\n",
       "[181 rows x 1 columns]"
      ]
     },
     "execution_count": 25,
     "metadata": {},
     "output_type": "execute_result"
    }
   ],
   "source": [
    "# 대여날짜 별 이용시간 추출\n",
    "df_time = df.groupby('대여날짜')['이용시간'].sum().to_frame()\n",
    "df_time"
   ]
  },
  {
   "cell_type": "code",
   "execution_count": 26,
   "id": "1d2ba53c",
   "metadata": {
    "id": "1d2ba53c",
    "outputId": "53f5cd27-33aa-4503-da10-0c10a65acb23",
    "scrolled": true
   },
   "outputs": [
    {
     "data": {
      "image/png": "[encoded data removed]",
      "text/plain": [
       "<Figure size 640x480 with 1 Axes>"
      ]
     },
     "metadata": {},
     "output_type": "display_data"
    }
   ],
   "source": [
    "# 대여날짜 별 이용시간 시각화\n",
    "plt.plot(df_time.index, df_time.values)\n",
    "plt.title('서울공공자전거 대여날짜 별 이용시간')\n",
    "plt.show()"
   ]
  },
  {
   "cell_type": "markdown",
   "id": "68f59bec",
   "metadata": {
    "id": "68f59bec"
   },
   "source": [
    "## 대여날짜 별 이용 거리"
   ]
  },
  {
   "cell_type": "code",
   "execution_count": 27,
   "id": "a9dad299",
   "metadata": {
    "id": "a9dad299",
    "outputId": "ed97cada-1f8d-45ae-8c80-9eae9b31d62e"
   },
   "outputs": [
    {
     "data": {
      "text/html": [
       "<div>\n",
       "<style scoped>\n",
       "    .dataframe tbody tr th:only-of-type {\n",
       "        vertical-align: middle;\n",
       "    }\n",
       "\n",
       "    .dataframe tbody tr th {\n",
       "        vertical-align: top;\n",
       "    }\n",
       "\n",
       "    .dataframe thead th {\n",
       "        text-align: right;\n",
       "    }\n",
       "</style>\n",
       "<table border=\"1\" class=\"dataframe\">\n",
       "  <thead>\n",
       "    <tr style=\"text-align: right;\">\n",
       "      <th></th>\n",
       "      <th>이용거리</th>\n",
       "    </tr>\n",
       "    <tr>\n",
       "      <th>대여날짜</th>\n",
       "      <th></th>\n",
       "    </tr>\n",
       "  </thead>\n",
       "  <tbody>\n",
       "    <tr>\n",
       "      <th>2021-01-01</th>\n",
       "      <td>4.613529e+07</td>\n",
       "    </tr>\n",
       "    <tr>\n",
       "      <th>2021-01-02</th>\n",
       "      <td>4.409618e+07</td>\n",
       "    </tr>\n",
       "    <tr>\n",
       "      <th>2021-01-03</th>\n",
       "      <td>4.059830e+07</td>\n",
       "    </tr>\n",
       "    <tr>\n",
       "      <th>2021-01-04</th>\n",
       "      <td>5.249645e+07</td>\n",
       "    </tr>\n",
       "    <tr>\n",
       "      <th>2021-01-05</th>\n",
       "      <td>6.944856e+07</td>\n",
       "    </tr>\n",
       "    <tr>\n",
       "      <th>...</th>\n",
       "      <td>...</td>\n",
       "    </tr>\n",
       "    <tr>\n",
       "      <th>2021-06-26</th>\n",
       "      <td>3.635015e+08</td>\n",
       "    </tr>\n",
       "    <tr>\n",
       "      <th>2021-06-27</th>\n",
       "      <td>3.078146e+08</td>\n",
       "    </tr>\n",
       "    <tr>\n",
       "      <th>2021-06-28</th>\n",
       "      <td>2.828124e+08</td>\n",
       "    </tr>\n",
       "    <tr>\n",
       "      <th>2021-06-29</th>\n",
       "      <td>3.031029e+08</td>\n",
       "    </tr>\n",
       "    <tr>\n",
       "      <th>2021-06-30</th>\n",
       "      <td>3.395277e+08</td>\n",
       "    </tr>\n",
       "  </tbody>\n",
       "</table>\n",
       "<p>181 rows × 1 columns</p>\n",
       "</div>"
      ],
      "text/plain": [
       "                    이용거리\n",
       "대여날짜                    \n",
       "2021-01-01  4.613529e+07\n",
       "2021-01-02  4.409618e+07\n",
       "2021-01-03  4.059830e+07\n",
       "2021-01-04  5.249645e+07\n",
       "2021-01-05  6.944856e+07\n",
       "...                  ...\n",
       "2021-06-26  3.635015e+08\n",
       "2021-06-27  3.078146e+08\n",
       "2021-06-28  2.828124e+08\n",
       "2021-06-29  3.031029e+08\n",
       "2021-06-30  3.395277e+08\n",
       "\n",
       "[181 rows x 1 columns]"
      ]
     },
     "execution_count": 27,
     "metadata": {},
     "output_type": "execute_result"
    }
   ],
   "source": [
    "# 대여날짜 별 이용거리 추출\n",
    "df_distance = df.groupby('대여날짜')['이용거리'].sum().to_frame()\n",
    "df_distance"
   ]
  },
  {
   "cell_type": "code",
   "execution_count": 28,
   "id": "bc1cda84",
   "metadata": {
    "id": "bc1cda84",
    "outputId": "dd869e63-3836-4e8e-ac61-be03a02a91d3"
   },
   "outputs": [
    {
     "data": {
      "image/png": "[encoded data removed]",
      "text/plain": [
       "<Figure size 640x480 with 1 Axes>"
      ]
     },
     "metadata": {},
     "output_type": "display_data"
    }
   ],
   "source": [
    "# 대여날짜 별 이용거리 시각화\n",
    "plt.plot(df_distance.index, df_distance.values)\n",
    "plt.title('서울공공자전거 대여날짜 별 이용거리')\n",
    "plt.show()"
   ]
  },
  {
   "cell_type": "markdown",
   "id": "b25c9d74",
   "metadata": {
    "id": "b25c9d74"
   },
   "source": [
    "## 데이터프레임 합치기"
   ]
  },
  {
   "cell_type": "code",
   "execution_count": 29,
   "id": "de73e2b3",
   "metadata": {
    "id": "de73e2b3",
    "outputId": "ba473431-6704-453f-98cb-4ac430f18b41"
   },
   "outputs": [
    {
     "data": {
      "text/html": [
       "<div>\n",
       "<style scoped>\n",
       "    .dataframe tbody tr th:only-of-type {\n",
       "        vertical-align: middle;\n",
       "    }\n",
       "\n",
       "    .dataframe tbody tr th {\n",
       "        vertical-align: top;\n",
       "    }\n",
       "\n",
       "    .dataframe thead th {\n",
       "        text-align: right;\n",
       "    }\n",
       "</style>\n",
       "<table border=\"1\" class=\"dataframe\">\n",
       "  <thead>\n",
       "    <tr style=\"text-align: right;\">\n",
       "      <th></th>\n",
       "      <th>이용시간</th>\n",
       "      <th>이용거리</th>\n",
       "      <th>대여일시</th>\n",
       "    </tr>\n",
       "    <tr>\n",
       "      <th>대여날짜</th>\n",
       "      <th></th>\n",
       "      <th></th>\n",
       "      <th></th>\n",
       "    </tr>\n",
       "  </thead>\n",
       "  <tbody>\n",
       "    <tr>\n",
       "      <th>2021-01-01</th>\n",
       "      <td>692309.0</td>\n",
       "      <td>4.613529e+07</td>\n",
       "      <td>22119</td>\n",
       "    </tr>\n",
       "    <tr>\n",
       "      <th>2021-01-02</th>\n",
       "      <td>686580.0</td>\n",
       "      <td>4.409618e+07</td>\n",
       "      <td>23463</td>\n",
       "    </tr>\n",
       "    <tr>\n",
       "      <th>2021-01-03</th>\n",
       "      <td>609571.0</td>\n",
       "      <td>4.059830e+07</td>\n",
       "      <td>21656</td>\n",
       "    </tr>\n",
       "    <tr>\n",
       "      <th>2021-01-04</th>\n",
       "      <td>750721.0</td>\n",
       "      <td>5.249645e+07</td>\n",
       "      <td>32732</td>\n",
       "    </tr>\n",
       "    <tr>\n",
       "      <th>2021-01-05</th>\n",
       "      <td>610227.0</td>\n",
       "      <td>6.944856e+07</td>\n",
       "      <td>28819</td>\n",
       "    </tr>\n",
       "    <tr>\n",
       "      <th>...</th>\n",
       "      <td>...</td>\n",
       "      <td>...</td>\n",
       "      <td>...</td>\n",
       "    </tr>\n",
       "    <tr>\n",
       "      <th>2021-06-26</th>\n",
       "      <td>3168288.0</td>\n",
       "      <td>3.635015e+08</td>\n",
       "      <td>105414</td>\n",
       "    </tr>\n",
       "    <tr>\n",
       "      <th>2021-06-27</th>\n",
       "      <td>2706168.0</td>\n",
       "      <td>3.078146e+08</td>\n",
       "      <td>92486</td>\n",
       "    </tr>\n",
       "    <tr>\n",
       "      <th>2021-06-28</th>\n",
       "      <td>2405249.0</td>\n",
       "      <td>2.828124e+08</td>\n",
       "      <td>105882</td>\n",
       "    </tr>\n",
       "    <tr>\n",
       "      <th>2021-06-29</th>\n",
       "      <td>2530020.0</td>\n",
       "      <td>3.031029e+08</td>\n",
       "      <td>111436</td>\n",
       "    </tr>\n",
       "    <tr>\n",
       "      <th>2021-06-30</th>\n",
       "      <td>2950342.0</td>\n",
       "      <td>3.395277e+08</td>\n",
       "      <td>121632</td>\n",
       "    </tr>\n",
       "  </tbody>\n",
       "</table>\n",
       "<p>181 rows × 3 columns</p>\n",
       "</div>"
      ],
      "text/plain": [
       "                 이용시간          이용거리    대여일시\n",
       "대여날짜                                       \n",
       "2021-01-01   692309.0  4.613529e+07   22119\n",
       "2021-01-02   686580.0  4.409618e+07   23463\n",
       "2021-01-03   609571.0  4.059830e+07   21656\n",
       "2021-01-04   750721.0  5.249645e+07   32732\n",
       "2021-01-05   610227.0  6.944856e+07   28819\n",
       "...               ...           ...     ...\n",
       "2021-06-26  3168288.0  3.635015e+08  105414\n",
       "2021-06-27  2706168.0  3.078146e+08   92486\n",
       "2021-06-28  2405249.0  2.828124e+08  105882\n",
       "2021-06-29  2530020.0  3.031029e+08  111436\n",
       "2021-06-30  2950342.0  3.395277e+08  121632\n",
       "\n",
       "[181 rows x 3 columns]"
      ]
     },
     "execution_count": 29,
     "metadata": {},
     "output_type": "execute_result"
    }
   ],
   "source": [
    "df_date = pd.concat([df_time, df_distance, df_count], axis=1)\n",
    "df_date"
   ]
  },
  {
   "cell_type": "markdown",
   "id": "da51253c",
   "metadata": {
    "id": "da51253c"
   },
   "source": [
    "# 시간대별 대여/반납 현황"
   ]
  },
  {
   "cell_type": "markdown",
   "id": "c3b379c3",
   "metadata": {
    "id": "c3b379c3"
   },
   "source": [
    "## 대여시간, 반납시간 컬럼 추가"
   ]
  },
  {
   "cell_type": "code",
   "execution_count": 30,
   "id": "7e063bc2",
   "metadata": {
    "id": "7e063bc2"
   },
   "outputs": [],
   "source": [
    "df['대여시간'] = df['대여일시'].dt.hour"
   ]
  },
  {
   "cell_type": "code",
   "execution_count": 31,
   "id": "14b9ad9e",
   "metadata": {
    "id": "14b9ad9e"
   },
   "outputs": [],
   "source": [
    "df['반납시간'] = df['반납일시'].dt.hour"
   ]
  },
  {
   "cell_type": "code",
   "execution_count": 32,
   "id": "c84e1a21",
   "metadata": {
    "id": "c84e1a21",
    "outputId": "6141df20-34e5-423b-92e0-46f54deb2579"
   },
   "outputs": [
    {
     "data": {
      "text/plain": [
       "대여일시        datetime64[ns]\n",
       "대여 대여소번호          category\n",
       "대여 대여소명             object\n",
       "반납일시        datetime64[ns]\n",
       "반납대여소번호           category\n",
       "반납대여소명              object\n",
       "이용시간               float64\n",
       "이용거리               float64\n",
       "대여날짜                object\n",
       "대여시간                 int32\n",
       "반납시간                 int32\n",
       "dtype: object"
      ]
     },
     "execution_count": 32,
     "metadata": {},
     "output_type": "execute_result"
    }
   ],
   "source": [
    "df.dtypes"
   ]
  },
  {
   "cell_type": "code",
   "execution_count": 33,
   "id": "bf3a360c-0bf1-416a-9aa9-e5de9b35cc9a",
   "metadata": {
    "id": "bf3a360c-0bf1-416a-9aa9-e5de9b35cc9a",
    "outputId": "147bc23f-ddc0-4b49-d94a-2e8002203bd8"
   },
   "outputs": [
    {
     "data": {
      "text/html": [
       "<div>\n",
       "<style scoped>\n",
       "    .dataframe tbody tr th:only-of-type {\n",
       "        vertical-align: middle;\n",
       "    }\n",
       "\n",
       "    .dataframe tbody tr th {\n",
       "        vertical-align: top;\n",
       "    }\n",
       "\n",
       "    .dataframe thead th {\n",
       "        text-align: right;\n",
       "    }\n",
       "</style>\n",
       "<table border=\"1\" class=\"dataframe\">\n",
       "  <thead>\n",
       "    <tr style=\"text-align: right;\">\n",
       "      <th></th>\n",
       "      <th>대여일시</th>\n",
       "      <th>대여 대여소번호</th>\n",
       "      <th>대여 대여소명</th>\n",
       "      <th>반납일시</th>\n",
       "      <th>반납대여소번호</th>\n",
       "      <th>반납대여소명</th>\n",
       "      <th>이용시간</th>\n",
       "      <th>이용거리</th>\n",
       "      <th>대여날짜</th>\n",
       "      <th>대여시간</th>\n",
       "      <th>반납시간</th>\n",
       "    </tr>\n",
       "  </thead>\n",
       "  <tbody>\n",
       "    <tr>\n",
       "      <th>0</th>\n",
       "      <td>2021-01-02 20:50:36</td>\n",
       "      <td>3</td>\n",
       "      <td>중랑센터</td>\n",
       "      <td>2021-01-02 21:15:41</td>\n",
       "      <td>668</td>\n",
       "      <td>서울축산농협(장안지점)</td>\n",
       "      <td>25.0</td>\n",
       "      <td>0.00</td>\n",
       "      <td>2021-01-02</td>\n",
       "      <td>20</td>\n",
       "      <td>21</td>\n",
       "    </tr>\n",
       "    <tr>\n",
       "      <th>1</th>\n",
       "      <td>2021-01-04 16:02:12</td>\n",
       "      <td>3</td>\n",
       "      <td>중랑센터</td>\n",
       "      <td>2021-01-04 16:17:06</td>\n",
       "      <td>668</td>\n",
       "      <td>서울축산농협(장안지점)</td>\n",
       "      <td>14.0</td>\n",
       "      <td>0.00</td>\n",
       "      <td>2021-01-04</td>\n",
       "      <td>16</td>\n",
       "      <td>16</td>\n",
       "    </tr>\n",
       "    <tr>\n",
       "      <th>2</th>\n",
       "      <td>2021-01-13 21:02:05</td>\n",
       "      <td>3</td>\n",
       "      <td>중랑센터</td>\n",
       "      <td>2021-01-13 21:14:04</td>\n",
       "      <td>668</td>\n",
       "      <td>서울축산농협(장안지점)</td>\n",
       "      <td>11.0</td>\n",
       "      <td>1853.99</td>\n",
       "      <td>2021-01-13</td>\n",
       "      <td>21</td>\n",
       "      <td>21</td>\n",
       "    </tr>\n",
       "    <tr>\n",
       "      <th>3</th>\n",
       "      <td>2021-01-14 21:02:55</td>\n",
       "      <td>3</td>\n",
       "      <td>중랑센터</td>\n",
       "      <td>2021-01-14 21:13:41</td>\n",
       "      <td>668</td>\n",
       "      <td>서울축산농협(장안지점)</td>\n",
       "      <td>10.0</td>\n",
       "      <td>0.00</td>\n",
       "      <td>2021-01-14</td>\n",
       "      <td>21</td>\n",
       "      <td>21</td>\n",
       "    </tr>\n",
       "    <tr>\n",
       "      <th>4</th>\n",
       "      <td>2021-01-18 18:02:08</td>\n",
       "      <td>3</td>\n",
       "      <td>중랑센터</td>\n",
       "      <td>2021-01-18 18:15:22</td>\n",
       "      <td>540</td>\n",
       "      <td>군자역 7번출구 베스트샵 앞</td>\n",
       "      <td>13.0</td>\n",
       "      <td>2291.05</td>\n",
       "      <td>2021-01-18</td>\n",
       "      <td>18</td>\n",
       "      <td>18</td>\n",
       "    </tr>\n",
       "  </tbody>\n",
       "</table>\n",
       "</div>"
      ],
      "text/plain": [
       "                 대여일시 대여 대여소번호 대여 대여소명                반납일시 반납대여소번호  \\\n",
       "0 2021-01-02 20:50:36        3    중랑센터 2021-01-02 21:15:41     668   \n",
       "1 2021-01-04 16:02:12        3    중랑센터 2021-01-04 16:17:06     668   \n",
       "2 2021-01-13 21:02:05        3    중랑센터 2021-01-13 21:14:04     668   \n",
       "3 2021-01-14 21:02:55        3    중랑센터 2021-01-14 21:13:41     668   \n",
       "4 2021-01-18 18:02:08        3    중랑센터 2021-01-18 18:15:22     540   \n",
       "\n",
       "            반납대여소명  이용시간     이용거리        대여날짜  대여시간  반납시간  \n",
       "0     서울축산농협(장안지점)  25.0     0.00  2021-01-02    20    21  \n",
       "1     서울축산농협(장안지점)  14.0     0.00  2021-01-04    16    16  \n",
       "2     서울축산농협(장안지점)  11.0  1853.99  2021-01-13    21    21  \n",
       "3     서울축산농협(장안지점)  10.0     0.00  2021-01-14    21    21  \n",
       "4  군자역 7번출구 베스트샵 앞  13.0  2291.05  2021-01-18    18    18  "
      ]
     },
     "execution_count": 33,
     "metadata": {},
     "output_type": "execute_result"
    }
   ],
   "source": [
    "df.head()"
   ]
  },
  {
   "cell_type": "markdown",
   "id": "e22fc1a4",
   "metadata": {
    "id": "e22fc1a4"
   },
   "source": [
    "## 시간대별 대여/반납 현황"
   ]
  },
  {
   "cell_type": "code",
   "execution_count": 38,
   "id": "cdd3b4d3",
   "metadata": {
    "id": "cdd3b4d3",
    "outputId": "ebed162b-0022-49de-c4c8-ddef9a4e951a"
   },
   "outputs": [
    {
     "data": {
      "text/plain": [
       "대여시간\n",
       "18    1432779\n",
       "17    1178279\n",
       "19     984476\n",
       "16     934211\n",
       "20     825031\n",
       "15     816040\n",
       "8      808506\n",
       "21     770378\n",
       "14     725175\n",
       "13     667237\n",
       "22     643611\n",
       "12     623065\n",
       "11     537810\n",
       "9      499995\n",
       "7      486775\n",
       "10     438084\n",
       "23     341859\n",
       "0      240025\n",
       "6      188920\n",
       "1      158905\n",
       "2      103629\n",
       "5       84713\n",
       "3       68710\n",
       "4       55391\n",
       "Name: count, dtype: int64"
      ]
     },
     "execution_count": 38,
     "metadata": {},
     "output_type": "execute_result"
    }
   ],
   "source": [
    "# 시간대별 대여현황\n",
    "s_rental = df['대여시간'].value_counts()\n",
    "s_rental"
   ]
  },
  {
   "cell_type": "code",
   "execution_count": 39,
   "id": "01786216",
   "metadata": {
    "id": "01786216",
    "outputId": "ef13fcc0-f26e-4e94-9496-d294042e10c0"
   },
   "outputs": [
    {
     "data": {
      "text/plain": [
       "반납시간\n",
       "18    1437723\n",
       "19    1125447\n",
       "17    1097623\n",
       "16     880629\n",
       "20     864644\n",
       "8      817076\n",
       "21     812357\n",
       "22     768302\n",
       "15     749940\n",
       "14     657826\n",
       "13     628908\n",
       "12     591577\n",
       "9      499033\n",
       "11     470053\n",
       "23     447477\n",
       "10     402350\n",
       "7      389007\n",
       "0      290169\n",
       "1      190954\n",
       "6      152003\n",
       "2      125912\n",
       "3       80243\n",
       "5       73983\n",
       "4       60368\n",
       "Name: count, dtype: int64"
      ]
     },
     "execution_count": 39,
     "metadata": {},
     "output_type": "execute_result"
    }
   ],
   "source": [
    "# 시간대별 반납현황\n",
    "s_return = df['반납시간'].value_counts()\n",
    "s_return"
   ]
  },
  {
   "cell_type": "markdown",
   "id": "0a305d7d",
   "metadata": {
    "id": "0a305d7d"
   },
   "source": [
    "## 시각화"
   ]
  },
  {
   "cell_type": "code",
   "execution_count": 41,
   "id": "82ec1764",
   "metadata": {
    "id": "82ec1764"
   },
   "outputs": [
    {
     "data": {
      "image/png": "[encoded data removed]",
      "text/plain": [
       "<Figure size 640x480 with 1 Axes>"
      ]
     },
     "metadata": {},
     "output_type": "display_data"
    }
   ],
   "source": [
    "# 시간대별 공공자전거 대여건수 시각화\n",
    "s_rental = s_rental.sort_index()\n",
    "x = s_rental.index\n",
    "y = s_rental.values\n",
    "plt.bar(x,y)\n",
    "plt.title('시간대별 공공자전거 대여건수')\n",
    "plt.xlabel('대여시간')\n",
    "plt.ylabel('대여건수')\n",
    "plt.show()"
   ]
  },
  {
   "cell_type": "code",
   "execution_count": 96,
   "id": "cad86da4",
   "metadata": {
    "id": "cad86da4"
   },
   "outputs": [
    {
     "data": {
      "image/png": "[encoded data removed]",
      "text/plain": [
       "<Figure size 640x480 with 1 Axes>"
      ]
     },
     "metadata": {},
     "output_type": "display_data"
    }
   ],
   "source": [
    "# 시간대별 공공자전거 반납건수 시각화\n",
    "s_return = s_return.sort_index()\n",
    "x = s_return.index\n",
    "y = s_return.values\n",
    "plt.bar(x,y)\n",
    "plt.title('시간대별 공공자전거 대여건수')\n",
    "plt.xlabel('대여시간')\n",
    "plt.ylabel('대여건수')\n",
    "plt.show()"
   ]
  },
  {
   "cell_type": "markdown",
   "id": "db5483b0",
   "metadata": {
    "id": "db5483b0"
   },
   "source": [
    "# 대여소별 대여/반납 현황"
   ]
  },
  {
   "cell_type": "markdown",
   "id": "b0bd86ec",
   "metadata": {
    "id": "b0bd86ec"
   },
   "source": [
    "## 대여소 현황"
   ]
  },
  {
   "cell_type": "code",
   "execution_count": 43,
   "id": "d2ed7827",
   "metadata": {
    "id": "d2ed7827"
   },
   "outputs": [
    {
     "data": {
      "text/plain": [
       "0             3\n",
       "1             3\n",
       "2             3\n",
       "3             3\n",
       "4             3\n",
       "           ... \n",
       "3445939     152\n",
       "3445940     152\n",
       "3445941     152\n",
       "3445942    2220\n",
       "3445943    2220\n",
       "Name: 대여 대여소번호, Length: 13613604, dtype: category\n",
       "Categories (2493, int64): [3, 5, 10, 101, ..., 9999, 88888, 99997, 99999]"
      ]
     },
     "execution_count": 43,
     "metadata": {},
     "output_type": "execute_result"
    }
   ],
   "source": [
    "# 대여 대여소번호 갯수\n",
    "df['대여 대여소번호']"
   ]
  },
  {
   "cell_type": "code",
   "execution_count": 44,
   "id": "f3cad82c",
   "metadata": {
    "id": "f3cad82c",
    "scrolled": true
   },
   "outputs": [
    {
     "data": {
      "text/plain": [
       "0            668\n",
       "1            668\n",
       "2            668\n",
       "3            668\n",
       "4            540\n",
       "           ...  \n",
       "3445939    00126\n",
       "3445940    00437\n",
       "3445941    00437\n",
       "3445942    02526\n",
       "3445943    02526\n",
       "Name: 반납대여소번호, Length: 13613604, dtype: category\n",
       "Categories (4811, object): [3, 10, 101, 102, ..., '화랑대역 2번출구 앞', '휘경sk뷰아파트 앞', '휘경여중고삼거리', '흑석역 4번출구']"
      ]
     },
     "execution_count": 44,
     "metadata": {},
     "output_type": "execute_result"
    }
   ],
   "source": [
    "# 반납대여소번호 갯수\n",
    "df['반납대여소번호']"
   ]
  },
  {
   "cell_type": "code",
   "execution_count": 50,
   "id": "0719fdd6",
   "metadata": {
    "id": "0719fdd6"
   },
   "outputs": [],
   "source": [
    "# 반납대여소 번호 처리 (str형으로 변환)\n",
    "df['반납대여소번호'] = df['반납대여소번호'].astype('str')"
   ]
  },
  {
   "cell_type": "code",
   "execution_count": 52,
   "id": "78bfb89a",
   "metadata": {
    "id": "78bfb89a"
   },
   "outputs": [],
   "source": [
    "# 반납대여소 번호 처리 (왼쪽의 '0' 제거)\n",
    "df['반납대여소번호']= df['반납대여소번호'].str.lstrip('0')"
   ]
  },
  {
   "cell_type": "code",
   "execution_count": 55,
   "id": "30023227",
   "metadata": {
    "id": "30023227"
   },
   "outputs": [
    {
     "data": {
      "text/plain": [
       "대여일시        datetime64[ns]\n",
       "대여 대여소번호          category\n",
       "대여 대여소명             object\n",
       "반납일시        datetime64[ns]\n",
       "반납대여소번호              int32\n",
       "반납대여소명              object\n",
       "이용시간               float64\n",
       "이용거리               float64\n",
       "대여날짜                object\n",
       "대여시간                 int32\n",
       "반납시간                 int32\n",
       "반납대여소               object\n",
       "dtype: object"
      ]
     },
     "execution_count": 55,
     "metadata": {},
     "output_type": "execute_result"
    }
   ],
   "source": [
    "# 반납대여소 번호 처리 (int형으로 변환)\n",
    "df['반납대여소번호']=df['반납대여소번호'].astype('int')\n",
    "df.dtypes"
   ]
  },
  {
   "cell_type": "code",
   "execution_count": 57,
   "id": "96c55adc",
   "metadata": {
    "id": "96c55adc"
   },
   "outputs": [
    {
     "name": "stdout",
     "output_type": "stream",
     "text": [
      "<class 'pandas.core.frame.DataFrame'>\n",
      "Index: 13613604 entries, 0 to 3445943\n",
      "Data columns (total 12 columns):\n",
      " #   Column    Dtype         \n",
      "---  ------    -----         \n",
      " 0   대여일시      datetime64[ns]\n",
      " 1   대여 대여소번호  category      \n",
      " 2   대여 대여소명   object        \n",
      " 3   반납일시      datetime64[ns]\n",
      " 4   반납대여소번호   category      \n",
      " 5   반납대여소명    object        \n",
      " 6   이용시간      float64       \n",
      " 7   이용거리      float64       \n",
      " 8   대여날짜      object        \n",
      " 9   대여시간      int32         \n",
      " 10  반납시간      int32         \n",
      " 11  반납대여소     object        \n",
      "dtypes: category(2), datetime64[ns](2), float64(2), int32(2), object(4)\n",
      "memory usage: 1.1+ GB\n"
     ]
    }
   ],
   "source": [
    "# 반납대여소 번호 처리 (category형으로 변환)\n",
    "df['반납대여소번호']=df['반납대여소번호'].astype('category')\n",
    "df.info()"
   ]
  },
  {
   "cell_type": "code",
   "execution_count": 59,
   "id": "1a5f1bd4-158e-419d-94f4-b131402fd048",
   "metadata": {},
   "outputs": [
    {
     "data": {
      "text/html": [
       "<div>\n",
       "<style scoped>\n",
       "    .dataframe tbody tr th:only-of-type {\n",
       "        vertical-align: middle;\n",
       "    }\n",
       "\n",
       "    .dataframe tbody tr th {\n",
       "        vertical-align: top;\n",
       "    }\n",
       "\n",
       "    .dataframe thead th {\n",
       "        text-align: right;\n",
       "    }\n",
       "</style>\n",
       "<table border=\"1\" class=\"dataframe\">\n",
       "  <thead>\n",
       "    <tr style=\"text-align: right;\">\n",
       "      <th></th>\n",
       "      <th>대여일시</th>\n",
       "      <th>대여 대여소번호</th>\n",
       "      <th>대여 대여소명</th>\n",
       "      <th>반납일시</th>\n",
       "      <th>반납대여소번호</th>\n",
       "      <th>반납대여소명</th>\n",
       "      <th>이용시간</th>\n",
       "      <th>이용거리</th>\n",
       "      <th>대여날짜</th>\n",
       "      <th>대여시간</th>\n",
       "      <th>반납시간</th>\n",
       "      <th>반납대여소</th>\n",
       "    </tr>\n",
       "  </thead>\n",
       "  <tbody>\n",
       "    <tr>\n",
       "      <th>3445934</th>\n",
       "      <td>2021-06-30 22:49:28</td>\n",
       "      <td>152</td>\n",
       "      <td>마포구민체육센터 앞</td>\n",
       "      <td>2021-07-01 02:18:01</td>\n",
       "      <td>102</td>\n",
       "      <td>망원역 1번출구 앞</td>\n",
       "      <td>208.0</td>\n",
       "      <td>7218.39</td>\n",
       "      <td>2021-06-30</td>\n",
       "      <td>22</td>\n",
       "      <td>2</td>\n",
       "      <td>00102</td>\n",
       "    </tr>\n",
       "    <tr>\n",
       "      <th>3445935</th>\n",
       "      <td>2021-06-30 22:10:18</td>\n",
       "      <td>1966</td>\n",
       "      <td>한마을아파트 정문상가</td>\n",
       "      <td>2021-07-01 02:18:46</td>\n",
       "      <td>1930</td>\n",
       "      <td>개봉지구대 개봉치안센터</td>\n",
       "      <td>248.0</td>\n",
       "      <td>2400.00</td>\n",
       "      <td>2021-06-30</td>\n",
       "      <td>22</td>\n",
       "      <td>2</td>\n",
       "      <td>01930</td>\n",
       "    </tr>\n",
       "    <tr>\n",
       "      <th>3445936</th>\n",
       "      <td>2021-06-30 22:51:03</td>\n",
       "      <td>1931</td>\n",
       "      <td>개봉역(북측광장)</td>\n",
       "      <td>2021-07-01 02:35:58</td>\n",
       "      <td>2820</td>\n",
       "      <td>신세기아파트 앞</td>\n",
       "      <td>224.0</td>\n",
       "      <td>1668.29</td>\n",
       "      <td>2021-06-30</td>\n",
       "      <td>22</td>\n",
       "      <td>2</td>\n",
       "      <td>02820</td>\n",
       "    </tr>\n",
       "    <tr>\n",
       "      <th>3445937</th>\n",
       "      <td>2021-06-30 20:48:41</td>\n",
       "      <td>3011</td>\n",
       "      <td>경의선(노고산동)</td>\n",
       "      <td>2021-07-01 02:36:55</td>\n",
       "      <td>3011</td>\n",
       "      <td>경의선(노고산동)</td>\n",
       "      <td>348.0</td>\n",
       "      <td>0.00</td>\n",
       "      <td>2021-06-30</td>\n",
       "      <td>20</td>\n",
       "      <td>2</td>\n",
       "      <td>03011</td>\n",
       "    </tr>\n",
       "    <tr>\n",
       "      <th>3445938</th>\n",
       "      <td>2021-06-30 21:48:41</td>\n",
       "      <td>2219</td>\n",
       "      <td>고속터미널역 8-1번, 8-2번 출구 사이</td>\n",
       "      <td>2021-07-01 03:51:04</td>\n",
       "      <td>2535</td>\n",
       "      <td>신반포역 3번출구 뒤</td>\n",
       "      <td>362.0</td>\n",
       "      <td>5276.44</td>\n",
       "      <td>2021-06-30</td>\n",
       "      <td>21</td>\n",
       "      <td>3</td>\n",
       "      <td>02535</td>\n",
       "    </tr>\n",
       "    <tr>\n",
       "      <th>3445939</th>\n",
       "      <td>2021-06-30 22:44:14</td>\n",
       "      <td>152</td>\n",
       "      <td>마포구민체육센터 앞</td>\n",
       "      <td>2021-07-01 04:48:33</td>\n",
       "      <td>126</td>\n",
       "      <td>서강대 후문 옆</td>\n",
       "      <td>364.0</td>\n",
       "      <td>10153.36</td>\n",
       "      <td>2021-06-30</td>\n",
       "      <td>22</td>\n",
       "      <td>4</td>\n",
       "      <td>00126</td>\n",
       "    </tr>\n",
       "    <tr>\n",
       "      <th>3445940</th>\n",
       "      <td>2021-06-30 22:45:19</td>\n",
       "      <td>152</td>\n",
       "      <td>마포구민체육센터 앞</td>\n",
       "      <td>2021-07-01 04:52:25</td>\n",
       "      <td>437</td>\n",
       "      <td>대흥역 1번출구</td>\n",
       "      <td>367.0</td>\n",
       "      <td>10100.71</td>\n",
       "      <td>2021-06-30</td>\n",
       "      <td>22</td>\n",
       "      <td>4</td>\n",
       "      <td>00437</td>\n",
       "    </tr>\n",
       "    <tr>\n",
       "      <th>3445941</th>\n",
       "      <td>2021-06-30 22:43:43</td>\n",
       "      <td>152</td>\n",
       "      <td>마포구민체육센터 앞</td>\n",
       "      <td>2021-07-01 04:52:27</td>\n",
       "      <td>437</td>\n",
       "      <td>대흥역 1번출구</td>\n",
       "      <td>368.0</td>\n",
       "      <td>430.00</td>\n",
       "      <td>2021-06-30</td>\n",
       "      <td>22</td>\n",
       "      <td>4</td>\n",
       "      <td>00437</td>\n",
       "    </tr>\n",
       "    <tr>\n",
       "      <th>3445942</th>\n",
       "      <td>2021-06-30 22:11:14</td>\n",
       "      <td>2220</td>\n",
       "      <td>반포본동 주민센터 앞</td>\n",
       "      <td>2021-07-01 04:55:29</td>\n",
       "      <td>2526</td>\n",
       "      <td>반포경남쇼핑 앞</td>\n",
       "      <td>404.0</td>\n",
       "      <td>0.00</td>\n",
       "      <td>2021-06-30</td>\n",
       "      <td>22</td>\n",
       "      <td>4</td>\n",
       "      <td>02526</td>\n",
       "    </tr>\n",
       "    <tr>\n",
       "      <th>3445943</th>\n",
       "      <td>2021-06-30 22:12:10</td>\n",
       "      <td>2220</td>\n",
       "      <td>반포본동 주민센터 앞</td>\n",
       "      <td>2021-07-01 04:55:30</td>\n",
       "      <td>2526</td>\n",
       "      <td>반포경남쇼핑 앞</td>\n",
       "      <td>403.0</td>\n",
       "      <td>4541.22</td>\n",
       "      <td>2021-06-30</td>\n",
       "      <td>22</td>\n",
       "      <td>4</td>\n",
       "      <td>02526</td>\n",
       "    </tr>\n",
       "  </tbody>\n",
       "</table>\n",
       "</div>"
      ],
      "text/plain": [
       "                       대여일시 대여 대여소번호                  대여 대여소명  \\\n",
       "3445934 2021-06-30 22:49:28      152               마포구민체육센터 앞   \n",
       "3445935 2021-06-30 22:10:18     1966              한마을아파트 정문상가   \n",
       "3445936 2021-06-30 22:51:03     1931                개봉역(북측광장)   \n",
       "3445937 2021-06-30 20:48:41     3011                경의선(노고산동)   \n",
       "3445938 2021-06-30 21:48:41     2219  고속터미널역 8-1번, 8-2번 출구 사이   \n",
       "3445939 2021-06-30 22:44:14      152               마포구민체육센터 앞   \n",
       "3445940 2021-06-30 22:45:19      152               마포구민체육센터 앞   \n",
       "3445941 2021-06-30 22:43:43      152               마포구민체육센터 앞   \n",
       "3445942 2021-06-30 22:11:14     2220              반포본동 주민센터 앞   \n",
       "3445943 2021-06-30 22:12:10     2220              반포본동 주민센터 앞   \n",
       "\n",
       "                       반납일시 반납대여소번호        반납대여소명   이용시간      이용거리  \\\n",
       "3445934 2021-07-01 02:18:01     102    망원역 1번출구 앞  208.0   7218.39   \n",
       "3445935 2021-07-01 02:18:46    1930  개봉지구대 개봉치안센터  248.0   2400.00   \n",
       "3445936 2021-07-01 02:35:58    2820      신세기아파트 앞  224.0   1668.29   \n",
       "3445937 2021-07-01 02:36:55    3011     경의선(노고산동)  348.0      0.00   \n",
       "3445938 2021-07-01 03:51:04    2535   신반포역 3번출구 뒤  362.0   5276.44   \n",
       "3445939 2021-07-01 04:48:33     126      서강대 후문 옆  364.0  10153.36   \n",
       "3445940 2021-07-01 04:52:25     437      대흥역 1번출구  367.0  10100.71   \n",
       "3445941 2021-07-01 04:52:27     437      대흥역 1번출구  368.0    430.00   \n",
       "3445942 2021-07-01 04:55:29    2526      반포경남쇼핑 앞  404.0      0.00   \n",
       "3445943 2021-07-01 04:55:30    2526      반포경남쇼핑 앞  403.0   4541.22   \n",
       "\n",
       "               대여날짜  대여시간  반납시간  반납대여소  \n",
       "3445934  2021-06-30    22     2  00102  \n",
       "3445935  2021-06-30    22     2  01930  \n",
       "3445936  2021-06-30    22     2  02820  \n",
       "3445937  2021-06-30    20     2  03011  \n",
       "3445938  2021-06-30    21     3  02535  \n",
       "3445939  2021-06-30    22     4  00126  \n",
       "3445940  2021-06-30    22     4  00437  \n",
       "3445941  2021-06-30    22     4  00437  \n",
       "3445942  2021-06-30    22     4  02526  \n",
       "3445943  2021-06-30    22     4  02526  "
      ]
     },
     "execution_count": 59,
     "metadata": {},
     "output_type": "execute_result"
    }
   ],
   "source": [
    "df.tail(10) # 반납대여소 번호의 앞에 있는 0들은 의미가 없을수도 있음. 대여소번호는 앞에 0없이 숫자만 있음"
   ]
  },
  {
   "cell_type": "markdown",
   "id": "29d28349",
   "metadata": {
    "id": "29d28349"
   },
   "source": [
    "## 대여건수가 가장 많은 대여소 best10"
   ]
  },
  {
   "cell_type": "code",
   "execution_count": 74,
   "id": "0835a447",
   "metadata": {
    "id": "0835a447"
   },
   "outputs": [
    {
     "data": {
      "text/html": [
       "<div>\n",
       "<style scoped>\n",
       "    .dataframe tbody tr th:only-of-type {\n",
       "        vertical-align: middle;\n",
       "    }\n",
       "\n",
       "    .dataframe tbody tr th {\n",
       "        vertical-align: top;\n",
       "    }\n",
       "\n",
       "    .dataframe thead th {\n",
       "        text-align: right;\n",
       "    }\n",
       "</style>\n",
       "<table border=\"1\" class=\"dataframe\">\n",
       "  <thead>\n",
       "    <tr style=\"text-align: right;\">\n",
       "      <th></th>\n",
       "      <th></th>\n",
       "      <th>count</th>\n",
       "    </tr>\n",
       "    <tr>\n",
       "      <th>대여 대여소번호</th>\n",
       "      <th>대여 대여소명</th>\n",
       "      <th></th>\n",
       "    </tr>\n",
       "  </thead>\n",
       "  <tbody>\n",
       "    <tr>\n",
       "      <th>207</th>\n",
       "      <th>여의나루역 1번출구 앞</th>\n",
       "      <td>68994</td>\n",
       "    </tr>\n",
       "    <tr>\n",
       "      <th>502</th>\n",
       "      <th>뚝섬유원지역 1번출구 앞</th>\n",
       "      <td>68588</td>\n",
       "    </tr>\n",
       "    <tr>\n",
       "      <th>152</th>\n",
       "      <th>마포구민체육센터 앞</th>\n",
       "      <td>43535</td>\n",
       "    </tr>\n",
       "    <tr>\n",
       "      <th>2102</th>\n",
       "      <th>봉림교 교통섬</th>\n",
       "      <td>43368</td>\n",
       "    </tr>\n",
       "    <tr>\n",
       "      <th>1210</th>\n",
       "      <th>롯데월드타워(잠실역2번출구 쪽)</th>\n",
       "      <td>37149</td>\n",
       "    </tr>\n",
       "    <tr>\n",
       "      <th>2715</th>\n",
       "      <th>마곡나루역 2번 출구</th>\n",
       "      <td>36988</td>\n",
       "    </tr>\n",
       "    <tr>\n",
       "      <th>2177</th>\n",
       "      <th>신대방역 2번 출구</th>\n",
       "      <td>31971</td>\n",
       "    </tr>\n",
       "    <tr>\n",
       "      <th>272</th>\n",
       "      <th>당산육갑문</th>\n",
       "      <td>31527</td>\n",
       "    </tr>\n",
       "    <tr>\n",
       "      <th>210</th>\n",
       "      <th>IFC몰</th>\n",
       "      <td>31443</td>\n",
       "    </tr>\n",
       "    <tr>\n",
       "      <th>565</th>\n",
       "      <th>옥수역 3번출구</th>\n",
       "      <td>29811</td>\n",
       "    </tr>\n",
       "  </tbody>\n",
       "</table>\n",
       "</div>"
      ],
      "text/plain": [
       "                            count\n",
       "대여 대여소번호 대여 대여소명                 \n",
       "207      여의나루역 1번출구 앞       68994\n",
       "502      뚝섬유원지역 1번출구 앞      68588\n",
       "152      마포구민체육센터 앞         43535\n",
       "2102     봉림교 교통섬            43368\n",
       "1210     롯데월드타워(잠실역2번출구 쪽)  37149\n",
       "2715     마곡나루역 2번 출구        36988\n",
       "2177     신대방역 2번 출구         31971\n",
       "272      당산육갑문              31527\n",
       "210      IFC몰               31443\n",
       "565      옥수역 3번출구           29811"
      ]
     },
     "execution_count": 74,
     "metadata": {},
     "output_type": "execute_result"
    }
   ],
   "source": [
    "# value_counts '대여 대여소번호' '대여 대여소명'\n",
    "df[['대여 대여소번호','대여 대여소명']].value_counts()[:10].to_frame()"
   ]
  },
  {
   "cell_type": "markdown",
   "id": "65211f9b",
   "metadata": {
    "id": "65211f9b"
   },
   "source": [
    "## 반납건수가 가장 많은 대여소 best10"
   ]
  },
  {
   "cell_type": "code",
   "execution_count": 106,
   "id": "d629fea6",
   "metadata": {
    "id": "d629fea6"
   },
   "outputs": [
    {
     "data": {
      "text/html": [
       "<div>\n",
       "<style scoped>\n",
       "    .dataframe tbody tr th:only-of-type {\n",
       "        vertical-align: middle;\n",
       "    }\n",
       "\n",
       "    .dataframe tbody tr th {\n",
       "        vertical-align: top;\n",
       "    }\n",
       "\n",
       "    .dataframe thead th {\n",
       "        text-align: right;\n",
       "    }\n",
       "</style>\n",
       "<table border=\"1\" class=\"dataframe\">\n",
       "  <thead>\n",
       "    <tr style=\"text-align: right;\">\n",
       "      <th></th>\n",
       "      <th></th>\n",
       "      <th>count</th>\n",
       "    </tr>\n",
       "    <tr>\n",
       "      <th>반납대여소번호</th>\n",
       "      <th>반납대여소명</th>\n",
       "      <th></th>\n",
       "    </tr>\n",
       "  </thead>\n",
       "  <tbody>\n",
       "    <tr>\n",
       "      <th>502</th>\n",
       "      <th>뚝섬유원지역 1번출구 앞</th>\n",
       "      <td>78958</td>\n",
       "    </tr>\n",
       "    <tr>\n",
       "      <th>207</th>\n",
       "      <th>여의나루역 1번출구 앞</th>\n",
       "      <td>68966</td>\n",
       "    </tr>\n",
       "    <tr>\n",
       "      <th>152</th>\n",
       "      <th>마포구민체육센터 앞</th>\n",
       "      <td>50607</td>\n",
       "    </tr>\n",
       "    <tr>\n",
       "      <th>2102</th>\n",
       "      <th>봉림교 교통섬</th>\n",
       "      <td>44572</td>\n",
       "    </tr>\n",
       "    <tr>\n",
       "      <th>1210</th>\n",
       "      <th>롯데월드타워(잠실역2번출구 쪽)</th>\n",
       "      <td>37344</td>\n",
       "    </tr>\n",
       "    <tr>\n",
       "      <th>2715</th>\n",
       "      <th>마곡나루역 2번 출구</th>\n",
       "      <td>36876</td>\n",
       "    </tr>\n",
       "    <tr>\n",
       "      <th>272</th>\n",
       "      <th>당산육갑문</th>\n",
       "      <td>34276</td>\n",
       "    </tr>\n",
       "    <tr>\n",
       "      <th>210</th>\n",
       "      <th>IFC몰</th>\n",
       "      <td>33758</td>\n",
       "    </tr>\n",
       "    <tr>\n",
       "      <th>2177</th>\n",
       "      <th>신대방역 2번 출구</th>\n",
       "      <td>33159</td>\n",
       "    </tr>\n",
       "    <tr>\n",
       "      <th>565</th>\n",
       "      <th>옥수역 3번출구</th>\n",
       "      <td>32381</td>\n",
       "    </tr>\n",
       "    <tr>\n",
       "      <th>1153</th>\n",
       "      <th>발산역 1번, 9번 인근 대여소</th>\n",
       "      <td>29697</td>\n",
       "    </tr>\n",
       "    <tr>\n",
       "      <th>583</th>\n",
       "      <th>청계천 생태교실 앞</th>\n",
       "      <td>29588</td>\n",
       "    </tr>\n",
       "    <tr>\n",
       "      <th>1906</th>\n",
       "      <th>신도림역 1번 출구 앞</th>\n",
       "      <td>28727</td>\n",
       "    </tr>\n",
       "    <tr>\n",
       "      <th>3533</th>\n",
       "      <th>건대입구역 사거리(롯데백화점)</th>\n",
       "      <td>28441</td>\n",
       "    </tr>\n",
       "    <tr>\n",
       "      <th>247</th>\n",
       "      <th>당산역 10번출구 앞</th>\n",
       "      <td>28418</td>\n",
       "    </tr>\n",
       "    <tr>\n",
       "      <th>1152</th>\n",
       "      <th>마곡역교차로</th>\n",
       "      <td>28314</td>\n",
       "    </tr>\n",
       "    <tr>\n",
       "      <th>2622</th>\n",
       "      <th>올림픽공원역 3번출구</th>\n",
       "      <td>27952</td>\n",
       "    </tr>\n",
       "    <tr>\n",
       "      <th>770</th>\n",
       "      <th>목동역5번출구 교통정보센터 앞</th>\n",
       "      <td>27543</td>\n",
       "    </tr>\n",
       "    <tr>\n",
       "      <th>1911</th>\n",
       "      <th>구로디지털단지역 앞</th>\n",
       "      <td>27011</td>\n",
       "    </tr>\n",
       "    <tr>\n",
       "      <th>2262</th>\n",
       "      <th>한신16차아파트 119동 앞</th>\n",
       "      <td>26705</td>\n",
       "    </tr>\n",
       "  </tbody>\n",
       "</table>\n",
       "</div>"
      ],
      "text/plain": [
       "                           count\n",
       "반납대여소번호 반납대여소명                  \n",
       "502     뚝섬유원지역 1번출구 앞      78958\n",
       "207     여의나루역 1번출구 앞       68966\n",
       "152     마포구민체육센터 앞         50607\n",
       "2102    봉림교 교통섬            44572\n",
       "1210    롯데월드타워(잠실역2번출구 쪽)  37344\n",
       "2715    마곡나루역 2번 출구        36876\n",
       "272     당산육갑문              34276\n",
       "210     IFC몰               33758\n",
       "2177    신대방역 2번 출구         33159\n",
       "565     옥수역 3번출구           32381\n",
       "1153    발산역 1번, 9번 인근 대여소  29697\n",
       "583     청계천 생태교실 앞         29588\n",
       "1906    신도림역 1번 출구 앞       28727\n",
       "3533    건대입구역 사거리(롯데백화점)   28441\n",
       "247     당산역 10번출구 앞        28418\n",
       "1152    마곡역교차로             28314\n",
       "2622    올림픽공원역 3번출구        27952\n",
       "770     목동역5번출구 교통정보센터 앞   27543\n",
       "1911    구로디지털단지역 앞         27011\n",
       "2262    한신16차아파트 119동 앞    26705"
      ]
     },
     "execution_count": 106,
     "metadata": {},
     "output_type": "execute_result"
    }
   ],
   "source": [
    "# value_counts\n",
    "df[['반납대여소번호','반납대여소명']].value_counts()[:20].to_frame()"
   ]
  },
  {
   "cell_type": "markdown",
   "id": "cd4dd77f",
   "metadata": {
    "id": "cd4dd77f"
   },
   "source": [
    "## 여의나루역 1번출구 앞 대여소 이용현황"
   ]
  },
  {
   "cell_type": "markdown",
   "id": "1361c5fb",
   "metadata": {
    "id": "1361c5fb"
   },
   "source": [
    "### 서브셋 만들기"
   ]
  },
  {
   "cell_type": "code",
   "execution_count": 78,
   "id": "d635995d",
   "metadata": {
    "id": "d635995d"
   },
   "outputs": [
    {
     "data": {
      "text/html": [
       "<div>\n",
       "<style scoped>\n",
       "    .dataframe tbody tr th:only-of-type {\n",
       "        vertical-align: middle;\n",
       "    }\n",
       "\n",
       "    .dataframe tbody tr th {\n",
       "        vertical-align: top;\n",
       "    }\n",
       "\n",
       "    .dataframe thead th {\n",
       "        text-align: right;\n",
       "    }\n",
       "</style>\n",
       "<table border=\"1\" class=\"dataframe\">\n",
       "  <thead>\n",
       "    <tr style=\"text-align: right;\">\n",
       "      <th></th>\n",
       "      <th>대여일시</th>\n",
       "      <th>대여 대여소번호</th>\n",
       "      <th>대여 대여소명</th>\n",
       "      <th>반납일시</th>\n",
       "      <th>반납대여소번호</th>\n",
       "      <th>반납대여소명</th>\n",
       "      <th>이용시간</th>\n",
       "      <th>이용거리</th>\n",
       "      <th>대여날짜</th>\n",
       "      <th>대여시간</th>\n",
       "      <th>반납시간</th>\n",
       "      <th>반납대여소</th>\n",
       "    </tr>\n",
       "  </thead>\n",
       "  <tbody>\n",
       "    <tr>\n",
       "      <th>45838</th>\n",
       "      <td>2021-01-01 01:05:49</td>\n",
       "      <td>207</td>\n",
       "      <td>여의나루역 1번출구 앞</td>\n",
       "      <td>2021-01-01 01:16:29</td>\n",
       "      <td>201</td>\n",
       "      <td>진미파라곤 앞</td>\n",
       "      <td>10.0</td>\n",
       "      <td>0.00</td>\n",
       "      <td>2021-01-01</td>\n",
       "      <td>1</td>\n",
       "      <td>1</td>\n",
       "      <td>201</td>\n",
       "    </tr>\n",
       "    <tr>\n",
       "      <th>45839</th>\n",
       "      <td>2021-01-01 04:28:45</td>\n",
       "      <td>207</td>\n",
       "      <td>여의나루역 1번출구 앞</td>\n",
       "      <td>2021-01-01 04:48:23</td>\n",
       "      <td>493</td>\n",
       "      <td>홍대입구역 6번출구</td>\n",
       "      <td>19.0</td>\n",
       "      <td>0.00</td>\n",
       "      <td>2021-01-01</td>\n",
       "      <td>4</td>\n",
       "      <td>4</td>\n",
       "      <td>493</td>\n",
       "    </tr>\n",
       "    <tr>\n",
       "      <th>45840</th>\n",
       "      <td>2021-01-01 09:39:23</td>\n",
       "      <td>207</td>\n",
       "      <td>여의나루역 1번출구 앞</td>\n",
       "      <td>2021-01-01 09:45:33</td>\n",
       "      <td>223</td>\n",
       "      <td>진주아파트상가 앞</td>\n",
       "      <td>6.0</td>\n",
       "      <td>877.23</td>\n",
       "      <td>2021-01-01</td>\n",
       "      <td>9</td>\n",
       "      <td>9</td>\n",
       "      <td>223</td>\n",
       "    </tr>\n",
       "    <tr>\n",
       "      <th>45841</th>\n",
       "      <td>2021-01-01 10:50:10</td>\n",
       "      <td>207</td>\n",
       "      <td>여의나루역 1번출구 앞</td>\n",
       "      <td>2021-01-01 11:17:49</td>\n",
       "      <td>207</td>\n",
       "      <td>여의나루역 1번출구 앞</td>\n",
       "      <td>27.0</td>\n",
       "      <td>0.00</td>\n",
       "      <td>2021-01-01</td>\n",
       "      <td>10</td>\n",
       "      <td>11</td>\n",
       "      <td>207</td>\n",
       "    </tr>\n",
       "    <tr>\n",
       "      <th>45842</th>\n",
       "      <td>2021-01-01 11:01:44</td>\n",
       "      <td>207</td>\n",
       "      <td>여의나루역 1번출구 앞</td>\n",
       "      <td>2021-01-01 11:19:02</td>\n",
       "      <td>207</td>\n",
       "      <td>여의나루역 1번출구 앞</td>\n",
       "      <td>17.0</td>\n",
       "      <td>0.00</td>\n",
       "      <td>2021-01-01</td>\n",
       "      <td>11</td>\n",
       "      <td>11</td>\n",
       "      <td>207</td>\n",
       "    </tr>\n",
       "  </tbody>\n",
       "</table>\n",
       "</div>"
      ],
      "text/plain": [
       "                     대여일시 대여 대여소번호       대여 대여소명                반납일시 반납대여소번호  \\\n",
       "45838 2021-01-01 01:05:49      207  여의나루역 1번출구 앞 2021-01-01 01:16:29     201   \n",
       "45839 2021-01-01 04:28:45      207  여의나루역 1번출구 앞 2021-01-01 04:48:23     493   \n",
       "45840 2021-01-01 09:39:23      207  여의나루역 1번출구 앞 2021-01-01 09:45:33     223   \n",
       "45841 2021-01-01 10:50:10      207  여의나루역 1번출구 앞 2021-01-01 11:17:49     207   \n",
       "45842 2021-01-01 11:01:44      207  여의나루역 1번출구 앞 2021-01-01 11:19:02     207   \n",
       "\n",
       "             반납대여소명  이용시간    이용거리        대여날짜  대여시간  반납시간 반납대여소  \n",
       "45838       진미파라곤 앞  10.0    0.00  2021-01-01     1     1   201  \n",
       "45839    홍대입구역 6번출구  19.0    0.00  2021-01-01     4     4   493  \n",
       "45840     진주아파트상가 앞   6.0  877.23  2021-01-01     9     9   223  \n",
       "45841  여의나루역 1번출구 앞  27.0    0.00  2021-01-01    10    11   207  \n",
       "45842  여의나루역 1번출구 앞  17.0    0.00  2021-01-01    11    11   207  "
      ]
     },
     "execution_count": 78,
     "metadata": {},
     "output_type": "execute_result"
    }
   ],
   "source": [
    "df_207 = df[df['대여 대여소번호']==207]\n",
    "df_207.head()\n",
    "# 조건 = df['대여 대여소번호']==207"
   ]
  },
  {
   "cell_type": "markdown",
   "id": "ceb3f2f2",
   "metadata": {
    "id": "ceb3f2f2"
   },
   "source": [
    "### 반납 현황"
   ]
  },
  {
   "cell_type": "code",
   "execution_count": 81,
   "id": "09cc102e",
   "metadata": {
    "id": "09cc102e"
   },
   "outputs": [
    {
     "data": {
      "text/html": [
       "<div>\n",
       "<style scoped>\n",
       "    .dataframe tbody tr th:only-of-type {\n",
       "        vertical-align: middle;\n",
       "    }\n",
       "\n",
       "    .dataframe tbody tr th {\n",
       "        vertical-align: top;\n",
       "    }\n",
       "\n",
       "    .dataframe thead th {\n",
       "        text-align: right;\n",
       "    }\n",
       "</style>\n",
       "<table border=\"1\" class=\"dataframe\">\n",
       "  <thead>\n",
       "    <tr style=\"text-align: right;\">\n",
       "      <th></th>\n",
       "      <th></th>\n",
       "      <th>count</th>\n",
       "    </tr>\n",
       "    <tr>\n",
       "      <th>반납대여소번호</th>\n",
       "      <th>반납대여소명</th>\n",
       "      <th></th>\n",
       "    </tr>\n",
       "  </thead>\n",
       "  <tbody>\n",
       "    <tr>\n",
       "      <th>207</th>\n",
       "      <th>여의나루역 1번출구 앞</th>\n",
       "      <td>18347</td>\n",
       "    </tr>\n",
       "    <tr>\n",
       "      <th>202</th>\n",
       "      <th>국민일보 앞</th>\n",
       "      <td>2006</td>\n",
       "    </tr>\n",
       "    <tr>\n",
       "      <th>222</th>\n",
       "      <th>시범아파트버스정류장 옆</th>\n",
       "      <td>1588</td>\n",
       "    </tr>\n",
       "    <tr>\n",
       "      <th>249</th>\n",
       "      <th>여의도중학교 옆</th>\n",
       "      <td>1525</td>\n",
       "    </tr>\n",
       "    <tr>\n",
       "      <th>272</th>\n",
       "      <th>당산육갑문</th>\n",
       "      <td>1269</td>\n",
       "    </tr>\n",
       "    <tr>\n",
       "      <th>221</th>\n",
       "      <th>여의도초교 앞</th>\n",
       "      <td>1209</td>\n",
       "    </tr>\n",
       "    <tr>\n",
       "      <th>210</th>\n",
       "      <th>IFC몰</th>\n",
       "      <td>1063</td>\n",
       "    </tr>\n",
       "    <tr>\n",
       "      <th>215</th>\n",
       "      <th>여의도고교 앞</th>\n",
       "      <td>986</td>\n",
       "    </tr>\n",
       "    <tr>\n",
       "      <th>217</th>\n",
       "      <th>NH농협은행 앞</th>\n",
       "      <td>979</td>\n",
       "    </tr>\n",
       "    <tr>\n",
       "      <th>147</th>\n",
       "      <th>마포역 4번출구 뒤</th>\n",
       "      <td>796</td>\n",
       "    </tr>\n",
       "    <tr>\n",
       "      <th>2025</th>\n",
       "      <th>흑석역 1번출구</th>\n",
       "      <td>746</td>\n",
       "    </tr>\n",
       "    <tr>\n",
       "      <th>209</th>\n",
       "      <th>유진투자증권빌딩 앞</th>\n",
       "      <td>719</td>\n",
       "    </tr>\n",
       "    <tr>\n",
       "      <th>144</th>\n",
       "      <th>공덕역 8번출구</th>\n",
       "      <td>715</td>\n",
       "    </tr>\n",
       "    <tr>\n",
       "      <th>248</th>\n",
       "      <th>초원아파트 앞</th>\n",
       "      <td>600</td>\n",
       "    </tr>\n",
       "    <tr>\n",
       "      <th>211</th>\n",
       "      <th>여의도역 4번출구 옆</th>\n",
       "      <td>578</td>\n",
       "    </tr>\n",
       "    <tr>\n",
       "      <th>218</th>\n",
       "      <th>증권거래소 앞</th>\n",
       "      <td>568</td>\n",
       "    </tr>\n",
       "    <tr>\n",
       "      <th>274</th>\n",
       "      <th>영등포역지하쇼핑센타 5번출구</th>\n",
       "      <td>556</td>\n",
       "    </tr>\n",
       "    <tr>\n",
       "      <th>2076</th>\n",
       "      <th>노들나루공원 입구</th>\n",
       "      <td>555</td>\n",
       "    </tr>\n",
       "    <tr>\n",
       "      <th>106</th>\n",
       "      <th>합정역 7번출구 앞</th>\n",
       "      <td>534</td>\n",
       "    </tr>\n",
       "    <tr>\n",
       "      <th>2262</th>\n",
       "      <th>한신16차아파트 119동 앞</th>\n",
       "      <td>518</td>\n",
       "    </tr>\n",
       "  </tbody>\n",
       "</table>\n",
       "</div>"
      ],
      "text/plain": [
       "                         count\n",
       "반납대여소번호 반납대여소명                \n",
       "207     여의나루역 1번출구 앞     18347\n",
       "202     국민일보 앞            2006\n",
       "222     시범아파트버스정류장 옆      1588\n",
       "249     여의도중학교 옆          1525\n",
       "272     당산육갑문             1269\n",
       "221     여의도초교 앞           1209\n",
       "210     IFC몰              1063\n",
       "215     여의도고교 앞            986\n",
       "217     NH농협은행 앞           979\n",
       "147     마포역 4번출구 뒤         796\n",
       "2025    흑석역 1번출구           746\n",
       "209     유진투자증권빌딩 앞         719\n",
       "144     공덕역 8번출구           715\n",
       "248     초원아파트 앞            600\n",
       "211     여의도역 4번출구 옆        578\n",
       "218     증권거래소 앞            568\n",
       "274     영등포역지하쇼핑센타 5번출구    556\n",
       "2076    노들나루공원 입구          555\n",
       "106     합정역 7번출구 앞         534\n",
       "2262    한신16차아파트 119동 앞    518"
      ]
     },
     "execution_count": 81,
     "metadata": {},
     "output_type": "execute_result"
    }
   ],
   "source": [
    "# value_counts\n",
    "df_207[['반납대여소번호','반납대여소명']].value_counts()[:20].to_frame()"
   ]
  },
  {
   "cell_type": "markdown",
   "id": "f0317a45",
   "metadata": {
    "id": "f0317a45"
   },
   "source": [
    "### 요일별 대여현황"
   ]
  },
  {
   "cell_type": "code",
   "execution_count": 82,
   "id": "c3179214-b2b0-49d0-b565-e672a8b059f2",
   "metadata": {},
   "outputs": [
    {
     "data": {
      "text/html": [
       "<div>\n",
       "<style scoped>\n",
       "    .dataframe tbody tr th:only-of-type {\n",
       "        vertical-align: middle;\n",
       "    }\n",
       "\n",
       "    .dataframe tbody tr th {\n",
       "        vertical-align: top;\n",
       "    }\n",
       "\n",
       "    .dataframe thead th {\n",
       "        text-align: right;\n",
       "    }\n",
       "</style>\n",
       "<table border=\"1\" class=\"dataframe\">\n",
       "  <thead>\n",
       "    <tr style=\"text-align: right;\">\n",
       "      <th></th>\n",
       "      <th>대여일시</th>\n",
       "      <th>대여 대여소번호</th>\n",
       "      <th>대여 대여소명</th>\n",
       "      <th>반납일시</th>\n",
       "      <th>반납대여소번호</th>\n",
       "      <th>반납대여소명</th>\n",
       "      <th>이용시간</th>\n",
       "      <th>이용거리</th>\n",
       "      <th>대여날짜</th>\n",
       "      <th>대여시간</th>\n",
       "      <th>반납시간</th>\n",
       "      <th>반납대여소</th>\n",
       "    </tr>\n",
       "  </thead>\n",
       "  <tbody>\n",
       "    <tr>\n",
       "      <th>45838</th>\n",
       "      <td>2021-01-01 01:05:49</td>\n",
       "      <td>207</td>\n",
       "      <td>여의나루역 1번출구 앞</td>\n",
       "      <td>2021-01-01 01:16:29</td>\n",
       "      <td>201</td>\n",
       "      <td>진미파라곤 앞</td>\n",
       "      <td>10.0</td>\n",
       "      <td>0.00</td>\n",
       "      <td>2021-01-01</td>\n",
       "      <td>1</td>\n",
       "      <td>1</td>\n",
       "      <td>201</td>\n",
       "    </tr>\n",
       "    <tr>\n",
       "      <th>45839</th>\n",
       "      <td>2021-01-01 04:28:45</td>\n",
       "      <td>207</td>\n",
       "      <td>여의나루역 1번출구 앞</td>\n",
       "      <td>2021-01-01 04:48:23</td>\n",
       "      <td>493</td>\n",
       "      <td>홍대입구역 6번출구</td>\n",
       "      <td>19.0</td>\n",
       "      <td>0.00</td>\n",
       "      <td>2021-01-01</td>\n",
       "      <td>4</td>\n",
       "      <td>4</td>\n",
       "      <td>493</td>\n",
       "    </tr>\n",
       "    <tr>\n",
       "      <th>45840</th>\n",
       "      <td>2021-01-01 09:39:23</td>\n",
       "      <td>207</td>\n",
       "      <td>여의나루역 1번출구 앞</td>\n",
       "      <td>2021-01-01 09:45:33</td>\n",
       "      <td>223</td>\n",
       "      <td>진주아파트상가 앞</td>\n",
       "      <td>6.0</td>\n",
       "      <td>877.23</td>\n",
       "      <td>2021-01-01</td>\n",
       "      <td>9</td>\n",
       "      <td>9</td>\n",
       "      <td>223</td>\n",
       "    </tr>\n",
       "    <tr>\n",
       "      <th>45841</th>\n",
       "      <td>2021-01-01 10:50:10</td>\n",
       "      <td>207</td>\n",
       "      <td>여의나루역 1번출구 앞</td>\n",
       "      <td>2021-01-01 11:17:49</td>\n",
       "      <td>207</td>\n",
       "      <td>여의나루역 1번출구 앞</td>\n",
       "      <td>27.0</td>\n",
       "      <td>0.00</td>\n",
       "      <td>2021-01-01</td>\n",
       "      <td>10</td>\n",
       "      <td>11</td>\n",
       "      <td>207</td>\n",
       "    </tr>\n",
       "    <tr>\n",
       "      <th>45842</th>\n",
       "      <td>2021-01-01 11:01:44</td>\n",
       "      <td>207</td>\n",
       "      <td>여의나루역 1번출구 앞</td>\n",
       "      <td>2021-01-01 11:19:02</td>\n",
       "      <td>207</td>\n",
       "      <td>여의나루역 1번출구 앞</td>\n",
       "      <td>17.0</td>\n",
       "      <td>0.00</td>\n",
       "      <td>2021-01-01</td>\n",
       "      <td>11</td>\n",
       "      <td>11</td>\n",
       "      <td>207</td>\n",
       "    </tr>\n",
       "  </tbody>\n",
       "</table>\n",
       "</div>"
      ],
      "text/plain": [
       "                     대여일시 대여 대여소번호       대여 대여소명                반납일시 반납대여소번호  \\\n",
       "45838 2021-01-01 01:05:49      207  여의나루역 1번출구 앞 2021-01-01 01:16:29     201   \n",
       "45839 2021-01-01 04:28:45      207  여의나루역 1번출구 앞 2021-01-01 04:48:23     493   \n",
       "45840 2021-01-01 09:39:23      207  여의나루역 1번출구 앞 2021-01-01 09:45:33     223   \n",
       "45841 2021-01-01 10:50:10      207  여의나루역 1번출구 앞 2021-01-01 11:17:49     207   \n",
       "45842 2021-01-01 11:01:44      207  여의나루역 1번출구 앞 2021-01-01 11:19:02     207   \n",
       "\n",
       "             반납대여소명  이용시간    이용거리        대여날짜  대여시간  반납시간 반납대여소  \n",
       "45838       진미파라곤 앞  10.0    0.00  2021-01-01     1     1   201  \n",
       "45839    홍대입구역 6번출구  19.0    0.00  2021-01-01     4     4   493  \n",
       "45840     진주아파트상가 앞   6.0  877.23  2021-01-01     9     9   223  \n",
       "45841  여의나루역 1번출구 앞  27.0    0.00  2021-01-01    10    11   207  \n",
       "45842  여의나루역 1번출구 앞  17.0    0.00  2021-01-01    11    11   207  "
      ]
     },
     "execution_count": 82,
     "metadata": {},
     "output_type": "execute_result"
    }
   ],
   "source": [
    "df_207.head()"
   ]
  },
  {
   "cell_type": "code",
   "execution_count": 85,
   "id": "ad19452b",
   "metadata": {
    "id": "ad19452b"
   },
   "outputs": [
    {
     "name": "stderr",
     "output_type": "stream",
     "text": [
      "C:\\Users\\tjoeun\\AppData\\Local\\Temp\\ipykernel_9700\\4281243737.py:2: SettingWithCopyWarning: \n",
      "A value is trying to be set on a copy of a slice from a DataFrame.\n",
      "Try using .loc[row_indexer,col_indexer] = value instead\n",
      "\n",
      "See the caveats in the documentation: https://pandas.pydata.org/pandas-docs/stable/user_guide/indexing.html#returning-a-view-versus-a-copy\n",
      "  df_207['대여요일']=df_207['대여일시'].dt.strftime('%a')\n"
     ]
    },
    {
     "data": {
      "text/html": [
       "<div>\n",
       "<style scoped>\n",
       "    .dataframe tbody tr th:only-of-type {\n",
       "        vertical-align: middle;\n",
       "    }\n",
       "\n",
       "    .dataframe tbody tr th {\n",
       "        vertical-align: top;\n",
       "    }\n",
       "\n",
       "    .dataframe thead th {\n",
       "        text-align: right;\n",
       "    }\n",
       "</style>\n",
       "<table border=\"1\" class=\"dataframe\">\n",
       "  <thead>\n",
       "    <tr style=\"text-align: right;\">\n",
       "      <th></th>\n",
       "      <th>대여일시</th>\n",
       "      <th>대여 대여소번호</th>\n",
       "      <th>대여 대여소명</th>\n",
       "      <th>반납일시</th>\n",
       "      <th>반납대여소번호</th>\n",
       "      <th>반납대여소명</th>\n",
       "      <th>이용시간</th>\n",
       "      <th>이용거리</th>\n",
       "      <th>대여날짜</th>\n",
       "      <th>대여시간</th>\n",
       "      <th>반납시간</th>\n",
       "      <th>반납대여소</th>\n",
       "      <th>대여요일</th>\n",
       "    </tr>\n",
       "  </thead>\n",
       "  <tbody>\n",
       "    <tr>\n",
       "      <th>45838</th>\n",
       "      <td>2021-01-01 01:05:49</td>\n",
       "      <td>207</td>\n",
       "      <td>여의나루역 1번출구 앞</td>\n",
       "      <td>2021-01-01 01:16:29</td>\n",
       "      <td>201</td>\n",
       "      <td>진미파라곤 앞</td>\n",
       "      <td>10.0</td>\n",
       "      <td>0.00</td>\n",
       "      <td>2021-01-01</td>\n",
       "      <td>1</td>\n",
       "      <td>1</td>\n",
       "      <td>201</td>\n",
       "      <td>Fri</td>\n",
       "    </tr>\n",
       "    <tr>\n",
       "      <th>45839</th>\n",
       "      <td>2021-01-01 04:28:45</td>\n",
       "      <td>207</td>\n",
       "      <td>여의나루역 1번출구 앞</td>\n",
       "      <td>2021-01-01 04:48:23</td>\n",
       "      <td>493</td>\n",
       "      <td>홍대입구역 6번출구</td>\n",
       "      <td>19.0</td>\n",
       "      <td>0.00</td>\n",
       "      <td>2021-01-01</td>\n",
       "      <td>4</td>\n",
       "      <td>4</td>\n",
       "      <td>493</td>\n",
       "      <td>Fri</td>\n",
       "    </tr>\n",
       "    <tr>\n",
       "      <th>45840</th>\n",
       "      <td>2021-01-01 09:39:23</td>\n",
       "      <td>207</td>\n",
       "      <td>여의나루역 1번출구 앞</td>\n",
       "      <td>2021-01-01 09:45:33</td>\n",
       "      <td>223</td>\n",
       "      <td>진주아파트상가 앞</td>\n",
       "      <td>6.0</td>\n",
       "      <td>877.23</td>\n",
       "      <td>2021-01-01</td>\n",
       "      <td>9</td>\n",
       "      <td>9</td>\n",
       "      <td>223</td>\n",
       "      <td>Fri</td>\n",
       "    </tr>\n",
       "    <tr>\n",
       "      <th>45841</th>\n",
       "      <td>2021-01-01 10:50:10</td>\n",
       "      <td>207</td>\n",
       "      <td>여의나루역 1번출구 앞</td>\n",
       "      <td>2021-01-01 11:17:49</td>\n",
       "      <td>207</td>\n",
       "      <td>여의나루역 1번출구 앞</td>\n",
       "      <td>27.0</td>\n",
       "      <td>0.00</td>\n",
       "      <td>2021-01-01</td>\n",
       "      <td>10</td>\n",
       "      <td>11</td>\n",
       "      <td>207</td>\n",
       "      <td>Fri</td>\n",
       "    </tr>\n",
       "    <tr>\n",
       "      <th>45842</th>\n",
       "      <td>2021-01-01 11:01:44</td>\n",
       "      <td>207</td>\n",
       "      <td>여의나루역 1번출구 앞</td>\n",
       "      <td>2021-01-01 11:19:02</td>\n",
       "      <td>207</td>\n",
       "      <td>여의나루역 1번출구 앞</td>\n",
       "      <td>17.0</td>\n",
       "      <td>0.00</td>\n",
       "      <td>2021-01-01</td>\n",
       "      <td>11</td>\n",
       "      <td>11</td>\n",
       "      <td>207</td>\n",
       "      <td>Fri</td>\n",
       "    </tr>\n",
       "  </tbody>\n",
       "</table>\n",
       "</div>"
      ],
      "text/plain": [
       "                     대여일시 대여 대여소번호       대여 대여소명                반납일시 반납대여소번호  \\\n",
       "45838 2021-01-01 01:05:49      207  여의나루역 1번출구 앞 2021-01-01 01:16:29     201   \n",
       "45839 2021-01-01 04:28:45      207  여의나루역 1번출구 앞 2021-01-01 04:48:23     493   \n",
       "45840 2021-01-01 09:39:23      207  여의나루역 1번출구 앞 2021-01-01 09:45:33     223   \n",
       "45841 2021-01-01 10:50:10      207  여의나루역 1번출구 앞 2021-01-01 11:17:49     207   \n",
       "45842 2021-01-01 11:01:44      207  여의나루역 1번출구 앞 2021-01-01 11:19:02     207   \n",
       "\n",
       "             반납대여소명  이용시간    이용거리        대여날짜  대여시간  반납시간 반납대여소 대여요일  \n",
       "45838       진미파라곤 앞  10.0    0.00  2021-01-01     1     1   201  Fri  \n",
       "45839    홍대입구역 6번출구  19.0    0.00  2021-01-01     4     4   493  Fri  \n",
       "45840     진주아파트상가 앞   6.0  877.23  2021-01-01     9     9   223  Fri  \n",
       "45841  여의나루역 1번출구 앞  27.0    0.00  2021-01-01    10    11   207  Fri  \n",
       "45842  여의나루역 1번출구 앞  17.0    0.00  2021-01-01    11    11   207  Fri  "
      ]
     },
     "execution_count": 85,
     "metadata": {},
     "output_type": "execute_result"
    }
   ],
   "source": [
    "#요일컬럼 추가 : strftime('%a')\n",
    "df_207['대여요일']=df_207['대여일시'].dt.strftime('%a')\n",
    "df_207.head()"
   ]
  },
  {
   "cell_type": "code",
   "execution_count": 91,
   "id": "64a3d65a",
   "metadata": {
    "id": "64a3d65a"
   },
   "outputs": [
    {
     "data": {
      "text/html": [
       "<div>\n",
       "<style scoped>\n",
       "    .dataframe tbody tr th:only-of-type {\n",
       "        vertical-align: middle;\n",
       "    }\n",
       "\n",
       "    .dataframe tbody tr th {\n",
       "        vertical-align: top;\n",
       "    }\n",
       "\n",
       "    .dataframe thead th {\n",
       "        text-align: right;\n",
       "    }\n",
       "</style>\n",
       "<table border=\"1\" class=\"dataframe\">\n",
       "  <thead>\n",
       "    <tr style=\"text-align: right;\">\n",
       "      <th></th>\n",
       "      <th>count</th>\n",
       "    </tr>\n",
       "    <tr>\n",
       "      <th>대여요일</th>\n",
       "      <th></th>\n",
       "    </tr>\n",
       "  </thead>\n",
       "  <tbody>\n",
       "    <tr>\n",
       "      <th>Sun</th>\n",
       "      <td>14454</td>\n",
       "    </tr>\n",
       "    <tr>\n",
       "      <th>Sat</th>\n",
       "      <td>10932</td>\n",
       "    </tr>\n",
       "    <tr>\n",
       "      <th>Wed</th>\n",
       "      <td>10755</td>\n",
       "    </tr>\n",
       "    <tr>\n",
       "      <th>Fri</th>\n",
       "      <td>9191</td>\n",
       "    </tr>\n",
       "    <tr>\n",
       "      <th>Mon</th>\n",
       "      <td>8391</td>\n",
       "    </tr>\n",
       "    <tr>\n",
       "      <th>Thu</th>\n",
       "      <td>8037</td>\n",
       "    </tr>\n",
       "    <tr>\n",
       "      <th>Tue</th>\n",
       "      <td>7235</td>\n",
       "    </tr>\n",
       "  </tbody>\n",
       "</table>\n",
       "</div>"
      ],
      "text/plain": [
       "      count\n",
       "대여요일       \n",
       "Sun   14454\n",
       "Sat   10932\n",
       "Wed   10755\n",
       "Fri    9191\n",
       "Mon    8391\n",
       "Thu    8037\n",
       "Tue    7235"
      ]
     },
     "execution_count": 91,
     "metadata": {},
     "output_type": "execute_result"
    }
   ],
   "source": [
    "# value_counts\n",
    "df_207['대여요일'].value_counts().to_frame()"
   ]
  },
  {
   "cell_type": "markdown",
   "id": "c6e7673e",
   "metadata": {
    "id": "c6e7673e"
   },
   "source": [
    "### 이용시간 통계"
   ]
  },
  {
   "cell_type": "code",
   "execution_count": 92,
   "id": "ca6a256f",
   "metadata": {
    "id": "ca6a256f"
   },
   "outputs": [
    {
     "data": {
      "text/plain": [
       "50.28551344300312"
      ]
     },
     "execution_count": 92,
     "metadata": {},
     "output_type": "execute_result"
    }
   ],
   "source": [
    "# 이용시간 평균\n",
    "df_207['이용시간'].mean()"
   ]
  },
  {
   "cell_type": "code",
   "execution_count": 93,
   "id": "77a4cfda",
   "metadata": {
    "id": "77a4cfda",
    "scrolled": true
   },
   "outputs": [
    {
     "data": {
      "text/plain": [
       "1268.0"
      ]
     },
     "execution_count": 93,
     "metadata": {},
     "output_type": "execute_result"
    }
   ],
   "source": [
    "# 이용시간 최대\n",
    "df_207['이용시간'].max()"
   ]
  },
  {
   "cell_type": "code",
   "execution_count": 94,
   "id": "5df61103",
   "metadata": {
    "id": "5df61103",
    "scrolled": true
   },
   "outputs": [
    {
     "data": {
      "text/plain": [
       "1.0"
      ]
     },
     "execution_count": 94,
     "metadata": {},
     "output_type": "execute_result"
    }
   ],
   "source": [
    "# 이용시간 최소\n",
    "df_207['이용시간'].min()"
   ]
  },
  {
   "cell_type": "code",
   "execution_count": 95,
   "id": "902f58af",
   "metadata": {
    "id": "902f58af"
   },
   "outputs": [
    {
     "data": {
      "text/plain": [
       "27.27823322905529"
      ]
     },
     "execution_count": 95,
     "metadata": {},
     "output_type": "execute_result"
    }
   ],
   "source": [
    "# 전체데이터 이용시간 평균\n",
    "df['이용시간'].mean()"
   ]
  },
  {
   "cell_type": "code",
   "execution_count": 97,
   "id": "f9303426-bc6e-456d-9acf-9c555ea0dc4e",
   "metadata": {},
   "outputs": [
    {
     "data": {
      "text/plain": [
       "2323.0"
      ]
     },
     "execution_count": 97,
     "metadata": {},
     "output_type": "execute_result"
    }
   ],
   "source": [
    "df['이용시간'].max()"
   ]
  },
  {
   "cell_type": "code",
   "execution_count": 98,
   "id": "b70ac4c3-cee7-4c69-81e7-0e9c15c63dbf",
   "metadata": {},
   "outputs": [
    {
     "data": {
      "text/plain": [
       "38.71666666666667"
      ]
     },
     "execution_count": 98,
     "metadata": {},
     "output_type": "execute_result"
    }
   ],
   "source": [
    "2323/60"
   ]
  },
  {
   "cell_type": "code",
   "execution_count": 99,
   "id": "13726f63-f224-4a82-99d5-b071e825abf2",
   "metadata": {},
   "outputs": [
    {
     "data": {
      "text/plain": [
       "1.0"
      ]
     },
     "execution_count": 99,
     "metadata": {},
     "output_type": "execute_result"
    }
   ],
   "source": [
    "df['이용시간'].min()"
   ]
  },
  {
   "cell_type": "code",
   "execution_count": 105,
   "id": "a8574049-3108-4975-98a5-66cc59d744ee",
   "metadata": {},
   "outputs": [
    {
     "name": "stdout",
     "output_type": "stream",
     "text": [
      "['중랑센터', '상암센터 정비실', '위트콤', '(구)합정동 주민센터', '망원역 1번출구 앞', '망원역 2번출구 앞', '합정역 1번출구 앞', '합정역 5번출구 앞', '합정역 7번출구 앞', '신한은행 서교동금융센터점 앞', '서교동 사거리', '제일빌딩 앞', '상수역 2번출구 앞', '극동방송국 앞', '홍대입구역 8번출구 앞', '마스타 빌딩 앞', '일진아이윌아파트 옆', '홍은사거리', '광흥창역 2번출구 앞', '서강나루 공원', '신수동 사거리', '마포소방서 앞', '신성기사식당 앞', '문화촌 공원', '서강대 정문 건너편', '서강대 남문 옆', '서강대 후문 옆', '현대벤처빌 앞', '신촌역(2호선) 1번출구 옆', '신촌역(2호선) 6번출구 옆', '신촌역(2호선) 7번출구 앞', '증산2교', '해담는다리', '연세로 명물길', '명물길 원형무대 앞', '대흥동 주민센터', 'NH농협 신촌지점 앞', '신촌동 제1공영주차장 앞', '연세대 정문 건너편', '이화여대 후문', '연대 대운동장 옆', '아현역 4번출구 앞', '공덕역 2번출구', '공덕역 8번출구', '공덕역 5번출구', '마포역 2번출구 뒤', '마포역 4번출구 뒤', '용강동 주민센터 앞', '서강대역 2번출구 앞', '망원1동주민센터', '마포구민체육센터 앞', '성산2교 사거리', '마포구청역', '가좌역1 번출구 뒤', '서울서부지방법원 앞', '애오개역 4번출구 앞', '독립문 어린이 공원', '이대역 4번 출구', '북아현동 가구거리', '무악재역1번 출구', '봉원고가차도 밑', '명지전문대학교 정문 앞', '북가좌1동 주민센터', '중앙근린공원', '가재울 초등학교', '연가초등학교 옆', '북가좌 삼거리', '가재울 뉴타운 주유소 옆', '임광빌딩 앞', '서대문역 8번출구 앞', '홍연2교옆', '명지대학교 도서관', '북가좌 초등학교', '증산3교 앞', '가좌역 4번출구 앞', '충정로역 7번출구 아래', '망원초록길 입구', '망원2빗물펌프장 앞', '하늘채코오롱아파트 건너편', 'SK망원동주유소 건너편', '마포 신수공원 앞', '월드컵공원', '홍은동 정원여중 입구', '서우빌딩(바른학원)', '연서어린이공원', '증산교 앞', '모래내고가차도', '연희교차로 인근', '충정2교', '서울 월드컵 경기장', '국회의원회관', '진미파라곤 앞', '국민일보 앞', '국회의사당역 3번출구 옆', '국회의사당역 5번출구 옆', '산업은행 앞', 'KBS 앞', '여의나루역 1번출구 앞', '유진투자증권빌딩 앞', 'IFC몰', '여의도역 4번출구 옆', '여의도역 1번출구 옆', 'KT앞', '금융감독원 앞', '여의도고교 앞', 'NH농협은행 앞', '증권거래소 앞', '롯데캐슬엠파이어 옆', '미성아파트 A동 앞', '여의도초교 앞', '시범아파트버스정류장 옆', '진주아파트상가 앞', '롯데캐슬 앞', '앙카라공원 앞', '샛강역 1번출구 앞', '양평2나들목 보행통로 입구', '선유도역 3번출구 앞', '양평1 보행육교 앞', '영등포구청역 1번출구', '남부고용노동지청 남측', '양평우림 이비즈센타 앞', 'YP 센터 앞', '영등포구민체육센터 앞', '신길동 우리은행 옆', '문래동자이아파트 앞', '보라매 두산위브 건너편', '제2구민체육센타 앞', '유스호스텔 앞', '문래역 4번출구 앞', '신길우성1차아파트 앞 공원', '신길선원가와인아파트 앞', '이앤씨드림타워 앞', '영등포삼환아파트 앞', '삼성생명 당산사옥 앞', '당산역 10번출구 앞', '초원아파트 앞', '여의도중학교 옆', '대림아파트 사거리', '서울지방병무청 버스정류장', '보라매역4번출구', '신풍역 5번출구 인근', '도림신협 앞', '도림사거리', '동아에코빌입구', '신길삼거리(우리은행)', '신길역3번출구', '대방역6번출구', '여의도 마리나선착장 앞', '영문초등학교 사거리', '근로자회관 사거리', '교보생명보험 앞', '영등포유통상가 사거리', '영등포청과시장 사거리', '삼성화재 사옥 옆', '그랜드컨벤션센터 앞', '증권거래소후문교차로', '샛강생태공원방문자센터 앞', '당산육갑문', '영등포역지하쇼핑센타 5번출구', '신동아아파트', 'SK 영등포주유소', '영등포뉴타운지하상가 2번게이트', '쌍용플레티넘오피스텔', '영등포 푸르지오 아파트', '양평동6차현대아파트 앞', '신동아아파트 앞', '신한은행', '아크로타워 스퀘어(영등포시장)', '센트럴 푸르지오 시티 앞', '대림3동사거리(하나은행)', '우성아파트 교차로', '영등포전화국사거리 (서강어린이공원)', '쌍용예가(구청별관)', '대림3동사거리', '당산동 SK V1 빌딩', '문래동 하이테크 시티', '영일 어린이공원', '충북 미래관', '영등포공원 분수대 앞', 'KT플라자 영등포점', '국회3문', 'KBS 연구동 건너편', '여의도 순복음교회', '정동사거리', '경복궁역 7번출구 앞', '경복궁역 4번출구 뒤', '광화문역 1번출구 앞', '광화문역 2번출구 앞', '종로구청 옆', '광화문역 7번출구 앞', '서울역사박물관 앞', '광화문 S타워 앞', '광화문역 6번출구 옆', '청계광장 옆', '서울광장 옆', '국립현대미술관', '종각역 1번출구 앞', '광교사거리 남측', '을지로입구역 4번출구 앞', 'KEB 하나금융그룹 명동사옥 옆', '명동성당 앞', '신세계백화점 본점 앞', '안국역 5번출구 앞', '낙원상가 옆', '탑골공원 앞', '청계2가 사거리 옆', '을지로2가 사거리 북측', '을지로2가 사거리 남측', '종로3가역 2번출구 뒤', '종로3가역 15번출구 앞', '티마크 호텔 앞', '창경궁 입구', '세운스퀘어 앞', '종로4가 사거리', '혜화동 로터리', '혜화역 3번출구 뒤', '대학로 마로니에공원', '예일빌딩(율곡로) 앞', '성균관대 E하우스 앞', '서울보증보험본사 앞', '맥스타일 앞', '동대문역사문화공원역 9번출구 앞', '독립문역 사거리', '사직동주민센터', '청운초교 앞 삼거리', '중앙고입구 삼거리', '재동초교 앞 삼거리', '포르투갈 대사관 앞', '서울사대부속초교 앞', 'KT혜화지사 앞', '성대입구 사거리', '원남동사거리', '동묘앞역 1번출구 뒤', '청계8가 사거리', '신설동역 11번출구 뒤', '창신역 1번출구 앞', '독립문역 3-1번출구', 'SK 서린빌딩 앞', '광화문 시민열린마당', '시청역(2호선) 9번출구 뒤', '동대입구역 6번출구 뒤', '약수역 3번출구 뒤', '청구 어린이공원', '청구역 2번출구 앞', '다산 어린이공원', '청계7가 사거리', '서울역9번출구', 'CJ제일제당 앞', '장충체육관', '약수역 10번출구 앞', '신당역 12번 출구 뒤', '종로학원본원', '종각역 5번출구', '훈련원공원주차장 앞', '동성중학교 앞', '을지로4가역 1번출구', '충무로역 1번출구', '정동길입구', '동대문역 8번 출구', '경희궁 자이 3단지', '경희궁 자이 2단지', '종묘공영주차장 건너편', '을지로3가역 3번출구', '서울역 센트럴 자이아파트', '상암한화오벨리스크 1차 앞', '상암월드컵파크 10단지 앞', '상암월드컵파크 9단지 앞', '부엉이공원 앞', 'DMC빌 앞', '상암월드컵파크 7단지 앞', '마포구 육아종합지원센터', 'LG CNS앞', '누리꿈스퀘어 옆', '상암중학교 옆', 'DMC홍보관', 'DMC산학협력연구센터 앞', '상암월드컵파크 3단지 후문', '상암동주민센터 옆', 'DMC역 9번출구 앞', '상암월드컵파크 1단지 교차로', 'DMC역 2번출구 옆', '월드컵경기장역 3번출구 옆', '홈플러스 앞', '서울시 공공자전거 상암센터', '마포구청 앞', '문화비축기지', '롯데하이마트 (상암월드컵점)', 'DMC첨단산업센터', '서울신용보증재단', '성산시영아파트', '명보사거리', '송도병원', 'KEB하나은행 장충동지점', '청계천 영도교', '마포중앙도서관', '을지로입구역 2번출구', '신당 래미안 버스정류장', 'SK 남산빌딩', '이대역 5번출구', '대흥역 1번출구', '성산2-1 공영주차장', '마포어린이공원', '하늘공원 입구', '염천교사거리', '서울역 서부', '호암아트홀', '상명대입구', '신영동삼거리', '일성아파트', '효자동 삼거리', '청와대앞길', '동대문 종합시장 버스정류장', '종로오가 지하쇼핑센터 14번출구', '종로2가 버스정류장 (종각방향)', '삼익한의원', '숭인2동 주민센터 입구 (이강3대냉면)', '종로꽃시장 입구 옆', '광화문역 5번출구', '서울지방경찰청', '신영동삼거리(북악터널방향)', '삼청동 골목', '삼청공원 앞', '롯데호텔', '한국은행', '웨스틴 조선호텔', '회현역 1번출구', '회현역 7번출구', '회현사거리 남측', '삼일교(시그니쳐 타워)', '을지로4가역 9번출구', '동대문역사문화공원역 1번출구 뒤편', 'DDP 패션몰', '광희문', '앰배서더 호텔 주변', '동대입구역 3번 출구', '약수역 6번 출구', '신당역 10번 출구', '예수소망교회', '남산타운아파트 버스정류장', '도동삼거리', '평창동주민센터 앞', '신석초교앞 교차로 교통섬', '구룡근린공원', '가온문화공원', '월드컵파크 4단지', '성산시영아파트 후문', '홍대입구역 6번출구', '신수동주민센터', '염리초등학교 앞', '합정동주민센터 앞', '연남동주민센터 앞', '어린이대공원역 3번출구 앞', '광진구의회 앞', '뚝섬유원지역 1번출구 앞', '자양사거리 광진아크로텔 앞', '금호 어울림 아파트 앞', '성수아이에스비즈타워 앞', '성수아카데미타워 앞', '이마트 버스정류소 옆', '서울숲 남문 버스정류소 옆', '서울숲역 4번 출구 옆', '뚝섬역 1번 출구 옆', '뚝섬역 5번 출구 정류소 옆', '성수사거리 버스정류장 앞', '광양중학교 앞', '광진메디칼 앞', '청계천 박물관 앞', '양지사거리', '상왕십리역 4번 출구 앞', '왕십리역 11번 출구 앞', '금호역 1번출구 앞', '옥수동성당 옆', '래미안금호하이리버 아파트 102동 옆', '한양대병원사거리', '용답토속공원 앞', '장한평역 8번 출구 앞', '청계벽산아파트 앞', '우리은행 금호동 지점 앞', '금호사거리', '응봉삼거리', '행당역 2번출구 앞', '한양대후문역 부근', '답십리역 8번출구 앞', '군자교교차로', '군자역 7번출구 베스트샵 앞', '강변역 4번출구 뒤', '구의공원(테크노마트 앞)', '광남중학교', '잠실대교북단 교차로', '자양나들목', '아차산역 3번출구', '서울시설공단 앞', '구의삼성쉐르빌 앞', '대림아크로리버 앞', '중곡 성원APT 앞', '구의3동주민센터', '달맞이공원', '도선동 주민센터 앞', '성동광진 교육지원청 앞', '왕십리역 4번 출구 건너편', '비전교회 앞', '서울숲역 2번출구 앞', '군자지하보도 앞', '성동세무서 건너편', '금호역 3번출구', '옥수역 3번출구', '성수역 2번출구 앞', '청계8가사거리 부근', '응봉현대아파트 정류소', '어린이대공원역6번출구', '국립정신 건강센터 앞', '구의문주차장 앞', '아차산역4번출구', '중앙농협 중곡지점', '광나루역 3번 출구', '광진청소년수련관', '성동세무서 부근', '마장역 4번출구', '용답초등학교', '경일중학교 앞', '청계천 생태교실 앞', '광진광장 교통섬', '성수2가1동 공영주차장 인근', '마장동 주민센터', '유니베라 앞', '뚝섬 유원지역', '성수역3번출구', '건국대학교 (입학정보관)', '건국대학교 (행정관)', '건국대학교 학생회관', '자양중앙나들목', '중랑물재생센터(서울새활용플라자)', '휘경2동 주민센터', '용신동주민센터', '장안동 사거리', '답십리초등학교 옆 공원', '신설동역8번출구', '휘경공고앞', '신이문역 2번출구', '전농삼성아파트', '제기2교', '동대문중 교차로', '시립동부병원 앞 사거리', '신설동역 10번출구 앞', '용두동 사거리', '용두동 래미안허브리츠아파트 앞', '서울시립대 앞', '청솔우성아파트 앞', '동대문중학교 옆', '전농사거리 교통섬', '서울시립대 정문 앞', '전농동 동아아파트 앞', '답십리초등학교 앞(현대시장 옆)', '군자교 서측 녹지대', '장안동삼거리 교통섬', '휘봉고등학교 앞', '동대문구 보건소', '답십리역 1번출구', '청량리 기업은행 앞', '외국어대 정문 앞', '시조사 앞 (청량고정문 옆)', '세종대왕기념관 교차로', 'KAIST 경영대학 앞', '서울시립대 정보기술관', '서울시립대 후문', 'KEB하나은행 청량리역지점', '용두역 4번출구', '신답역 사거리', '동대문구민체육센터 (육교아래)', '장한평역 1번출구 (국민은행앞)', '신이문역 1번출구', '장안동위더스빌옆', '중랑교사거리', '답십리 래미안엘파인아파트 입구', '전농동 텃골공원', '영휘원 교차로', '동대문롯데캐슬아파트 앞', '촬영소 사거리', '제기역1번출구', '동의보감타워', '경희대학교 청운관', '외대앞역 4번출구', '서울시립대 대학본부', '이문동 쌍용아파트 정문', '이문대성유니드아파트 앞', '청량차도 육교 밑', '서울축산농협(장안지점)', '청계한신휴플러스앞 삼거리', '삼육서울병원 버스정류장', '대광빌딩', '대광고등학교', '안암골벽산아파트(후문)', '고대앞사거리 교통섬', '성복교회 앞 (장평교 아래)', 'FITI시험연구원 앞', '청량리역 4번 5번출구 사이', '장안힐스테이트(아) 앞', '전농SK아파트 앞', '꿈마루어린이도서관 앞', '서울특별시 동부교육지원청(육교)', 'KB국민은행 염창역 지점 앞', '목동사거리 부근', '목4동주민센터 옆', '오목교역 7번출구 앞', '남부법원검찰청 교차로', '신정네거리역', '신정3동주민센터', '서울출입국관리사무소 앞', '신정3동 현장민원실 앞', '금옥여고보도육교', '신일해피트리아파트 앞', '강월초교입구 사거리', '양서중학교 옆', '한국SGI 양천문화회관 앞', '신정6동 주민센터 인근', '홍익병원앞 교차로', '서울강월초등학교 앞', 'LG전자베스트샵 신정점', 'SBS방송국', '계남공원 입구 주출입구 좌측', '양강중학교앞 교차로', '목동3단지 시내버스정류장', '서부식자재마트 건너편', '서울시 도로환경관리센터', '신월동 이마트', '신정이펜하우스314동', '신트리공원 입구', '영도초등학교', '오솔길공원', '장수공원', '신월사거리', '으뜸공원', '화곡로 입구 교차로', '등촌역 5번 출구 뒤', '현대6차아파트 101동 옆', '신목동역 2번 출구', '강서초등학교', '목동2단지 상가', '목동3단지 상가', '목동운동장', '이대 목동병원 앞', '연의근린공원 건너편', '성원2차 아파트', '목동1단지아파트 118동 앞 (월촌초등학교 정류소 옆)', '목동1단지아파트 상가 앞 (월촌중학교 버스정류소 옆)', '목동주차장', '신정이펜하우스 1단지아파트 입구 사거리', '한사랑교회 앞', '보아스아파트 앞', '잣절보도육교 아래', '오목로 무중력지대 앞', '목동11단지 아파트', '목동청소년수련관', '오목교역 3번출구', '신목동역 3번출구', '신정숲속마을아파트', '목동5단지아파트 501동', 'CBS방송국 앞', '목동역5번출구 교통정보센터 앞', '목동아파트 703동 앞', '염창역 3, 4번 출구 사이', '등촌역 4번 출구', '세종그랑시아 앞(102동)', '목마공원', '신월6차보람아파트 앞', '양천나눔누리센터', '신정교 하부', '신정보도육교 아래', '서남병원 후문', '양천구청, 보건소 사잇길', '목동아파트 8단지 상가동 앞', '양천아파트 입구', '양천구청역 2번출구 옆', '화곡고가 사거리', '현대하이페리온', '목동트라팰리스 웨스턴에비뉴', '목동5단지아파트 534동', '양천문화회관', '양천 해누리타운', '목동아파트 14단지 B상가 앞', '목동아파트 1422동 1434동 사잇길', '목월공원 앞', '한강진역 2번 출구 앞', '한남초교 앞 보도육교', '문배어린이공원 앞', '전자랜드 본관 앞', '서울역 12번 출구 앞', '서빙고동 금호맨션 앞', '한남 유수지 복개주차장', '이태원지하보도', '녹사평역1번출구', '용산전쟁기념관', '삼각지역 3번출구', 'LIG강촌아파트 103동앞', '신용산역 6번출구 앞', '삼각지역 4번출구 앞', '숙명여대 입구 교차로', '선린인터넷 고등학교', '청파동입구 교차로', '이촌1동 마을공원', '효창동주민센터 앞', '서빙고동 주민센터 앞', '서울역 서부교차로2', '국군복지단', '숙대입구역 8번', '베르가모앞', '청암자이아파트앞', '이태원관광특구입구', '이촌1동 주민센터 뒤', '효창공원앞역 3번출구 뒤', '남영역 건너편', '현대자동차서비스 앞', '한남나들목 입구', '숙대입구역 4번출구', '보광동 삼성리버빌아파트 앞', '용산 파크타워 앞', '신용산역 1번 출구', '녹사평역 광장', '이촌2동 동원베네스트 아파트 앞', '용산 선인상가', '용산중학교', '국방부민원실옆', '삼각지12번 출구', '삼각지 자이아파트', 'KCC용산월츠타워', '효창 푸르지오 앞', '청암자이APT(103동)', '용산역 맞은편', 'HID 유족동지회 앞', '이촌역5번출구 앞', '현대 안성타워', '녹사평역3번 출구', '남산공원 야외식물원 앞', 'LG한강 자이아파트 앞', '이촌역2번 출구', '순천향대학병원(한남오거리)', '하얏트호텔 앞', '브라운스톤 남산아파트', '서빙고역 광장(1번출구)', '롯데하이마트 용산점 앞', '노들섬 동측 앞', '노들섬 서측 앞', '은평예술회관', '응암1동사무소', '진관동 은빛초등학교', '은평뉴타운 아이파크', '은평뉴타운 푸르지오', '구파발역 2번출구', '연신내역 5번출구150M 아래', 'CJ 드림시티', '구산역 4번출구', '백련산 힐스테이트 3차', '은평평화공원(역촌역4번출구)', '응암오거리', '이마트 은평점', '새절역 2번출구', '증산역 4번출구', '평생학습관 앞', '녹번역 4번출구', '서울혁신파크', '신도고등학교', '연신내역 4번출구', '국민은행 연서지점', '메뚜기다리', '불광역 2번출구', '연신내역 3번출구 인근', '은평역사한옥박물관', '구 서부경찰서 건너편', '역촌파출소', '예일여중', 'LG서비스 역촌점', '신사동 성당', '상림마을 롯데캐슬2단지 옆', '금암 문화공원', '은평구청 교차로', '은평뉴타운 도서관', '상림마을 생태공원', '은평구청 보건소', '기자촌 사거리', '독바위역', '연신내 선일하이츠빌 정류소', '디지털미디어 시티역 4번출구(DMC역)', '연신내역 1번 출구', '구산역 2번 출구', '서울연신중학교', '서울연신초등학교', '은평뉴타운구파발9단지', '응암시장교차로', '신한은행 응암동 지점 앞', '구파발10단지 인근', '구파발역 환승센터', '불광역 9번 출구', '은평뉴타운 힐데스하임', '대호프라자아파트', '북한산힐스테이트 7차아파트', '서울특별시 은평병원', '서울혁신파크1', '서울혁신파크2', '은평뉴타운 상림마을 13단지', '은평 지웰테라스', '역촌 센트레빌 아파트', '수색역', '제각말푸르지오 5-1단지 아파트', '연신초등학교옆 마을마당', '백련산 힐스테이트상가앞', '진관고등학교앞', '신도중학교앞', '녹번 힐스테이트상가앞', '원풍빌라앞', '유니클로 은평점앞', '상신초등학교앞 버스정류장', '은평온누리약국앞', '응암 꼬꼬닭치킨호프 앞', '흥국사 정류장', '북한산입구 정류장', '은평뉴타운 온뜨락아파트앞', '북한산생태공원입구(교통섬)', '은평다목적체육관', '응암역 1번출구', '광진교 남단 사거리(디지털프라자앞)', '해공공원(천호동)', '해공도서관앞', '삼성광나루아파트 버스정류장', '롯데캐슬 115동앞', '암사동 선사유적지', '암사역 3번출구(국민은행앞)', '천호역4번출구(현대백화점)', '강동세무서', 'LIGA 아파트 앞', '서울 상운차량', '강동구청역 1번 출입구', '강동구평생학습관앞', '샛마을 근린공원', '해뜨는 주유소옆 리엔파크 109동앞', '맥도날드(길동)', '둔촌 주공 GS 맞은편', '다성이즈빌아파트(호원대 대각선 맞은편)', '강동경찰서', '강일동 리슈빌 빌딩앞', '길동 사거리(초소앞)', '한국종합기술사옥 앞', '강동구청 앞', '상일초등학교', '대명초교 입구 교차로', '프라자 아파트 앞', '포레스 주상복합 빌딩', '롯데 시네마', '미호 플랜트 앞', '올림픽로 836(아리수로)', '선사고등학교', '고덕동 아남아파트', '고덕동 래미안 힐스테이트', '고덕역 4번출구', '고덕동 주양쇼핑', '강일리버파크 6단지', '강일 다솜 어린이 공원', '고덕초등학교', '묘곡초등학교', '강일리버파크 2~5단지', '굽은다리역', '건강보험 강동지사kt', '동부기업(둔촌동)', '강일리버파크 10단지', '둔촌역 3번 출입구', '양지시장 (용성약국앞) 입구', '리싸이클시티', '동명근린공원 진입로 (아리수로)', '말우물 어린이 공원', '강일리버파크 7~11단지', '능골근린공원', '고덕숲 아이파크 1', '래미안 강동팰리스(102동)', '천일초교 사거리', '천호초교 입구 사거리(일주빌딩)', '고덕숲 아이파크 2', '강동롯데캐슬퍼스트 아파트(관리동)', '중앙보훈병원역 1번출구', '보훈병원 정문옆(중앙대영약국)', '생태공원앞 교차로(조명탑)', '한영중고앞사거리', '명일파출소', '강동경희대학교병원 입구', '(시립)고덕평생학습관', '명일근린공원공동체텃밭', '고덕역 5번출구', 'SSTS 몰 앞', '대명초교입구 사거리', '천동초교 삼거리', '전자랜드 길동점', '강동역 1번출구 앞', '둔촌사거리', '강일동입구교차로', '엘웨딩', '트레빌빌딩', '중앙보훈병원역3번출구', '광문고교사거리(아이파크)', '윤선생빌딩(JYP사옥)', '래미안 솔베뉴(고덕로)', '래미안 솔베뉴(구천면로)', '풍납사거리(강동)', '고덕 래미안힐스테이트(201동)', '상일동역 2번출구 앞', '개화동상사마을종점 버스정류장', '방화사거리 마을버스 버스정류장', '방화역 4번출구앞', '방화근린공원', '신방화사거리', '공항시장역 2번출구 뒤', '공항시장역 4번출구', '공항중학교앞', '마곡엠밸리6_7단지 마곡중학교', '마곡엠밸리4단지 정문', '서남환경공원 버스정류장', '등촌역 1번출구옆', '스타벅스앞', '증미역 3번출구뒤(등촌두산위브센티움오피스텔)', '염창동 한마음아파트앞(염창동 빛나는 음악학원앞)', '대림경동아파트앞', '가양레포츠센터앞', '황금내근린공원', '발산역 6번 출구 뒤', '명덕고교입구(영종빌딩)', '우장산역 1번출구옆(우장산아이파크105동앞)', '화곡역(에이스정형외과앞) 버스정류장', '화곡역 6번출구', '화곡역 1번 출구 앞', '화곡본동시장 버스정류장', '꿈돌이공원 앞', '등촌역 7번출구', '강서구의회', '등촌2파출소', '등촌2동주민센터', '용문사 버스정류장', '목동사거리 버스정류장', '곰달래 문화복지센터 1-1', '곰달래 문화복지센터 1-2', '곰달래사거리', '볏골공원', '신방화역환승주차장', '송정역 1번출구', '마곡역1번출구', '마곡역교차로', '발산역 1번, 9번 인근 대여소', '기쁜우리복지관', '강서구청', '가양역 8번출구', '서서울모터리움앞', '양천향교역 7번출구앞', '강서면허시험장앞', '공항초등학교건너편', '방화동강서기동대앞', '마곡중학교 후문', '강서구립등빛도서관', '마곡수명산파크3단지 교차로', '마곡엠밸리10단지 앞', '염창역 1번 출구', '강서구보건소 (삼성디지털 프라자)', '염창동 새마을금고 건너편 (모닝글로리)', '가양3동 주민센터', '강서구청사거리(SH타워)', '강서구청사거리(부민병원)', '대한항공 인력개발센터', '수명중?고교', '개화산역 2번 출구', '마곡엠밸리 15단지(1502동) 건너편', '농수산식품공사 (강서지사)', 'KBS 스포츠월드', 'KC 대학교', '마곡13단지', '등촌9단지', '송정중학교', '강서수산물도매시장', '롯데중앙연구소', '마곡역 교차로(2번출구)', '마곡역 교차로(NH농협)', '마곡수명산파크 209동 건너편', '마곡센트럴타워 1차', '센서텍㈜', '코오롱One&Only타워', '서울식물원(문화센터) 건너편', '엠펠리체 호텔 건너편', 'LG 사이언스파크', '우장산역 3번출구', '개화광역환승센터', '가락시장역 3번 출구', '밀리아나2빌딩 앞', '거여역 3번출구', '종합운동장역 4번출구', '9호선종합운동장역 9번출구', '마천CU우방점 앞', '풍납현대아파트쉼터', '잠실나루역 (2번 출구 쪽)', '롯데월드타워(잠실역2번출구 쪽)', '방이삼거리', '송파역 2번 출구앞', '백토공원 앞', '오금역 7번 출구 인근', '올림픽공원역 1번출구 앞', '송파파인타운 7단지', '방이역 4번출구', '잠실본동주민센터뒤 잠실근린공원', '삼전사거리 포스코더샵', '잠실새내역 5번 출구 뒤', '아시아지하보도 2번 출구', '잠실4동 주민센터 옆', '거여역 8번출구 뒤', '마천사거리', '송파체육문화회관 앞', '송파중학교 정문', '잠실역 6번출구', '롯데마트 주차장 옆', '잠실3거리(갤러리아팰리스)', '잠실트리지움310동 옆', '문정 법조단지3', '문정 법조단지4', '문정 법조단지5', '문정 법조단지6', '문정 법조단지7', '문정 법조단지8', '문정 법조단지9', '문정 법조단지10', '문정 법조단지11', '방이초등학교', '아주중학교건너편', '문정2동 주민센터', '석촌역 2번출구', '오금역 3번 출구 뒤', '문정현대아파트 교차로', '가락시장역 롯데마트앞', '가락미륭아파트 앞', '방이역 1번출구', '방이동 한양3차아파트 옆', '송파여성문화회관 앞', '장지공영차고지', '천호역 10번 출구 앞', '문정동 근린공원', '문정동 글샘 공원', '올림픽공원 남2문 앞', '몽촌토성역 1번출구 옆', '리센츠아파트', '송파도서관', '영파여고 앞', '거여초등학교 옆', '오금동 송파 참병원', '송파구청 교차로', '마천금호어울림 1차아파트 건너편', '송파파크데일 2단지입구 앞 주차장', '송파소방서 맞은편(성내4교)', '오금공원 사거리', '위례별 유치원 뒤', '위례중앙푸르지오 1단지 앞', '위례아이파크 101동 맞은편', '문정중교 사거리', '풍납동 자전거보관소', '위례송파꿈에그린아파트24단지 앞 성벽 다리 밑', '서울체육고등학교 앞', '석촌호교차로 (스타벅스 앞)', '잠실역 8번출구', '석촌호수교차로 (송파나루근린공원 앞)', '석촌호수교차로(동호 팔각정 앞)', '송파소방서 (방이119안전센터)', '오륜사거리', '한성대입구역6번출구 뒤', '돈암초교 입구', '만해공원', '성북구청', '한성대입구역2번출구', '안암로터리 버스정류장 앞', '정릉꿈에그린1단지 201동 앞', '고려사대부속중고 정문', '고려사대부속중고 건너편', '길음역 3번출구 뒤', 'LG베스트샵 종암점', '국민은행 종암동지점 앞', '래미안라센트아파트 103동 앞', '월곡역 입구 육교 밑', '상월곡역 4번출구', '상월곡역 1번출구', '상월곡역 3번출구', '월곡역 3번출구', '석계역 5번출구 건너편', '석관초등학교 앞', '석관동주민센터 앞', '성북3교 위', '돈암성당 옆', '용문2교 옆', '삼성전자서비스 성북센터', '광운초등학교 앞', '성북쉼터 앞', '한성대7번출구 앞', '아리랑시네센터 앞', '길음8골어린이공원 옆', '길음래미안아파트817동 상가 앞', '성북제일새마을금고 본점 앞', '월계2교 버스정류장 앞', '안암2교 옆', 'e 편한세상 보문아파트 내', '금호어울림센터힐 내', '고려대학교 2번출구', '보문2교', '북한산보국문역', '정릉도서관 앞', '장위뉴타운 꿈에 숲 코오롱 하늘채 앞', '정릉역', '홍익중고 입구', '보문역6번출구 앞', '보문4교 인근', '성북동 치안센터 앞', '선잠단지 앞', '일신초등학교 옆', '길음문화복합미디어센터', '성신여대입구 교차로', '미아사거리', '복자사랑 피정의 집', 'KEB은행 고대점', '성북구보건소 건너편', '생명의 전화 종합복지관 앞 교차로', '한국과학기술연구원 중문', '한국과학기술연구원 북문', '길음뉴타운푸르지오아파트 3단지', '월곡역 5번출구 앞', '석계역 4번출구 뒤', '래미안월곡아파트 입구', '성신여대입구역 5번출구', '성신여대입구역 3번출구 앞', '동선고가차도 초입', '커핀그루나루', '석관래미안아트리치', '성북청소년센터', '돈암삼성풍림아파트', '돈암육교 하단', '길음뉴타운 래미안9단지', '래미안장위포레카운티(102동)', '래미안장위퍼스트하이(513동)', '래미안월곡아파트 (창문여고 건너편)', '극동늘푸른아파트', '금란주차장 앞', '중화빌딩 앞 (동부시장)', '동일로 지하차도', '망우역 1번출구', '망우청소년수련관', '먹골역 1번출구 뒤', '먹골역 6번출구 앞', '면목 대원칸타빌아파트', '상봉시장앞 교차로 한성빌딩 앞', '면목초등학교', '봉화산역 5번출구 뒤', '사가정역 1번출구', '상봉역 3번출구', '새솔초등학교', '신내어울공원 앞', '신내역 4번출구', '신내우디안아파트 1단지', '양원역 2번출구', '용마문화복지센터', '면목도시개발아파트 1동 앞', '용마산역 1번출구', '원묵고등학교', '장안중학교', '중랑구청', '중랑구청 사거리', '중화역 2번출구', '홈플러스 면목동점', '능산삼거리', '영풍마드레빌', '늘푸른공원 앞', '홈플러스 신내점 앞', '하나은행 면목지점', '신내능말공원', '(구)신한은행 중랑교지점', '구립망우청소년독서실', '면목4치안센터', '용마지구대', '중랑전화국 교차로', '면목역 3번출구', '코스트코 상봉점', '상봉역 1번출구', '화랑대역 7번출구', '중랑세무서', '겸재교 진입부', '중랑캠핑숲', '한국전력공사(동대문 중랑지사)', '상봉역 2번 출구', '상아빌딩(우림시장 교차로)', '동원사거리', '상봉터미널2', '용마한신아파트사거리', '동양엔파트 앞', '동부시장 북문 앞', '중랑구민회관', '중화역 4번출구', '중랑공영차고지 옆', '두산대림아파트 삼거리', 'sk신내 주유소앞(용마산로)', '먹골역 7번 출구', '먹골역 4번출구', '중화동 우리은행 앞', '동양쇼핑 정류소 앞', '영성빌딩(PAT)', '중랑역 1번 출구(중화문화복지센터)', '서울중랑우체국', '면목삼익아파트 앞', '홈플러스 상봉점 앞', '면목 홈플러스 2', '용마지구대 옆', '미아역 3번,4번 출구 사이', '이디야 커피 수유역점 앞', '다이소 삼양시장점', '강북문화예술회관', '서울북부수도사업소', '번동주공5단지 관리사무소 앞', '번동 금호어울림아파트102동앞', '강북중학교 앞', '강북구청 뒷편', '강북구청 사거리 버스정류소 앞', '송천동 주민센터', '우이초등학교 후문 옆', 'SK telecom(수유직영점) 앞', '세븐일레븐 수유장미원점 앞', '성실교회', '월드전기조명인테리어(우이동)', '미아동 복합청사', '수유동 채선당앞', '미아역 1번 출구 뒤', '삼각산동 주민센터', '미아동 한국전력공사', '광산사거리', '미아사거리 1번 출구', '번3동 주민센터 교차로', '번동 주공3, 4단지 교차로', '북서울 꿈의 숲 동문', '효성인텔리안 앞', '번동 두산위브 101동 옆', '북한산 우이역', '솔밭공원역', '419민주묘지역', '가오리역', '삼양역', '삼양사거리역', '수유1동 주민센터', '솔샘역 2번 출구', '송천동우체국', '꿈의숲 롯데캐슬', '북서울 꿈의숲 서문', '삼각산아이원아파트(105동 옆)', '419탑 앞', '강북구청사거리(던킨도너츠 앞)', '예수그리스도후기성도교회 앞', '번동사거리', '신창교', '강북문화정보도서관', '도봉세무서 앞', '419민주묘지역 1번출구', '대한병원앞', '419민주묘지 입구사거리', '수유역2번출구', '북서울 꿈의 숲 입구', '우이산 입구', '현대성우아파트 옆', '송중초등학교 옆', '석계역 문화광장 내 자전거 보관소', '광운대역 앞', '헬스케어', '태릉입구역 3번출구', '공릉역 1번 출구 앞', '화랑대역 2번출구 앞', '과기대 입구(우)', '하계2동 공항버스정류장 옆', '하계동 중평어린이공원 앞', '중계동 하나프라자빌딩 앞(중1-1)', '중계동 노원구민체육센터 옆(중1-2)', '상계역(4번출구)', '수락산역 4번출구', '노일초등학교 앞', '수연빌딩 앞', '당고개공원 대여소', '상계34동 주민센터 대여소', '백병원 사거리 농협은행 앞', 'KT 노원점 건물 앞', '희성오피앙', '한내근린공원 북측', '한내근린공원 남측', '서울여대 남문', '태릉입구역 8번출구', '삼육대 입구', '중계근린공원내', '맥도날드 상계점 앞', '파르코 앞', '노원역1번출구', '당고개입구 오거리', '공릉1단지아파트', '중앙하이츠 아파트 입구', '노원구청', '중계동 을지중학교', '서울시립과학관', '당현천근린공원', '노원역7번출구', '동해문화예술관앞', '노해근린공원내', '양지근린공원앞', '노원소방서인근', '중계중학교', '중계역 6번출구', '중계역 3번출구', '노원경찰서교차로', '인덕대학교', '상계동수락리버시티', '노원역 5번출구', '서울북부고용센터앞', '월계문화체육센터', '육군사관학교  앞', '성서대학교 밀알관', '삼육대 도서관', '삼육대 제3과학관', '현대6차 아파트', '중계종합사회복지관 교차로', '노원문화예술회관', '태릉입구역 5번출구', '불암고등학교 앞 횡단보도', '온수골사거리(스타벅스앞)', '마들역 7번출구', '마들역 3번출구', '도봉운전면허시험장', '노원정보도서관', '온곡초교 교차로', '원자력 병원', '월계미륭아파트 정문', '수락리버시티4단지', '상계주공2단지 219동', '상계보람아파트 202동', '녹천역 1번출구 앞', '도봉산광역환승센터앞', '도봉구청 정문앞', '기업은행 앞', '도봉구민회관', '보건소사거리(다비치안경창동점)', '쌍문역4번출구 주변', '쌍문동 이안아파트 앞', '도봉문화정보도서관 삼거리', '서울특별시교육청도봉도서관', '하나로마트 창동점', '시립창동운동장 입구', '신도봉사거리 버스정류장', '도봉구청 옆(중랑천변)', '창동역 2번출구', '창동청소년수련관', '방학동학마을도서관', '창1동주민센터', '삼익세라믹아파트교차로', '서울도봉초등학교인근', '서울북부지방법원', '파리바게트앞', '도봉산역 교차로 앞', '도봉고등학교 맞은편', '우리은행 앞', '방학사거리 (봄마당 앞)', '쌍문현대1차아파트 108동 앞', '도봉역 1,2번 출구사이 건너편', '버스정류장 앞', '하나은행 (창동점)', '창동주공17단지 상가앞', '제일강산수산입구', '북한산 코오롱 하늘채', '창동19단지아파트 관리사무소앞', 'KT방학지사 앞', '다이소방학점 앞', '피자헛 앞(도봉병원 옆)', 'ESA아파트 상가 앞', '창포원 남쪽 입구', '창원초등학교 교차로', '창동 주공 4단지 입구 옆', '창동시장입구 사거리', '서울북부광역등기국', '솔밭공원역 1번출구 앞', '북서울교회 버스정류소 앞', '서울북부지방법원 앞', '방학중학교 앞', '북한산 한신휴플러스APT앞', '쌍문역 1번 출구(양산부인과 빌딩)', '태양중앙교회 앞', '신동아타워 버스정류소', '도봉한신아파트 주변', '성원APT버스정류소', '시립도봉노인복지관 버스정류소', '반석교회(쌍문동)', '신원리베르텔 앞', '독산역 2번출구 자전거주차장', '서울디지털운동장 앞', '에이스하이엔드타워9차 앞', '에이스하이엔드타워8차 앞', 'LG전자 별관동(호서대 벤처타워 맞은편)', '갑을그레이트밸리 앞', '두산위브아파트 옆 상가건물 앞', '금천폭포공원 앞', '금천구청 앞 자전거거치대', '신한은행 시흥대로금융센터지점', '홈플러스 시흥점 맞은편 다비치안경 앞', '서울 시흥동우체국 앞', '상신정비공업 앞', '독산근린공원 입구', '한신아파트 앞 육교 아래', '한신코아 앞', '독산보도육교 앞 자전거 보관소', '한양수자인아파트 앞', '홈플러스 금천점 앞', '빅마켓 금천점 앞', '메이퀸웨딩컨벤션 앞', '독산역 1번출구 앞 자전거보관소', '월드메르디앙 벤처센터 2차', 'STX V타워', '금천구립 독산도서관', '수출의 다리 아래', '솔브레인이엔지 뒤편', '가산동 주민센터', '한울중학교', '독산고등학교', '롯데캐슬골드파크1차 서문', '롯데캐슬골드파크1차 동문', '독산주공 14단지 버스정류소', '벽산 디지털밸리 5차', '대륭포스트타워5차', '코오롱테크노밸리', '가산디지털단지 7번출구', '혜명양로원 담장 옆', '서울디자인직업전문학교 앞', '가산아네스트 오피스텔 앞', '성지아파트 옆 도로변', '모두의학교', '주공14단지', '석수역1번출구 앞 (SK주유소)', '대륭테크노타운 18차', 'IBK기업은행 석수역 지점 앞', '스타즈호텔독산 빌딩 앞', '위너스 스포츠클럽 골프연습장옆', '산호시티빌 옆', '금천구청앞(M빌딩)', '서울안천초등학교 옆', '대륭포스트타워6차 앞', '우리은행 시흥남자동화점 앞', '롯데캐슬골드파크3차 301동 앞', '독산3동주민센터 앞', '신도림동주민센터 앞', '도림천역 1번 출구 앞', '신도림역 1번 출구 앞', '구일우성(아) 육교 밑', '해원리바파크 육교 밑', '낙원교회 맞은편', '구로디지털단지역 앞', '한신휴아파트 앞', '구로리공원', '대림역4번출구', '구로중학교앞', '서울미래초등학교 사거리', '삼부르네상스파크빌', '동양미래대학교 정문 옆', '고척스카이돔구장 광장', '고척근린공원 고척도서관 앞', '개봉지구대 개봉치안센터', '개봉역(북측광장)', '개봉푸르지오아파트 상가', '개봉역 1번 출구 자전거보관서쪽', '한진아파트 입구', '오류동역 2번출구', '온수역 북측', '구로역 광장', '천왕이펜하우스 4단지 상가 앞', '천왕연지타운2단지 앞', '천왕역 4번출구 뒤', '디지털입구 교차로', '도야미리숯불갈비 앞', '구일고등학교 정문', '강서수도사업소민원센터', '구로구의회 앞', '화광신문사 앞', '신도림테크노근린공원', '가리봉동주민센터', '원메디타운 앞', '삼환로즈빌아파트 105동 옆', '한마을아파트 정문상가', '참새공원(백곡경노당)', '동인오피스텔 건너편 소공원', '궁동생태공원', '오정초교 앞 보도육교', '오리로와 서해안도로 교차로 앞', '신도림2차e편한세상아파트 203동 앞', '대림역 1번 출입구 밑', '남구로역 5번 출입구 앞', '천왕역 1번 출입구 앞', '구로1동우체국 앞', '천왕이펜하우스5단지 앞', '구로동롯데아파트', '구로구청', '구로도서관', '태평양물산빌딩', '개봉아이파크아파트 앞', '고척LIGA아파트 앞', '오류동역 맞은편', '구로구배드민턴실내체육관 앞', '금강수목원아파트 앞', '삼성전자 물류센터 앞', '구일역 1번 출입구 앞', '고척교 교차로', '수궁동 성당 주변', '신도림4차 e편한세상 아파트 1109동 앞', '노들역 1번출구', '사육신공원앞', '유한양행앞', '노량진근린공원 대방공원', '보라매역 8번출구', '녹십초요양병원앞', '장승배기역 5번출구', '신대방삼거리역 6번출구쪽', '신대방삼거리역 3번출구쪽', '장승배기역2번출구뒷편쪽', '상도역 1번출구', '흑석역 1번출구', '흑석역 4번출구', '중앙대학교 정문', '이수역 11번출구쪽', '사당동 아르테스 웨딩앞', '사당역 7번출구쪽', '정금마을 마을버스정류장', '동작역 5번출구 동작주차공원', '동작역 7번출구', '비계 버스정류소', '사당중학교 버스정류소', '삼일초등학교 인근', '노량진역 5번출구', '삼익아파트', '동작구민 체육센터', '상도 아이파크 아파트', '노량진동 맥도널드앞', '보라매공원 정문', '남성역3번출구 뒤', '한강 현대아파트 건너편', '사당새마을금고', '대방역 4번출구', '흑석한강푸르지오 106동앞', '서울시여성가족재단', '양문교회 앞', 'LG전자 베스트샾 대리점 앞', '총신대 앞(육교)', '숭실대 입구역3번 출구 앞', '노량진역 2번 출구 앞', '대림아파트 후문 상가 옆', '노들나루공원 입구', '노들역 3번출구', '흑석 아크로리버하임(103동)', '빕스 대방점 앞', '대방1차 e편한세상 앞', '7호선 이수역7번출구', '흑석롯데캐슬에듀포레(107동)', 'e편한세상 상도노빌리티 앞', '강남중학교 앞', '삼일수영장 앞', '상도중앙하이츠빌 입구', '사당역10번출구(금강빌딩)', '기아자동차 사당점 앞', '이수역9번출구(맥도날드)', '흑석한강푸르지오(110동)', '상도SH빌아파트 입구', '숭실대학교(중문)', '경문고등학교 앞', '서울특별시 동작관악교육지원청', '봉림교 교통섬', '신림동 우방아파트', '사당역 5번출구', '미성동 신림체육센터', '난곡 새마을금고', '도림천 신화교', '은천치안센터', '은천로입구 가로공원', '조원동 미성아파트', '서울대입구역 1번출구', '서울대입구역 마에스트로', '관악동작견인차량보관소', '관악농협농산물백화점', '에이스에이존빌딩', '중앙동 동진빌딩', '낙성대로 입구', '보성운수차고지 맞은편', '관악구청교차로', '낙성대 과학전시관', '영어마을 관악캠프', '신림역 5번출구', '신림역 8번출구', 'KT&G 관악지점', '서울신성초등학교', '신림1교 교차로', '미림여고입구 교차로', '서울산업정보학교', '난우길입구', '은천초등학교 육교', '낙성대역 3번출구 뒤', '농협 관악문성지점', '인헌초교', '관악우체국', 'JK장평타워', '낙성대역 1번출구', '봉천역 2번출구', '조원동서울본병원', '서울대입구역 5번출구', '나들목공원', '당곡사거리', '삼성디지털프라자관악점', '신림동걷고싶은문화의거리입구', '보라매공원 보도육교', '신대방역 2번 출구', '서울대학교 정문', '양녕로 입구', '동방1교', '구암초등학교 버스정류장', '대학동 고시촌', '우리은행 낙성대역지점', '현대시장사거리(신한은행)', '삼성서비스센터(관악점)', '도원맨션', '대학동주민센터', '은천교회', '삼화페인트 봉천점', '사랑의병원', '신봉천주유소', '관악문화원 건너편', '본마을 정류소 앞', '청계산입구역 1번출구', '청계산입구역 2번출구', '내곡3단지 어린이공원 앞', '언남초등학교 앞', '내곡파출소 뒤 정자', '반포1동 주민센터 앞', '서초구립반포도서관 앞', '서초현대4차아파트 201동 맞은편', '고속터미널역 5번출구 앞', '신반포역 2번출구 앞', '반포종합운동장 입구', '아크로리버뷰 부지 앞', '고속터미널역 8-1번, 8-2번 출구 사이', '반포본동 주민센터 앞', '하나은행 방배동지점 앞', '사당역 12번출구 뒤', '방배래미안 정문 앞', '백석예술대학교 제3캠퍼스 앞', '신동아럭스빌아파트 앞', '방배열린문화센터 앞', '뒷벌공원 옆', '로고스교회 맞은 편', '이수역 4번 출구', '삼성타운(삼성생명) A동 맞은편', '서초신동아1차아파트 옆', 'KT 서초지사 앞', '서울남부터미널 대합실 입구', '교대역 6번출구', '양재전화국 사거리', '양재역 11번 출구 앞', '서울가정법원', '교육개발원입구 교차로', '양재초등학교 맞은편', '서울시 품질시험소 앞', '섬들근린공원', '서초리슈빌S 글로벌 앞', '우솔초등학교 맞은편', '서초유치원 맞은편', '더케이호텔 입구(양재2)', '하이브랜드 앞', '시민의숲역 1번출구 옆', '양재동 꽃시장 입구', '하나로클럽 양재점 맞은편', '구룡사 삼거리', '잠원역 3번-4번 출구사이', '한신16차아파트 119동 앞', '이수역 1번출구', '이수고가차도 남단', '서초역 3번출구', '서초4동주민센터', '주홍교 하부', '서초포레스타 7단지', '내방역 8번출구 앞', '교대입구 교차로', '일동제약 사거리', '양재시민의숲역 3번출구', '염곡치안센터 건너편', '영동1교 (양재천근린공원)', '길마중4교 하부', '교대역 5번출구뒤', '서울서초고용센터앞', '연세사랑병원신관앞', '방배래미안아트힐 101동앞', '그룹한빌딩옆', 'CJ오쇼핑앞', 'LH서초3단지 301동 맞은편', '탑성마을입구', '능안마을입구', '안골마을입구', '남태령역 2번출구', '무지개아파트 앞', 'SPC 앞', '두상빌딩 앞', '남부터미널역 1번출구', '래미안서초스위트앞', '한전아트센터 앞', '현대고등학교 건너편', '교보타워 버스정류장(신논현역 3번출구 후면)', '논현역 7번출구', '신영 ROYAL PALACE 앞', 'MCM 본사 직영점 앞', '압구정역 2번 출구 옆', '압구정 한양 3차 아파트', '압구정파출소 앞', '청담역(우리들병원 앞)', '청담동 맥도날드 옆(위치)', '학동로 래미안 아파트 앞', '청담역 13번 출구 앞', '금원빌딩 앞', '청담나들목입구', '봉은사역 5번출구 옆', '삼성역 8번출구', '삼성도로공원', '삼성중앙역4번출구(문화센터더 리빌)', '포스코사거리 서측(수협 삼성동 지점)', '도곡역 대치지구대 방향', '학여울역 사거리', '삼성역 3번 출구', '주식회사 오뚜기 정문 앞', '천주교 대치 2동 교회 옆', '대치동 버거킹대치점', '대치동 삼성로', '뱅뱅사거리 랜드마크타워 앞', '르네상스 호텔 사거리 역삼지하보도 7번출구 앞', '르네상스호텔사거리 역삼지하보도 2번출구', '스타벅스 앞', '동영문화센터앞', '선릉역3번출구', '양재역 3번출구 주변', '삼호아파트 2동 ( 간선도로)', '3호선 매봉역 3번출구앞', '강남세브란스교차로  래미안그레이튼 104동 앞', '대모산입구역 2번출구 앞', '현대아파트 정문 앞', '삼호물산버스정류장(23370) 옆', '일원역 4~5번 출구 사이', '대청역 1번출구  뒤', '세곡사거리 대왕파출소 앞', '리엔파크 2단지 앞', '두산건설 본사', '포스코사거리(기업은행)', '역삼빌딩 앞(하나은행 옆)', '래미안그레이튼102동앞', '청소년수련관(수영장)앞', '서울본부세관(건설회관 앞)', '강남구청역 2번출구 뒤', '청담역 2번출구', '삼성역 5~6번 출구 사이', '강남구청', '르네상스호텔사거리 역삼지하보도 3번출구 앞 (더 오번 빌딩 명동칼국수 앞)', '구룡초사거리 (현대아파트10동 앞 )', '국립국악중,고교 정문 맞은편', '도곡1동 주민센터 교차로', '압구정역 교차로', '신사동 가로수길 입구', '강남 을지병원 교차로', '도산대로 렉서스 앞', 'K+ 타워 앞', '도곡동 경남아파트 건너편', 'KT선릉타워', '한티역 3번출구', '한국우편사업진흥원', '대치역 사거리', '개포동역 사거리', '수서역 1번출구 앞', '수서역 6번출구 앞', '수서역 5번출구 뒤', '삼성동베이직하우스앞', '언주역 6번출구앞', '역삼동 sk뷰 501동앞', '보금자리정원', '자곡사거리', '학동역', '논현동 279-165', '래미안강남힐즈 사거리', '강남구 도시관리공단', '경기여자고등학교 후문 (삼성로3길 입구)', '구룡마을 입구 (래미안블레스티지 아파트)', '구룡터널 입구(개포1단지아파트)', '구룡산 입구 (구룡산 서울둘레길 입구)', '구룡사 앞 교차로 (보도육교)', '개포래미안포레스트아파트 107동 앞', '개포1단지아파트 입구 (보도육교)', '영동3교 북단(우성캐릭터 앞 보도)', '더라움', '밀알학교 입구 (삼성서울병원 입구)', '공무원연금매점 교차로 (개포주공9단지 입구)', '대모산입구역 4번 출구 앞', '청담공원앞 교차로', '논현동 광명빌딩 앞', '역삼서초삼성 세무서 앞 (역삼빌딩 앞)', '강남한양수자인아파트', '역삼동 디오슈페리움 (우성아파트 사거리)', '포스코피앤에스타워 (역삼역 3번출구 부근)', '세곡동 성당', '일원1동 주민센터', '도곡역 1번 출구', '도곡역 아카데미스위트 앞', '한티역 롯데백화점 앞', '한티역 6번 출구', '선정릉 디캠프(DCAMP)앞', '봉은사역 7번 출구', '봉은사역 1,2번 출구', '학여울역 사거리(LG베스트샵 앞)', '신논현역 4번출구', '수서동 성당 맞은편', '영희초교 사거리(래미안개포루체하임)', '세곡동 사거리(대왕초등학교 정류장)', '강남한신휴플러스 6단지', '개포고등학교 정문앞', '롯데리아 개포점앞', '압구정로데오역 6번출구', '강남파이낸스센터앞(역삼역2번출구)', '대치역 7번출구', '서초 포레스타5단지', '서초역1번출구 앞', '반포1동 서초빌딩 앞', '신사역 4번출구 뒤', '우성아파트사거리 (기업은행앞)', 'LG유플러스 (방배사옥)', '양재이스타빌 앞', 'KT반포지사', 'JW타워', '이수역 6번출구 앞', '사평역 2번출구', '서초초등학교 후문', '본마을 노인복지센터 앞', '서초3교(효령로69길 방면)', '서초3교(효령로70길 방면)', '서초2교(사임당로 방면)', '서초1교 (진흥아파트 방면)', '서초 크로바타워 앞', '뉴코아 킴스클럽 앞', '반포쇼핑타운 8동 앞', '반포쇼핑타운 2동 앞', '반포경남쇼핑 앞', '반포중학교 앞(세화여고 맞은편)', '함지박 사거리', '우리은행 방배동지점 앞', '삼호3차아파트 앞', '멤피스아파트 앞', '국립국악원 앞', '한가람미술관 앞', '신흥교(애견훈련소)', '신반포역 3번출구 뒤', '서초종합체육관 입구', '양재역 8번출구 앞', '사평리 공원', '대한무역투자진흥공사 KOTRA 앞', '반포천 앞', '옛골 입구', '신논현타워 앞', '국립중앙도서관(국제회의장옆)', '반포1동 자율방범초소 옆', 'LH 서초 4단지 403동', '양재동 꽃시장 건너편', '석촌호수 서호사거리', '송파 글마루 도서관', '삼표레미콘 앞', '복정역 1번 출구 앞', '위례동주민센터 맞은편 근린공원', '복정역 2번출구 후문 (장지치안센터)', '송파구청', '보성중고등학교 후문 앞', '여흥레이크빌 앞 (석촌호수 까페거리)', '송파지역자활센터 뒤', '문정·가락 대여소 앞', '잠실나들목', '가락고등학교 앞', '테라타워2', '거여동 사거리', '가락삼환아파트 앞', '삼전역 1번출구', '석촌고분역 4번출구', '송파나루역 4번 출구옆', '한성백제역 2번 출구', '올림픽공원역 3번출구', '석촌동 주민센터', '가락1동 주민센터', '경찰병원역 1,2번 출구 사이', '문정시영아파트 5동 앞 공원', '문정역 1번출구', '문정동 힐스데이트 에코 송파', '서울방이동 고분군', '배명고등학교', '석촌고분역 2번 출구', '송파학사 옆', '위례포레샤인아파트 2318동', '잠실새내역 1번출구', '잠실월드 메르디앙', '쌍용아파트', '석촌역 8번출구', '송파역 4번출구', '마천동 성내천 쉼터', '풍납중학교 측면', '성내5교 (GS주유소)', '잠실나들목2(엘스아파트136동)', '레이클펠리스101동앞', '잠실 자전거 수리센터 앞', '헬리오시티 112동 앞', '오금공원사거리2', '위례22단지 2208동 다리앞', '경찰병원역 3번출구 앞', '송파 레미니스1단지 102동 앞', '올림픽공원사거리(선수촌아파트)', '올림픽선수촌아파트 136동 앞', '송이공원', '풍납동 아이파크 107동 앞', '송파 파인타운 11단지', '가락몰 업무동', '서울친환경유통센터', '마곡나루역 5번출구 뒤편', '마곡 엠밸리2단지', '서울도시가스 앞', '홈플러스(강서점)', '강서공업고등학교 앞', '한강아파트', '강서한강자이타워 앞', '강변아파트 310동 앞', '라이품 공영주차장 앞', '가로공원공영주차장 1번 출구', '화곡터널입구교차로', '우장초등학교 앞', '발산1동주민센터교차로', '마곡나루역 2번 출구', '롯데 R&D 센터', 'LG유플러스 마곡사옥', '마곡수명산파크1단지', '마곡문화공원', '힐스테이트에코', '등촌1-10단지 교차로', '마곡 문영비지웍스', '마곡 필네이처', '(재)FITI시험연구원', '서울식물원 식물문화센터', '서울식물원 잔디마당 앞', '마곡나루역 3번 출구', '넥센 유니버시티 앞', '마곡메가박스 앞', '명덕고교', '마곡수명산 1-2단지', '마곡13단지 정문 앞', '마곡 공공청사', '까치산역 3번 출구', '수명산파크1단지교차로', '마곡레포츠센터', '마곡수명산파크5-6단지', '강서구민올림픽체육센터', '동신아파트 104동 앞', '강서세무서 앞', '수명초등학교', '수명산파크 4단지 411동 앞', '대륭포스트타워1차', '항동지구 6단지 602동 앞', '구로자원순환센터', '항동지구 4단지 입구', '항동지구 1단지 105동 앞', '항동지구 2단지 202동 앞', '항동지구 11단지 1103동 앞', '항동지구 3단지 311동 앞', '항동프라자', '항동지구 3단지 302동 앞', '항동지구 10단지 1001동 앞', '항동지구 7단지 정문', '항동지구 8단지 803동옆(주차장입구)', '천왕이펜하우스3단지 앞', '하늘숲초등학교 앞', '신세기아파트 앞', '청구아파트 앞', '제니스스포츠 앞', '중앙유통단지 앞', '미래사랑어린이공원 앞', '초롱타운 앞', '가마산지하보도 옆', '공릉동풍림아파트 101동', '공릉풍림아파트 108동', '월계초안아파트 1단지', '중계3차청구아파트', '중계주공6단지', '월계중학교', '광운대학교 중앙도서관', '석계역 3번 출구', '도깨비시장', '상계역중앙시장', '대진고등학교', '상계8동 주민센터', '서울과학기술대학교(미래관)', '서울과학기술대학교(어학교육원)', '신창중학교 후문 맞은편 버스정류장', '골마을 근린공원', '등나무 근린공원(시립북서울미술관 앞)', '상계중학교(당현2교사거리)', '중계역 2번출구', '벽산상암스마트큐브', '래미안신공덕3차아파트', '마포구청 청사내', '상암월드컵파크5단지(상암중학교)', 'MBC 앞', 'DMC역7번출구', '서교동사거리(신)', '홍대입구역 3번출구', '경의선(노고산동)', '서울지방고용노동청 앞', '북성초교', '서대문구청', '연희삼거리', '홍제삼거리 북측', 'e편한세상 신촌4단지 앞', '홍은센트레빌 아파트 앞', '홍남교 두바퀴쉼터', '연희초등학교 앞', '북한산더샾 106동 앞', '홍은 현대아이파크 아파트 202동 앞', '무악재역 4번 출구', '독립문역사거리', '충정로역 3번 출구', '북아현 치안센터 인근', '신촌역 4번출구', '이화여대 인문관 인근', '연희 브라운스톤 아파트 앞', 'DMC엘가아파트 앞', '가좌삼거리', '북가좌삼거리2', 'DMC파크뷰자이1단지 110동 앞', 'DMC센트럴아이파크아파트', '연희파크푸르지오아파트 앞', '남가좌동 제2공영주차장', '홍은2파출소 옆', '동신병원 맞은편', 'DMC래미안e편한세상203동옆', '가재울사거리', '연가교 교차로', '홍제교', '핀란드 타워앞', 'SK리쳄블(상수도사업본부)', '당산skv1센터', '당산롯데캐슬프레스티지', '도림동배드민턴체육관', '도림고가도로 밑', '문래중학교', '문래동 주민센터', '양남사거리 교통섬', '신길 래미안 프레비뉴', '신풍역 6번출구', '영등포 푸르지오', '강변삼성래미안', '영등포역 2번출구', '래미안에스티움 앞 (신풍로)', '서울특별시 남부교육지원청', '서울신우초등학교', '봉천고개 육교', '영락고등학교', '서울대입구역 4번 출구', '창신두산아파트', '이화공영주차장', '서울특별시 교육청', '서울특별시 중부교육지원청', '파크팰리스', '세종로공원', '안국동사거리(신)', '종로타워빌딩', '종로3가역 8번출구', '종묘', '세운상가', '종로플레이스', '종로5가역 4번출구', '동대문역6번출구', '동묘앞역 6번출구', '창신3동주민센터', '창신역2번 출구', '국립어린이과학관', '성균관대입구사거리(맥도날드)', '혜화역 1번출구', '성균관대 정문', '현대그룹(본사)', '광화문 풍림스페이스본 1단지앞', '독립문역 2번출구 뒤', '인왕산 아이파크 정문', '서울미술관', 'AW컨벤션앞', '구기치안센터 앞', '로제우스 레포츠센터', '종로2가 사거리', '군자역2번출구', '광진구청 앞', '중곡역 1번출구', '광진유진스웰', '원일교회', '신양초교앞 교차로', '영동대교 북단', '어린이회관', '화양사거리', '세종사이버대학교', '중곡SK아파트앞', '응봉역 1번출구', '상왕십리역 1번출구', '왕십리교회옆', '서울숲 관리사무소', '구의아리수정수센터앞', '용마사거리', '군자역 7번출구뒤', '광진경찰서', '현대홈타운 뒷길', '건국대학교 과학관(이과대) 앞', '세종대학교', '금호스포츠센터앞', '왕십리 자이아파트', '광진정보도서관', '어린이대공원정문', '왕십리자이아파트 후문(삼거리)', '논골사거리(금호도서관 입구)', '왕십리KCC스위첸아파트', '건대입구역 사거리(롯데백화점)', '건대입구역 5번출구 뒤', '중곡사거리(국민은행)', '중앙농협(자양동)', '아차산 휴먼시아 아파트 옆', '서울숲 IT캐슬', '서원마을', '커먼그라운드', '래미안 구의파크 스위트', '세종대학교(학술정보원)', '한양대역 3번 출구', '한양대역 1번출구', '상왕십리역 6번 출입구', '뚝섬역 6번출구', '건영아파트 앞', '금호나들목', '성동도로사업소', '서울숲 공영주차장앞', '마장역3번출구', '양지사거리(센트라스APT 115동앞)', '신금호파크자이APT앞', '서울숲리버뷰자이APT105동 앞', '마장동 금호어울림APT앞', '성동구민종합체육센터 앞', '성동구 견인차량 보관소 앞', '행당동 삼부APT후문', '구의7단지현대아파트', '나루마당', '우성4차아파트', '건대병원후문', '구의역 리버비스타 오피스텔', '화양 APT(횡단보도 옆)', '광나루안전체험관', '자양사거리 (LG 유플러스)', '중곡동 파크웨이빌딩', '광진 캠퍼스시티', '광진광장', '화양동 우체국', '군자역 비채온 오피스텔', '우성식품 앞', '세종대학교(영실관)', '사근빗물펌프장 건너편', '한국지역난방공사강남지사', '한영외국어고등학교', '둔촌신성미소지움아파트', '신성교회 앞', '드래곤타워 앞', '월계2교 교차로', '송천센트레빌', '공항중학교 버스정류장', '마곡힐스테이트 정문', '발산역 8번 출구', '나이아가라관광호텔', '등촌태영아파트', '문소빌딩', '강서문화센터', '대원빌딩', '가양동 이마트 앞', '길성그랑프리텔아파트', '가양오토갤러리', '김포공항교차로', '김포공항입구 교차로', '유광시여성병원', '등촌서광아파트', '강서아동복지센터', '겸재정선미술관', '벽산아파트', '강서힐스테이트 상가 앞', '가양나들목', '정곡나들목', '염창나들목', '화곡본동시장 입구', '안양천합수부(현대3차아파트)', '공항신성빌딩 앞', '송정역 3번출구 앞', '마곡수명산파크7단지 710동 앞', '그랜드아이파크아파트 앞', '관악구민체육센터', '어린이대공원역 2번출구', '동일로58길 입구', '광진소방서 앞', '이튼타워리버 2차', '동서울우편집중국 앞', '장로회신학대학교 주기철 기념관', '항동지구5단지 501동 앞', '현대아파트 앞', '테크노마트 앞', '희훈타워빌 앞', '천왕차량사업소 입구', '진영상운 앞 중랑천 변', '휘경1동주민센터 앞', '휘경sk뷰아파트 앞', '외대앞역 교차로', '하나은행 장안동지점앞', '장안동근린공원 입구', '답십리파크자이아파트 앞', '용두롯데캐슬리치아파트 앞', '신이문빗물펌프장 옆', '한국국방연구원 앞', '휘경여중고삼거리', '이문e편한세상아파트 앞', '휘경119안전센터 앞', '서울문화재단 앞', '청계9가교차로 앞', '배봉초교 교차로', '프런트원(공덕역4번출구 앞)', '디지털미디어씨티역2번출구', '광흥창역5번출구', '아만티호텔 앞', '스타벅스(동교동) 앞', '가좌행복주택 앞', '시석빌딩 앞', '한화오벨리스크 앞', '마포구중앙도서관 정문 앞', 'JTBC 앞', '홍은도담도서관', '삼성전자R&D어린이집 뒤', '코오롱디지털타워 3차앞', '르노삼성자동차 성수사업소 앞', '행당중학교 후문', '하월곡동 광명비전교회 앞', '리버뷰신안인스빌1차 후문', '리버뷰신안인스빌2차 후문', '숙명여대앞 버스정류소 주변', '원효로다목적체육관 앞', '노들섬 다목적홀(동쪽) 숲, 앞', '국립중앙박물관 -용산가족공원 앞', '국립중앙박물관 정문 앞', '파크타워 104동 앞', '한남나인원 105동 앞', '국제루터교회 앞', '한남 준 JFSS 앞', '서울갤러리아 앞', '크라운호텔앞 버스정류소', '신용산지하차도 앞', '동원베네스트 건너편', '풍전아파트 건너편', '한강트럼프월드3차 앞', '삼각지역 14번 출구 앞(교통섬)', '한강중학교 앞 버스정류장', '라인프랜즈이태원점 앞', '용산공원갤러리앞', '효창공원앞역 5번출구 옆', '한강초교보도육교 앞', '신사두산위브2차아파트 앞', 'LG 베스트샵 앞', 'OK부동산 앞', '평창동 꽃여울(꽃집),스타벅스 앞', '쌍용아파트2단지 정문', '쌍용아파트2단지 상가앞', '웰니스센터(민방위교육장 앞)', '청계3가 사거리', '조계사앞사거리(파리바케트앞)', '자교교회 앞', '올림픽기념 국민생활관 로터리', '우리은행 서소문금융센터', '탐앤탐스 을지로3가점', '국제빌딩', '중앙일보', '을지로입구역 8번출구', '을지로지하쇼핑센터', '신세계면세점', '대신파이낸스센터', '태극당', '중부경찰서앞 사거리', '롯데시티호텔', '명동역9번 출구', '에이텍', '강남센터', '상담센터', '북한산더??106동 앞', '9955 도봉정비센터', '레이크펠리스101동앞', 'LG전자 베스트??대리점 앞', '은평뉴타운 은뜨락아파트앞', '양남사거리1', '목동1단지아파트 118동 앞', '문래현대2차', '유광사여성병원', '목동1단지아파트 상가 앞', '중앙대학교 정문 1', '중앙대학교 중앙광장', '마포 신수?貶?앞', '크린랩 본사', '?上鄲贊?자양동)', '서남물재생센터 버스정류장', '종암사거리 분수대', '아산병원 기숙사 부근', '서울이대병원', '?┗藪?번출구', '마곡금호어울림아파트', '한양3차아파트 3동 앞', '올림픽공원 북2문', '방이역 2번 출구', '위례포레샤인 2310동 부근', '올림픽공원 북2문 2', '서울복합물류 게이트 1', '풍납나들목', '위례중앙푸르지오 201동 앞', '신영체르니 아파트', '금란?鈴汰?앞', '자양한강도서관', '서울?캣걀?잔디마당 앞', '을지로4가??9번출구', '건국대학교 정문 앞', '가락시장역 롯데마트2', '서울힐링요양병원 앞', '건영아파트앞 사거리', '송파파인타운 10단지 1005동', '가락시장역 2번 출구', '한림연예예술고등학교', '가락1동 주민센터 2', '가락현대 1차 11동 앞', '문정근린공원2', '잠실나들목4', '장지역 1번출구', '강동리버스트4단지아파트 405동 앞', '송파파인타운 4단지 403동', '세양청마루 101동 앞', '올림픽공원 서1문 앞', '문정중학교', '삼성SDS', '홈플러스 잠실점', '잠실나루 나들목', '강동리버스트4단지아파트 404동 앞', '문현중고등학교 사이', '아시아선수촌아파트 교차로', '잠실나루역 고가하부', '잠실나루역4번출구뒤', '잠실 파크리오 120동 앞', '마천사거리 2', '?寬蔗볍냠?맞은 편', '이디야 커피 수??역점 앞', '건대입구역 사?타?(롯데백화점)', '바우뫼문화복지회관', '고덕숲 아이?컵?2', '포드서초서비스센터앞', '강북구청 사거리 버스정류??앞', '중??동 우리은행 앞', '?풔育逃맙?5번출구 뒤', '??울역 12번 출구 앞', '돈암?병?옆', '양서?峠閨?옆', '낙성대공원', '리버뷰신안인?볶?차 후문', '?寗뗄?1번 출구 옆', '?된？?10번 출구 앞', '광진교 남단 사거리(?彫緇槿조瓚岷?', '솔?洹뮌括結Ａ?뒤편', '건대입구역 사거리(롯데?蓉?점)', '서울출입국관리사무??앞', '종로오가 지하쇼?關씽?14번출구', '올림?활貶貶?3번출구', '?킬뼁?4번출구', '?팃台?휴먼시아 아파트 옆', '한국SGI 양천문??회관 앞', '브라운스위트레지던스', '서소문역사공원', '양천??화회관', 'e편한세상 상도노빌리??앞', '화양 APT(횡단?링?옆)', '뱅뱅사거리 랜드?뗘㈔맙?앞', '건대입구??5번출구 뒤', '서소문성지역사박물관', '광화문역 1번?瘦?앞', '?移貶?4번출구', '몽촌토?봇?1번출구 옆', '옥수??3번출구', '?으?로와 서해안도로 교차로 앞', '홍?껑?두바퀴쉼터', '?껼壙攷犬恝?1번출구', '동대문디자인플라자', '르네상스호텔사거리 역삼지?瞿링?3번출구 앞 (더 오번 빌딩 명동칼국수 앞)', '항동지구 10단??1001동 앞', '서빙고동 주민?씽?앞', '서울역 7번출구', '자양사거?? 광진아크로텔 앞', '우성아파트사거리 (기업?뵉宣?', '노원소?轢?인근', '당산역 10?萍瘦?앞', '?溯풍さ勇?(엘스아파트136동)', '방이?銓타?', '홈?첨?스 잠실점', '우성4?態팎컷?', '위례 포레샤인 1809동 부근', '신정3동 현장민?鞭?앞', '가?玔쳄恙?2번 출구', '부산은행', '삼성생명 당산사??앞', '연신내??1번 출구', '?捐?동강서기동대앞', '마곡?し玲?2번 출구', '더리브골드타워', '노??진동 맥도널드앞', '동대문역사문화공원역 5번출구', '양?뎠맡? 보건소 사잇길', '국립중앙박물관 -?六媛≠럭貶?앞', 'CBS?轢旁?앞', '?떻爰링돛갚?앞 자전거 보관소', '강??구청사거리(부민병원)', '국회2문', '국회도서관', '의정관', '국회소통관', '국회6문', '국회의사당 본관', '신길?銓타?(우리은행)', '두?愿釉꼐팎컷? 삼거리', '청계??생태교실 앞', '염창동 한마음아파트앞(염창동 빛나는 음악학원??', '래미안 구?픗컵?스위트', '뚝섬역 5번 출구 정?何?옆', '?瀏５梁졺?퓬씽?앞', '양천구청역 1번출구', '송파파크데일 1단지 115동 건너편', '독산역1번출구 옆', '영문초등학??사거리', '신방화역 8번출구', '장한평역 1번출구 (국민?뵉宣?', '낙성대 교수아파트', '반포미도2차아파트 옆', '서울도시건축전시관', '어위쉬예다인오피스텔', '매헌역 2번출구앞광역버스 정류장앞(22-297)', '국립항공박물관', '여의나루??1번출구 앞', '고속터미널역 3번출구', '롯데캐슬2차 마을버스 정류장(18804) 뒤편', '양재근린공원', '세븐일레븐 신림점', '이투스교육 앞', '반포종합운동장', '구로교 아래', '관악우체국 교차로', '관문주유소(GS칼택스) 앞', '에이스 하드웨어(시흥대로 396) 앞', '흑석동효사정앞', '서일스포츠센터', '노량진1동 청소년독서실', '시흥사거리(시흥동 994-3 앞)', '신반포상가 입구(아크로리버파크입구 건너편)', '서래공원 앞', '대륭테크노타운21차 앞', '가락중학교 앞', '푸르메병원', '올림픽공원 장미광장', '고투몰 gate 15옆', '거여5단지 503동 앞', '올림픽훼미리아파트 112동 앞', '거여동 어울림아파트  102동앞', '마천금호어울림 1차 102동앞', '대모산?逃맙?4번 출구 앞', '신대방삼거리', '상도효성해링턴플레이스', '중곡 ?봇?PT 앞', '번동 SK LPG 충전소', '현대 뜨레비앙 아파트 앞', '망우로 버거킹 앞', '동성1,2차 아파트 앞', '묵동 이마트 앞', '신내2동 주민센터 앞', '천지인 오피스텔 앞', '삼성사이버빌리지아파트', '동서울농협 앞', '퇴계로4가 교차로(중구청)', '라코지스테이 앞', '노량진근린공원', '안?狗壙拷? 버스정류장 앞', '?떠底嗤自越컵?단지 교차로', '상봉2동 주민센터 앞', '이촌2동 동원베네스트 아파?? 앞', '성대입구 사?타?', '구로구의??앞', '새우개마을', '사대문센터', '공덕??2번출구', '삼성타운(삼성생?? A동 맞은편', '여의도?峠閨?옆', '사근빗물펌?좇?건너편', '월계 청백1단지 아파트 정류장', '어린이대공원??3번출구 앞', '?堧鵑銓타?', '방이동 한양3차?팎컷? 옆', '복정역 2번출구 후문 (장지치?횝씽?', '발산역 1번, 9??인근 대여소', '대한상공회의소', '여흥?뮌謙㈉?앞 (석촌호수 까페거리)', '서울역5번출구', '??울시 공공자전거 상암센터', '도?읊섰ゼ? 앞', '?盈뎠맡? 보건소 사잇길', '영남주차장 정비센터', '방?筠옳龜뗌뻐돔?관', '항동지구 3단지 311??앞', '목동아파트 8단??상가동 앞', '성신여?育逃맙?5번출구', '풍납동 ?팀鉗컵?107동 앞', '당??kv1센터', '?ㅈさ돔?관 앞', '대모산입구역 4번 출??앞', '고덕??5번출구', '언주초등학교 입구', '?鍍?疋楊맙?잠실역2번출구 쪽)', '신도림2차e편한세상아파?? 203동 앞', '등나무 근린공원(?첩낳究?울미술관 앞)', '래미?홧忿Ｇ舅見?버 아파트 102동 옆', '신사동주민센터 옆', '?막琯돔?관', '신대?嚥?2번 출구', '한??유수지 복개주차장', '중계동 ?肉澎많光셈갸씽?옆(중1-2)', '삼성중앙역 5번출구(하이마트앞)', '압구정나들목', '휘문고교 사거리', '잠실나들목5', '강동리엔파크9단지', '서초케이타운앞', '서울 논현동우체국 앞', '봉은사역6번출구(현대아이파크타워앞)', '삼성역 2번출구', '은마아파트 입구 사거리', '염곡동(염통골) 입구', '방죽마을 입구', '은곡마을', '청담역 11번 출구', '방배역 2번 출구', '서울고앞', '강동리엔파크14단지(1401동 앞)', '영남단말기정비', '한천교 동편', '은마아파트입구 사거리', '한강초?낳링돛갚?앞', '탑성마을 버스정거장 옆', '성신여?育逃?교차로', '대모산입구역 7번 출구 앞', '일원에코파크 앞(개포로 방면)', '개포우성6차아파트 정문 앞', '역삼중학교 앞(체육관 방향)', '역삼1동 주민센터', '윗반마을 입구', '청담사거리(신한오피스텔빌딩 앞)', '풍납동 아?鉗컵?107동 앞', '중계 롯데마트', '상계주공15단지 버스정류소', '스타벅스 상계초교사거리점', '중계동 성모빌딩 앞', '상계주공 14단지 상가 앞', '녹천 자동차운전 전문학원 (녹천역 4번 출구)', '한일유앤아이아파트 105동 인근', '월계역 1번 출구', '월계 센트럴 아이파크', '상계주공1단지아파트', '노원 을지대학교 병원', '중계본동 입구', '하계 어린이 공원', '상계주공10단지 버스정류소', '당고개입구오거리 당현천변', '청소년수련관 후문', '당고개역 3번 출구', '꿈의숲 SK뷰 아파트', '중계2차 한화꿈에그린 101동 인근', '월계프라자', '상계근린공원 운동장 앞', '용산??맞은편', '고대앞?怜타? 교통섬', '성북?╂矩矗뗌뺑腑?본점 앞', '국?맛퓨榮玲?5번출구 옆', '대명초교입구 ?怜타?', '청??가교차로 앞', '오금역 7번 출??인근', '송파?し玲?4번 출구옆', '올림픽?貶翩怜타?(선수촌아파트)', '광진교 남단 사거??(디지털프라자앞)', '아차산??3번출구', '아산병원 ?茱台?부근', '브라운스?㎷?레지던스', '?片た?1번 출구 앞', '평화도봉공원 주변', '??양 APT(횡단보도 옆)', '뚝섬유?平熾?1번출구 앞', '마곡?斌」黴?앞', '광화?? 시민열린마당', '청??가사거리 부근', '세븐일레븐 수유?亮結平?앞', '마곡나루??2번 출구', '롯데월드타워(잠실역2?萍瘦?쪽)', '롯데월드타워(잠?퓻?번출구 쪽)', 'SK 영?箸泰聆?소', '진영상운 앞 중랑천 ??', '천왕센터', '삼호물산?治봐ㅇ昰?23370) 옆', '안국??5번출구 앞', '건?類늉廢캣?', '삼?갸?울병원 버스정류장', '서초초?紵閨?후문', '?뗬貪많光셈갸씽?앞', '돈암삼성풍?꼐팎컷?', '외?毓纜?4번출구', '?ㅏ箏淪閨?중앙도서관', '삼?⊙熾?4번출구 앞', '삼각지역 14번 출구 앞(교통??', '위례?옥岺關씽?맞은편 근린공원', '길?슘」潔횡팎컷?817동 상가 앞', '화랑대역 2?萍瘦?앞', '명지?淪閨?도서관', '?뼉値?가역 3번출구', '센트럴 푸르지오 시??앞', '방아골종합사회복지관', '장?홴?사거리', '문정 법조단??', '영동?諭?북단', '잠실나들목2(엘스아파트136??', '?煇?역 1번출구', 'DMC산학협력연구센??앞', '상암동?岺關씽?옆', '중앙고입??삼거리', '방?剋怜타? (봄마당 앞)', '중?撻?동진빌딩', '?溯퓨醋뼁?5번 출구 뒤', '신길동 우리?뵉?옆', '홍은 현대아?鉗컵?아파트 202동 앞', '석촌고분??4번출구', '동양쇼핑 ?ㅇ何?앞', '국민은행 종암동지??앞', '롯데월드?맙?잠실역2번출구 쪽)', 'SK망원동주??소 건너편', '마곡역 교차로(NH농??', '양천향?냄?7번출구앞', '쌍문현대1차아파트 108??앞', '골드제련앞', '신창아파트 입구 앞', '도봉구육아종합지원센터(창동)', '김영혜손뜨개 앞', '준빌딩 앞', '기자촌사거리', '폭포동입구 교차로', '다이소앞', '청암예술학교 앞', 'KT프라자도봉점 맞은편', '커피데이응암동지점', '창동역 1번출구 앞', '녹번역e편한세상 캐슬 정문 앞', '녹번역1번출구앞', '시범아파트버?봐ㅇ昰?옆', '장곡초등학교 앞', '은행사거리(불암주유소 앞)', '노원 마들스타디움', '청구성심병원 앞', '다락원체육공원 전망대 입구', '삼성디지털은평불광점앞', '삼성전자서비스 신정센터', '서울영상고교 입구', '다이소신곡시장점', '신정네거리역 교차로', '동문굿모닝탑', '목동성당 앞', '목동아파트2단지 222동 앞', '목동신시가지아파트6단지', '강북구청사거리(던킨도너츠 ??', '항동지구 7?保?정문', '양천?팎컷? 입구', '올림픽로 836(?틘?수로)', '?본?-1 공영주차장', '흑석??1번출구', '역삼서초삼성 세무?? 앞 (역삼빌딩 앞)', '건강?맨?강동지사kt', '개봉아이파크?팎컷? 앞', '뚝섬역 1번 출??옆', '도봉제1교', '송파파크데일 2단지입구 ??주차장', '성?엽많适악拉셈갸씽?앞', '유진투?憫超퓟仟?앞', '광흥?♧?2번출구 앞', '?킬뻬楮銓貶?앞', '?떠爭し玲?2번 출구', '쌍용예가(구청별??', '신?轢굻彭×痼刮팎컷? 앞', '천호역4번출구(?測鍮蓉?점)', '개포?옜?사거리', '자교교??앞', '은?祗뵀맙?힐데스하임', '이?肉?5번출구', '명?말怜타?', '?도?교 북단(우성캐릭터 앞 보도)', '장한평역 1?萍瘦?(국민은행앞)', '청계8가사?타? 부근', '홈?첨?스 앞', '?羈복溶┸?2번 출구', '석계역 4번?瘦?뒤', '롯데월드타워(잠실역2번출구 ??', '노량진역 2번 ?瘦?앞', '아차?轅?번출구', '명덕?慈냅逃?영종빌딩)', '홍대입구역 2번출구 앞', '선유도??3번출구 앞', '문배어린이?貶?앞', '오?疋옜?2번출구', '답십??파크자이아파트 앞', '보라매sk뷰', '강동리버스트8단지', '남부순환로 205', '?姸?교', '서울천호동우체국', '강동리버스트7단지', '강동리버스트6단지', '명일동신동아아파트 앞', '보라매sk뷰 108동 앞', '청기와빌딩', '둔촌동역교차로', '대성유니드아파트', '강동구음식물재활용센터', '올림픽파크텔 맞은편', '버거킹 신월점 앞', '가락쌍용2차아파트 103동', '성보하이드로빌딩', '거여삼거리', '신진빌라', '유원목동아파트 앞', '양원보도육교', '목동13_14단지 사거리', 'KT&G강동지사', '?耭榮潤캣?역 부근', '서울역 서부교차로(3)', '테라?맙?', '성내삼성아파트', '광진경?呼?', '강동역3번출구', '하계역 6번출구', '이마트 월계점', '한?舅?앤아이아파트 105동 인근', '잠실나?玲?(2번 출구 쪽)', '번동사거??', '당산??SK V1 빌딩', '청계2가 사?타? 옆', '당고개공??대여소', '한신16차아파?? 119동 앞', '행당?峠閨?후문', '서울북부?峙疫煊?앞', '강??구청사거리(SH타워)', '여흥레이크빌 앞 (석촌호수 ?箸娥타?)', '몽촌?鴉봇?1번출구 옆', '서부식?愍潁뗬? 건너편', '목동역5번출구 교통정?맑씽?앞', '동부기업(둔촌??', '?捉동?1번출구', '뚝섬역 1번 ?瘦?옆', '신창?峠閨?후문 맞은편 버스정류장', '서울디?愍适態汰渙?학교 앞', '훈련원공원주차??앞', '마곡??교차로(2번출구)', '망??빗물펌프장 앞', '상계주공 14단지 ?箚?앞', '한국전력공사(동대문 ?渗弧恥?', '하?瓦?6번출구', '뚝섬유원지??1번출구 앞', '홍?볕뎬匙돔?관', '송파 글마루 도??관', '한?복溶┸?2번 출구', '?斂嚥㈐煞自銓타?', '?떠楮Ⅹ釉?4단지 정문', '돌곶이역 앞', 'kt 행당빌딩 앞', '?勇澍?3번출구', '중랑데시앙플렉스 앞', '신길선원가와인아파?? 앞', '대림경?옛팎컷?앞', '?釉꼬?번출구', '용두동 래미안허브리츠?팎컷? 앞', 'KB국민은행 염창역 지??앞', '은행사?타?(불암주유소 앞)', '우성4차아?컷?', '서?却?3번출구', '이랜드글로벌R&D센터', '양재??8번출구 앞', '태릉입구??3번출구', '광양?峠閨?앞', '중??롯데마트', '마곡?し玲?3번 출구', '강동롯데캐슬퍼스트 아파트(?桓?동)', '동대??역사문화공원역 1번출구 뒤편', '?첩꽁훈컵㈔?맞은편', 'LIG강?潔팎컷? 103동앞', '탐앤탐??을지로3가점', '?澁轅?6번 출구 뒤', 'LG 베?뵈?샵 앞', '길동 동호빌딩', '길동 마루빌딩', '둔촌푸르지오아파트', '한성백제역 1번출구 뒤', '신?記뵉?서교동금융센터점 앞', '암사정수센터교차로(강동롯데캐슬퍼스트아파트)', '고덕센트럴 아이파크상가 앞', '프라이어팰리스아파트', '명일초등학교 옆', '송파사거리', '가락대림아파트 앞', '개봉?仄릿?개봉치안센터', '국악고교 앞 교차로', '?嗤自越컵?단지교차로', '신용산지?苟宕?앞', '도봉정비센터', '영남배송', '하늘채코오롱아?컷? 건너편', '용마사거??', '중랑전화??교차로', '한양대병원?怜타?', '현대6차?팎컷? 101동 옆', '목동아파트 8단지 상?〉?앞', '?袖映?진입부', '영등포?맡뼁?1번출구', 'SK ??린빌딩 앞', '양평역 1번출구', '?뎔楮?아카데미스위트 앞', '방학사거리 (봄마당 ??', '문래?오愍潔팎컷? 앞', '목?옜?번출구 교통정보센터 앞', '영동1??(양재천근린공원)', '구로동롯데아?컷?', '문래동롯데캐슬아파트', '?轢볍溜浩존?텔아파트', '서울율현초교 삼거리', '?탉났옜?11번출구 뒤', '맥도날드 서울둔촌DT점 앞', '레이크 호텔 앞', '역삼동 디오슈페리움 (우성아파트 사?타?)', '송파 안전체험교육관', '수유1??주민센터', 'DMC역 9?萍瘦?앞', '동대문롯데캐슬아?컷? 앞', '한일유앤아이아?컷? 105동 인근', 'KG타워 앞', '63스퀘어', '물넘이교', '약수동 주민센터', '갈현1동 주민센터', '수락 행복발전소 앞', '상계주공9단지 버스정류소', '백련산 SK뷰 아이파크 해모로 아파트 앞', '우성아파트 앞', '중랑천 뚝방길 산책로 입구', '서울숲IT캐슬 앞', '홍련봉 공원', '구립양천어르신요양센터', 'KT관악지점', '마곡14단지 1408동앞', '면목동 새싹어린이공원 앞', '상일동산(동아아파트앞 교차로)', '장한평역 1번출구 (국?括뵉宣?', '세곡데이케어센터', '이화약국 앞', '신명초교입구 교차로', '스페이스 살림 앞', '롯??시네마', '창동19단지아파?? 관리사무소앞', '당?姐怜타?', '마포??4번출구 뒤', 'LG전??베스트??대리점 앞', '청계천 생?짹낸?앞', '한림대학교 강남성심병원 신관', '??울지방경찰청', '마곡9단지 910동 상가앞', '신도림7차e편한세상아파트 806동 앞', '목동아파트 14?保?B상가 앞', '서교?옐怜타?(신)', '미아??3번,4번 출구 사이', '노량?便?맥도널드앞', '석촌??8번출구', '신동아아파트 교차로', '원당공원 앞', '서빙고??주민센터 앞', '서울식물원 잔디?떪?앞', '상계역(4번?瘦?', '한?뮐악欄茱荇玲?앞', '브?璨抵뵀?남산아파트', '영등포로터리', '신길역 2번출구', '영등포시장역 포레나영등포', '영등포 신세계백화점', '당산삼성2차아파트', '여의도 은하아파트', '코레일유통본사', '대영중고 후문', '대림우성2차아파트', '양평동성원아파트', '힐스테이트클래시안아파트', '문래역 4번출??앞', '대림동 e편한세상영등포아델포레', '공?謬쳄恙?2번출구 뒤', '대림성원상떼빌아파트', '마곡9단지 907동앞', '목양전원교회 앞 로터리', '신림?염활蔗痼복?화의거리입구', '항동하버리안2단지아파트 후문', '천왕?Я緇맙?단지 앞', '아?㈆罐?버뷰 부지 앞', '마곡역 교?湯?2번출구)', '잠실나들목6', '빅마켓 금천??앞', '서울혁신?컵?', '천호??10번 출구 앞', '?동纜Я緇맙?단지 앞', '한국종합기술?玲?앞', '대?▒怠뵈?타워1차', '홍제?銓타? 북측', '월드메르디앙 ?Γ낵씽?2차', '광화문역 7번출??앞', '증미역 3번?瘦링?등촌두산위브센티움오피스텔)', '중목초등학교 앞 육교', '두산위브아파트', '올림픽훼미??아파트 112동 앞', '삼호?갱源治봐ㅇ昰?23370) 옆', '동?濚肩〈淪閨?정문 옆', '목동아파트 613동 앞', '서?銓?월초등학교 앞', '한국국?嚥П맙?앞', '삼성중앙역·플래티넘아파트 정류소', '신청담나들목', '양남사거리2', '성동구민종합체육?씽?앞', '일원1동주민센터앞 사거리', '서울축산농협(장?횰痴?', '?╂構?산수산입구', '?堧結?2번 출구', '아크로??버뷰 부지 앞', '서울문화?榮?앞', '역삼중학교 앞(체?같?방향)', '중?壅?노원구민체육센터 옆(중1-2)', '송파지역자활?씽?뒤', '신사로입구', '신대방?銓타?역 6번출구쪽', '서울추모공원 입구', '청소년수련관 후??', '신?ㅁ?하부']\n"
     ]
    }
   ],
   "source": [
    "un = df['대여 대여소명'].unique()\n",
    "un_f = []\n",
    "for i in un:\n",
    "    un_f.append(i)\n",
    "print(un_f)"
   ]
  },
  {
   "cell_type": "markdown",
   "id": "fff109f0-1ea5-47dc-881b-4b1dc160a315",
   "metadata": {},
   "source": [
    "# 나의 집주변 대여소 현황분석"
   ]
  },
  {
   "cell_type": "code",
   "execution_count": 121,
   "id": "c846062e-99f4-4323-aa75-d5d0bbafa042",
   "metadata": {
    "scrolled": true
   },
   "outputs": [
    {
     "data": {
      "text/plain": [
       "대여시간\n",
       "18    1432779\n",
       "17    1178279\n",
       "19     984476\n",
       "16     934211\n",
       "20     825031\n",
       "15     816040\n",
       "8      808506\n",
       "21     770378\n",
       "14     725175\n",
       "13     667237\n",
       "22     643611\n",
       "12     623065\n",
       "11     537810\n",
       "9      499995\n",
       "7      486775\n",
       "10     438084\n",
       "23     341859\n",
       "0      240025\n",
       "6      188920\n",
       "1      158905\n",
       "2      103629\n",
       "5       84713\n",
       "3       68710\n",
       "4       55391\n",
       "Name: count, dtype: int64"
      ]
     },
     "execution_count": 121,
     "metadata": {},
     "output_type": "execute_result"
    }
   ],
   "source": [
    "df_rental= df['대여시간'].value_counts()\n",
    "df_rental"
   ]
  },
  {
   "cell_type": "code",
   "execution_count": 116,
   "id": "b340b880-a87e-4843-b4da-438473d236f8",
   "metadata": {},
   "outputs": [
    {
     "name": "stdout",
     "output_type": "stream",
     "text": [
      "<class 'pandas.core.series.Series'>\n",
      "Index: 13613604 entries, 0 to 3445943\n",
      "Series name: 대여시간\n",
      "Non-Null Count     Dtype\n",
      "--------------     -----\n",
      "13613604 non-null  int32\n",
      "dtypes: int32(1)\n",
      "memory usage: 155.8 MB\n"
     ]
    }
   ],
   "source": [
    "df['대여시간'].info()"
   ]
  },
  {
   "cell_type": "code",
   "execution_count": 127,
   "id": "0a5f40f4-9c5b-4d67-8ad6-93f779cf8ef7",
   "metadata": {},
   "outputs": [
    {
     "data": {
      "text/html": [
       "<div>\n",
       "<style scoped>\n",
       "    .dataframe tbody tr th:only-of-type {\n",
       "        vertical-align: middle;\n",
       "    }\n",
       "\n",
       "    .dataframe tbody tr th {\n",
       "        vertical-align: top;\n",
       "    }\n",
       "\n",
       "    .dataframe thead th {\n",
       "        text-align: right;\n",
       "    }\n",
       "</style>\n",
       "<table border=\"1\" class=\"dataframe\">\n",
       "  <thead>\n",
       "    <tr style=\"text-align: right;\">\n",
       "      <th></th>\n",
       "      <th>대여일시</th>\n",
       "      <th>대여 대여소번호</th>\n",
       "      <th>대여 대여소명</th>\n",
       "      <th>반납일시</th>\n",
       "      <th>반납대여소번호</th>\n",
       "      <th>반납대여소명</th>\n",
       "      <th>이용시간</th>\n",
       "      <th>이용거리</th>\n",
       "      <th>대여날짜</th>\n",
       "      <th>대여시간</th>\n",
       "      <th>반납시간</th>\n",
       "      <th>반납대여소</th>\n",
       "    </tr>\n",
       "  </thead>\n",
       "  <tbody>\n",
       "    <tr>\n",
       "      <th>0</th>\n",
       "      <td>2021-01-02 20:50:36</td>\n",
       "      <td>3</td>\n",
       "      <td>중랑센터</td>\n",
       "      <td>2021-01-02 21:15:41</td>\n",
       "      <td>668</td>\n",
       "      <td>서울축산농협(장안지점)</td>\n",
       "      <td>25.0</td>\n",
       "      <td>0.00</td>\n",
       "      <td>2021-01-02</td>\n",
       "      <td>20</td>\n",
       "      <td>21</td>\n",
       "      <td>668</td>\n",
       "    </tr>\n",
       "    <tr>\n",
       "      <th>1</th>\n",
       "      <td>2021-01-04 16:02:12</td>\n",
       "      <td>3</td>\n",
       "      <td>중랑센터</td>\n",
       "      <td>2021-01-04 16:17:06</td>\n",
       "      <td>668</td>\n",
       "      <td>서울축산농협(장안지점)</td>\n",
       "      <td>14.0</td>\n",
       "      <td>0.00</td>\n",
       "      <td>2021-01-04</td>\n",
       "      <td>16</td>\n",
       "      <td>16</td>\n",
       "      <td>668</td>\n",
       "    </tr>\n",
       "    <tr>\n",
       "      <th>2</th>\n",
       "      <td>2021-01-13 21:02:05</td>\n",
       "      <td>3</td>\n",
       "      <td>중랑센터</td>\n",
       "      <td>2021-01-13 21:14:04</td>\n",
       "      <td>668</td>\n",
       "      <td>서울축산농협(장안지점)</td>\n",
       "      <td>11.0</td>\n",
       "      <td>1853.99</td>\n",
       "      <td>2021-01-13</td>\n",
       "      <td>21</td>\n",
       "      <td>21</td>\n",
       "      <td>668</td>\n",
       "    </tr>\n",
       "    <tr>\n",
       "      <th>3</th>\n",
       "      <td>2021-01-14 21:02:55</td>\n",
       "      <td>3</td>\n",
       "      <td>중랑센터</td>\n",
       "      <td>2021-01-14 21:13:41</td>\n",
       "      <td>668</td>\n",
       "      <td>서울축산농협(장안지점)</td>\n",
       "      <td>10.0</td>\n",
       "      <td>0.00</td>\n",
       "      <td>2021-01-14</td>\n",
       "      <td>21</td>\n",
       "      <td>21</td>\n",
       "      <td>668</td>\n",
       "    </tr>\n",
       "    <tr>\n",
       "      <th>4</th>\n",
       "      <td>2021-01-18 18:02:08</td>\n",
       "      <td>3</td>\n",
       "      <td>중랑센터</td>\n",
       "      <td>2021-01-18 18:15:22</td>\n",
       "      <td>540</td>\n",
       "      <td>군자역 7번출구 베스트샵 앞</td>\n",
       "      <td>13.0</td>\n",
       "      <td>2291.05</td>\n",
       "      <td>2021-01-18</td>\n",
       "      <td>18</td>\n",
       "      <td>18</td>\n",
       "      <td>540</td>\n",
       "    </tr>\n",
       "    <tr>\n",
       "      <th>...</th>\n",
       "      <td>...</td>\n",
       "      <td>...</td>\n",
       "      <td>...</td>\n",
       "      <td>...</td>\n",
       "      <td>...</td>\n",
       "      <td>...</td>\n",
       "      <td>...</td>\n",
       "      <td>...</td>\n",
       "      <td>...</td>\n",
       "      <td>...</td>\n",
       "      <td>...</td>\n",
       "      <td>...</td>\n",
       "    </tr>\n",
       "    <tr>\n",
       "      <th>3445939</th>\n",
       "      <td>2021-06-30 22:44:14</td>\n",
       "      <td>152</td>\n",
       "      <td>마포구민체육센터 앞</td>\n",
       "      <td>2021-07-01 04:48:33</td>\n",
       "      <td>126</td>\n",
       "      <td>서강대 후문 옆</td>\n",
       "      <td>364.0</td>\n",
       "      <td>10153.36</td>\n",
       "      <td>2021-06-30</td>\n",
       "      <td>22</td>\n",
       "      <td>4</td>\n",
       "      <td>00126</td>\n",
       "    </tr>\n",
       "    <tr>\n",
       "      <th>3445940</th>\n",
       "      <td>2021-06-30 22:45:19</td>\n",
       "      <td>152</td>\n",
       "      <td>마포구민체육센터 앞</td>\n",
       "      <td>2021-07-01 04:52:25</td>\n",
       "      <td>437</td>\n",
       "      <td>대흥역 1번출구</td>\n",
       "      <td>367.0</td>\n",
       "      <td>10100.71</td>\n",
       "      <td>2021-06-30</td>\n",
       "      <td>22</td>\n",
       "      <td>4</td>\n",
       "      <td>00437</td>\n",
       "    </tr>\n",
       "    <tr>\n",
       "      <th>3445941</th>\n",
       "      <td>2021-06-30 22:43:43</td>\n",
       "      <td>152</td>\n",
       "      <td>마포구민체육센터 앞</td>\n",
       "      <td>2021-07-01 04:52:27</td>\n",
       "      <td>437</td>\n",
       "      <td>대흥역 1번출구</td>\n",
       "      <td>368.0</td>\n",
       "      <td>430.00</td>\n",
       "      <td>2021-06-30</td>\n",
       "      <td>22</td>\n",
       "      <td>4</td>\n",
       "      <td>00437</td>\n",
       "    </tr>\n",
       "    <tr>\n",
       "      <th>3445942</th>\n",
       "      <td>2021-06-30 22:11:14</td>\n",
       "      <td>2220</td>\n",
       "      <td>반포본동 주민센터 앞</td>\n",
       "      <td>2021-07-01 04:55:29</td>\n",
       "      <td>2526</td>\n",
       "      <td>반포경남쇼핑 앞</td>\n",
       "      <td>404.0</td>\n",
       "      <td>0.00</td>\n",
       "      <td>2021-06-30</td>\n",
       "      <td>22</td>\n",
       "      <td>4</td>\n",
       "      <td>02526</td>\n",
       "    </tr>\n",
       "    <tr>\n",
       "      <th>3445943</th>\n",
       "      <td>2021-06-30 22:12:10</td>\n",
       "      <td>2220</td>\n",
       "      <td>반포본동 주민센터 앞</td>\n",
       "      <td>2021-07-01 04:55:30</td>\n",
       "      <td>2526</td>\n",
       "      <td>반포경남쇼핑 앞</td>\n",
       "      <td>403.0</td>\n",
       "      <td>4541.22</td>\n",
       "      <td>2021-06-30</td>\n",
       "      <td>22</td>\n",
       "      <td>4</td>\n",
       "      <td>02526</td>\n",
       "    </tr>\n",
       "  </tbody>\n",
       "</table>\n",
       "<p>7110624 rows × 12 columns</p>\n",
       "</div>"
      ],
      "text/plain": [
       "                       대여일시 대여 대여소번호      대여 대여소명                반납일시 반납대여소번호  \\\n",
       "0       2021-01-02 20:50:36        3         중랑센터 2021-01-02 21:15:41     668   \n",
       "1       2021-01-04 16:02:12        3         중랑센터 2021-01-04 16:17:06     668   \n",
       "2       2021-01-13 21:02:05        3         중랑센터 2021-01-13 21:14:04     668   \n",
       "3       2021-01-14 21:02:55        3         중랑센터 2021-01-14 21:13:41     668   \n",
       "4       2021-01-18 18:02:08        3         중랑센터 2021-01-18 18:15:22     540   \n",
       "...                     ...      ...          ...                 ...     ...   \n",
       "3445939 2021-06-30 22:44:14      152   마포구민체육센터 앞 2021-07-01 04:48:33     126   \n",
       "3445940 2021-06-30 22:45:19      152   마포구민체육센터 앞 2021-07-01 04:52:25     437   \n",
       "3445941 2021-06-30 22:43:43      152   마포구민체육센터 앞 2021-07-01 04:52:27     437   \n",
       "3445942 2021-06-30 22:11:14     2220  반포본동 주민센터 앞 2021-07-01 04:55:29    2526   \n",
       "3445943 2021-06-30 22:12:10     2220  반포본동 주민센터 앞 2021-07-01 04:55:30    2526   \n",
       "\n",
       "                  반납대여소명   이용시간      이용거리        대여날짜  대여시간  반납시간  반납대여소  \n",
       "0           서울축산농협(장안지점)   25.0      0.00  2021-01-02    20    21    668  \n",
       "1           서울축산농협(장안지점)   14.0      0.00  2021-01-04    16    16    668  \n",
       "2           서울축산농협(장안지점)   11.0   1853.99  2021-01-13    21    21    668  \n",
       "3           서울축산농협(장안지점)   10.0      0.00  2021-01-14    21    21    668  \n",
       "4        군자역 7번출구 베스트샵 앞   13.0   2291.05  2021-01-18    18    18    540  \n",
       "...                  ...    ...       ...         ...   ...   ...    ...  \n",
       "3445939         서강대 후문 옆  364.0  10153.36  2021-06-30    22     4  00126  \n",
       "3445940         대흥역 1번출구  367.0  10100.71  2021-06-30    22     4  00437  \n",
       "3445941         대흥역 1번출구  368.0    430.00  2021-06-30    22     4  00437  \n",
       "3445942         반포경남쇼핑 앞  404.0      0.00  2021-06-30    22     4  02526  \n",
       "3445943         반포경남쇼핑 앞  403.0   4541.22  2021-06-30    22     4  02526  \n",
       "\n",
       "[7110624 rows x 12 columns]"
      ]
     },
     "execution_count": 127,
     "metadata": {},
     "output_type": "execute_result"
    }
   ],
   "source": [
    "df_rental = df[df['대여시간']>=16]\n",
    "df_rental"
   ]
  },
  {
   "cell_type": "code",
   "execution_count": 130,
   "id": "6c334988-7a50-4731-91b0-6484e1e13f8f",
   "metadata": {},
   "outputs": [
    {
     "data": {
      "text/html": [
       "<div>\n",
       "<style scoped>\n",
       "    .dataframe tbody tr th:only-of-type {\n",
       "        vertical-align: middle;\n",
       "    }\n",
       "\n",
       "    .dataframe tbody tr th {\n",
       "        vertical-align: top;\n",
       "    }\n",
       "\n",
       "    .dataframe thead th {\n",
       "        text-align: right;\n",
       "    }\n",
       "</style>\n",
       "<table border=\"1\" class=\"dataframe\">\n",
       "  <thead>\n",
       "    <tr style=\"text-align: right;\">\n",
       "      <th></th>\n",
       "      <th></th>\n",
       "      <th>count</th>\n",
       "    </tr>\n",
       "    <tr>\n",
       "      <th>대여 대여소번호</th>\n",
       "      <th>대여 대여소명</th>\n",
       "      <th></th>\n",
       "    </tr>\n",
       "  </thead>\n",
       "  <tbody>\n",
       "    <tr>\n",
       "      <th>502</th>\n",
       "      <th>뚝섬유원지역 1번출구 앞</th>\n",
       "      <td>44700</td>\n",
       "    </tr>\n",
       "    <tr>\n",
       "      <th>207</th>\n",
       "      <th>여의나루역 1번출구 앞</th>\n",
       "      <td>43593</td>\n",
       "    </tr>\n",
       "    <tr>\n",
       "      <th>152</th>\n",
       "      <th>마포구민체육센터 앞</th>\n",
       "      <td>27228</td>\n",
       "    </tr>\n",
       "    <tr>\n",
       "      <th>2102</th>\n",
       "      <th>봉림교 교통섬</th>\n",
       "      <td>25903</td>\n",
       "    </tr>\n",
       "    <tr>\n",
       "      <th>1210</th>\n",
       "      <th>롯데월드타워(잠실역2번출구 쪽)</th>\n",
       "      <td>22312</td>\n",
       "    </tr>\n",
       "    <tr>\n",
       "      <th>2715</th>\n",
       "      <th>마곡나루역 2번 출구</th>\n",
       "      <td>20488</td>\n",
       "    </tr>\n",
       "    <tr>\n",
       "      <th>272</th>\n",
       "      <th>당산육갑문</th>\n",
       "      <td>20312</td>\n",
       "    </tr>\n",
       "    <tr>\n",
       "      <th>2177</th>\n",
       "      <th>신대방역 2번 출구</th>\n",
       "      <td>18348</td>\n",
       "    </tr>\n",
       "    <tr>\n",
       "      <th>1153</th>\n",
       "      <th>발산역 1번, 9번 인근 대여소</th>\n",
       "      <td>17919</td>\n",
       "    </tr>\n",
       "    <tr>\n",
       "      <th>210</th>\n",
       "      <th>IFC몰</th>\n",
       "      <td>17845</td>\n",
       "    </tr>\n",
       "    <tr>\n",
       "      <th>565</th>\n",
       "      <th>옥수역 3번출구</th>\n",
       "      <td>17371</td>\n",
       "    </tr>\n",
       "    <tr>\n",
       "      <th>1906</th>\n",
       "      <th>신도림역 1번 출구 앞</th>\n",
       "      <td>17043</td>\n",
       "    </tr>\n",
       "    <tr>\n",
       "      <th>3533</th>\n",
       "      <th>건대입구역 사거리(롯데백화점)</th>\n",
       "      <td>16727</td>\n",
       "    </tr>\n",
       "    <tr>\n",
       "      <th>583</th>\n",
       "      <th>청계천 생태교실 앞</th>\n",
       "      <td>16685</td>\n",
       "    </tr>\n",
       "    <tr>\n",
       "      <th>2219</th>\n",
       "      <th>고속터미널역 8-1번, 8-2번 출구 사이</th>\n",
       "      <td>16226</td>\n",
       "    </tr>\n",
       "    <tr>\n",
       "      <th>247</th>\n",
       "      <th>당산역 10번출구 앞</th>\n",
       "      <td>15873</td>\n",
       "    </tr>\n",
       "    <tr>\n",
       "      <th>2622</th>\n",
       "      <th>올림픽공원역 3번출구</th>\n",
       "      <td>15710</td>\n",
       "    </tr>\n",
       "    <tr>\n",
       "      <th>2728</th>\n",
       "      <th>마곡나루역 3번 출구</th>\n",
       "      <td>15092</td>\n",
       "    </tr>\n",
       "    <tr>\n",
       "      <th>1152</th>\n",
       "      <th>마곡역교차로</th>\n",
       "      <td>14957</td>\n",
       "    </tr>\n",
       "    <tr>\n",
       "      <th>2183</th>\n",
       "      <th>동방1교</th>\n",
       "      <td>14853</td>\n",
       "    </tr>\n",
       "  </tbody>\n",
       "</table>\n",
       "</div>"
      ],
      "text/plain": [
       "                                  count\n",
       "대여 대여소번호 대여 대여소명                       \n",
       "502      뚝섬유원지역 1번출구 앞            44700\n",
       "207      여의나루역 1번출구 앞             43593\n",
       "152      마포구민체육센터 앞               27228\n",
       "2102     봉림교 교통섬                  25903\n",
       "1210     롯데월드타워(잠실역2번출구 쪽)        22312\n",
       "2715     마곡나루역 2번 출구              20488\n",
       "272      당산육갑문                    20312\n",
       "2177     신대방역 2번 출구               18348\n",
       "1153     발산역 1번, 9번 인근 대여소        17919\n",
       "210      IFC몰                     17845\n",
       "565      옥수역 3번출구                 17371\n",
       "1906     신도림역 1번 출구 앞             17043\n",
       "3533     건대입구역 사거리(롯데백화점)         16727\n",
       "583      청계천 생태교실 앞               16685\n",
       "2219     고속터미널역 8-1번, 8-2번 출구 사이  16226\n",
       "247      당산역 10번출구 앞              15873\n",
       "2622     올림픽공원역 3번출구              15710\n",
       "2728     마곡나루역 3번 출구              15092\n",
       "1152     마곡역교차로                   14957\n",
       "2183     동방1교                     14853"
      ]
     },
     "execution_count": 130,
     "metadata": {},
     "output_type": "execute_result"
    }
   ],
   "source": [
    "df_rental[['대여 대여소번호','대여 대여소명']].value_counts()[:20].to_frame()"
   ]
  },
  {
   "cell_type": "code",
   "execution_count": 123,
   "id": "d8af95b9-98d7-4cda-988b-cfddf6fbacb8",
   "metadata": {},
   "outputs": [
    {
     "data": {
      "text/plain": [
       "반납시간\n",
       "18    1437723\n",
       "19    1125447\n",
       "17    1097623\n",
       "16     880629\n",
       "20     864644\n",
       "8      817076\n",
       "21     812357\n",
       "22     768302\n",
       "15     749940\n",
       "14     657826\n",
       "13     628908\n",
       "12     591577\n",
       "9      499033\n",
       "11     470053\n",
       "23     447477\n",
       "10     402350\n",
       "7      389007\n",
       "0      290169\n",
       "1      190954\n",
       "6      152003\n",
       "2      125912\n",
       "3       80243\n",
       "5       73983\n",
       "4       60368\n",
       "Name: count, dtype: int64"
      ]
     },
     "execution_count": 123,
     "metadata": {},
     "output_type": "execute_result"
    }
   ],
   "source": [
    "df_return = df['반납시간'].value_counts()\n",
    "df_return"
   ]
  },
  {
   "cell_type": "code",
   "execution_count": 124,
   "id": "b9b87a79-3535-473c-a107-ca8e077ccd7d",
   "metadata": {},
   "outputs": [
    {
     "data": {
      "text/html": [
       "<div>\n",
       "<style scoped>\n",
       "    .dataframe tbody tr th:only-of-type {\n",
       "        vertical-align: middle;\n",
       "    }\n",
       "\n",
       "    .dataframe tbody tr th {\n",
       "        vertical-align: top;\n",
       "    }\n",
       "\n",
       "    .dataframe thead th {\n",
       "        text-align: right;\n",
       "    }\n",
       "</style>\n",
       "<table border=\"1\" class=\"dataframe\">\n",
       "  <thead>\n",
       "    <tr style=\"text-align: right;\">\n",
       "      <th></th>\n",
       "      <th>대여일시</th>\n",
       "      <th>대여 대여소번호</th>\n",
       "      <th>대여 대여소명</th>\n",
       "      <th>반납일시</th>\n",
       "      <th>반납대여소번호</th>\n",
       "      <th>반납대여소명</th>\n",
       "      <th>이용시간</th>\n",
       "      <th>이용거리</th>\n",
       "      <th>대여날짜</th>\n",
       "      <th>대여시간</th>\n",
       "      <th>반납시간</th>\n",
       "      <th>반납대여소</th>\n",
       "    </tr>\n",
       "  </thead>\n",
       "  <tbody>\n",
       "    <tr>\n",
       "      <th>0</th>\n",
       "      <td>2021-01-02 20:50:36</td>\n",
       "      <td>3</td>\n",
       "      <td>중랑센터</td>\n",
       "      <td>2021-01-02 21:15:41</td>\n",
       "      <td>668</td>\n",
       "      <td>서울축산농협(장안지점)</td>\n",
       "      <td>25.0</td>\n",
       "      <td>0.00</td>\n",
       "      <td>2021-01-02</td>\n",
       "      <td>20</td>\n",
       "      <td>21</td>\n",
       "      <td>668</td>\n",
       "    </tr>\n",
       "    <tr>\n",
       "      <th>1</th>\n",
       "      <td>2021-01-04 16:02:12</td>\n",
       "      <td>3</td>\n",
       "      <td>중랑센터</td>\n",
       "      <td>2021-01-04 16:17:06</td>\n",
       "      <td>668</td>\n",
       "      <td>서울축산농협(장안지점)</td>\n",
       "      <td>14.0</td>\n",
       "      <td>0.00</td>\n",
       "      <td>2021-01-04</td>\n",
       "      <td>16</td>\n",
       "      <td>16</td>\n",
       "      <td>668</td>\n",
       "    </tr>\n",
       "    <tr>\n",
       "      <th>2</th>\n",
       "      <td>2021-01-13 21:02:05</td>\n",
       "      <td>3</td>\n",
       "      <td>중랑센터</td>\n",
       "      <td>2021-01-13 21:14:04</td>\n",
       "      <td>668</td>\n",
       "      <td>서울축산농협(장안지점)</td>\n",
       "      <td>11.0</td>\n",
       "      <td>1853.99</td>\n",
       "      <td>2021-01-13</td>\n",
       "      <td>21</td>\n",
       "      <td>21</td>\n",
       "      <td>668</td>\n",
       "    </tr>\n",
       "    <tr>\n",
       "      <th>3</th>\n",
       "      <td>2021-01-14 21:02:55</td>\n",
       "      <td>3</td>\n",
       "      <td>중랑센터</td>\n",
       "      <td>2021-01-14 21:13:41</td>\n",
       "      <td>668</td>\n",
       "      <td>서울축산농협(장안지점)</td>\n",
       "      <td>10.0</td>\n",
       "      <td>0.00</td>\n",
       "      <td>2021-01-14</td>\n",
       "      <td>21</td>\n",
       "      <td>21</td>\n",
       "      <td>668</td>\n",
       "    </tr>\n",
       "    <tr>\n",
       "      <th>4</th>\n",
       "      <td>2021-01-18 18:02:08</td>\n",
       "      <td>3</td>\n",
       "      <td>중랑센터</td>\n",
       "      <td>2021-01-18 18:15:22</td>\n",
       "      <td>540</td>\n",
       "      <td>군자역 7번출구 베스트샵 앞</td>\n",
       "      <td>13.0</td>\n",
       "      <td>2291.05</td>\n",
       "      <td>2021-01-18</td>\n",
       "      <td>18</td>\n",
       "      <td>18</td>\n",
       "      <td>540</td>\n",
       "    </tr>\n",
       "    <tr>\n",
       "      <th>...</th>\n",
       "      <td>...</td>\n",
       "      <td>...</td>\n",
       "      <td>...</td>\n",
       "      <td>...</td>\n",
       "      <td>...</td>\n",
       "      <td>...</td>\n",
       "      <td>...</td>\n",
       "      <td>...</td>\n",
       "      <td>...</td>\n",
       "      <td>...</td>\n",
       "      <td>...</td>\n",
       "      <td>...</td>\n",
       "    </tr>\n",
       "    <tr>\n",
       "      <th>3443466</th>\n",
       "      <td>2021-06-30 22:17:23</td>\n",
       "      <td>207</td>\n",
       "      <td>여의나루역 1번출구 앞</td>\n",
       "      <td>2021-06-30 23:48:42</td>\n",
       "      <td>825</td>\n",
       "      <td>서빙고동 주민센터 앞</td>\n",
       "      <td>91.0</td>\n",
       "      <td>8290.69</td>\n",
       "      <td>2021-06-30</td>\n",
       "      <td>22</td>\n",
       "      <td>23</td>\n",
       "      <td>00825</td>\n",
       "    </tr>\n",
       "    <tr>\n",
       "      <th>3443467</th>\n",
       "      <td>2021-06-30 22:48:23</td>\n",
       "      <td>222</td>\n",
       "      <td>시범아파트버스정류장 옆</td>\n",
       "      <td>2021-06-30 23:48:45</td>\n",
       "      <td>225</td>\n",
       "      <td>앙카라공원 앞</td>\n",
       "      <td>60.0</td>\n",
       "      <td>900.00</td>\n",
       "      <td>2021-06-30</td>\n",
       "      <td>22</td>\n",
       "      <td>23</td>\n",
       "      <td>00225</td>\n",
       "    </tr>\n",
       "    <tr>\n",
       "      <th>3443468</th>\n",
       "      <td>2021-06-30 22:53:28</td>\n",
       "      <td>293</td>\n",
       "      <td>충북 미래관</td>\n",
       "      <td>2021-06-30 23:48:51</td>\n",
       "      <td>293</td>\n",
       "      <td>충북 미래관</td>\n",
       "      <td>55.0</td>\n",
       "      <td>0.00</td>\n",
       "      <td>2021-06-30</td>\n",
       "      <td>22</td>\n",
       "      <td>23</td>\n",
       "      <td>00293</td>\n",
       "    </tr>\n",
       "    <tr>\n",
       "      <th>3443469</th>\n",
       "      <td>2021-06-30 22:43:34</td>\n",
       "      <td>2191</td>\n",
       "      <td>대학동주민센터</td>\n",
       "      <td>2021-06-30 23:48:54</td>\n",
       "      <td>2135</td>\n",
       "      <td>신림역 5번출구</td>\n",
       "      <td>65.0</td>\n",
       "      <td>2468.75</td>\n",
       "      <td>2021-06-30</td>\n",
       "      <td>22</td>\n",
       "      <td>23</td>\n",
       "      <td>02135</td>\n",
       "    </tr>\n",
       "    <tr>\n",
       "      <th>3443470</th>\n",
       "      <td>2021-06-30 22:52:06</td>\n",
       "      <td>1336</td>\n",
       "      <td>성북3교 위</td>\n",
       "      <td>2021-06-30 23:48:56</td>\n",
       "      <td>1336</td>\n",
       "      <td>성북3교 위</td>\n",
       "      <td>56.0</td>\n",
       "      <td>0.00</td>\n",
       "      <td>2021-06-30</td>\n",
       "      <td>22</td>\n",
       "      <td>23</td>\n",
       "      <td>01336</td>\n",
       "    </tr>\n",
       "  </tbody>\n",
       "</table>\n",
       "<p>7434202 rows × 12 columns</p>\n",
       "</div>"
      ],
      "text/plain": [
       "                       대여일시 대여 대여소번호       대여 대여소명                반납일시  \\\n",
       "0       2021-01-02 20:50:36        3          중랑센터 2021-01-02 21:15:41   \n",
       "1       2021-01-04 16:02:12        3          중랑센터 2021-01-04 16:17:06   \n",
       "2       2021-01-13 21:02:05        3          중랑센터 2021-01-13 21:14:04   \n",
       "3       2021-01-14 21:02:55        3          중랑센터 2021-01-14 21:13:41   \n",
       "4       2021-01-18 18:02:08        3          중랑센터 2021-01-18 18:15:22   \n",
       "...                     ...      ...           ...                 ...   \n",
       "3443466 2021-06-30 22:17:23      207  여의나루역 1번출구 앞 2021-06-30 23:48:42   \n",
       "3443467 2021-06-30 22:48:23      222  시범아파트버스정류장 옆 2021-06-30 23:48:45   \n",
       "3443468 2021-06-30 22:53:28      293        충북 미래관 2021-06-30 23:48:51   \n",
       "3443469 2021-06-30 22:43:34     2191       대학동주민센터 2021-06-30 23:48:54   \n",
       "3443470 2021-06-30 22:52:06     1336        성북3교 위 2021-06-30 23:48:56   \n",
       "\n",
       "        반납대여소번호           반납대여소명  이용시간     이용거리        대여날짜  대여시간  반납시간  반납대여소  \n",
       "0           668     서울축산농협(장안지점)  25.0     0.00  2021-01-02    20    21    668  \n",
       "1           668     서울축산농협(장안지점)  14.0     0.00  2021-01-04    16    16    668  \n",
       "2           668     서울축산농협(장안지점)  11.0  1853.99  2021-01-13    21    21    668  \n",
       "3           668     서울축산농협(장안지점)  10.0     0.00  2021-01-14    21    21    668  \n",
       "4           540  군자역 7번출구 베스트샵 앞  13.0  2291.05  2021-01-18    18    18    540  \n",
       "...         ...              ...   ...      ...         ...   ...   ...    ...  \n",
       "3443466     825      서빙고동 주민센터 앞  91.0  8290.69  2021-06-30    22    23  00825  \n",
       "3443467     225          앙카라공원 앞  60.0   900.00  2021-06-30    22    23  00225  \n",
       "3443468     293           충북 미래관  55.0     0.00  2021-06-30    22    23  00293  \n",
       "3443469    2135         신림역 5번출구  65.0  2468.75  2021-06-30    22    23  02135  \n",
       "3443470    1336           성북3교 위  56.0     0.00  2021-06-30    22    23  01336  \n",
       "\n",
       "[7434202 rows x 12 columns]"
      ]
     },
     "execution_count": 124,
     "metadata": {},
     "output_type": "execute_result"
    }
   ],
   "source": [
    "df_return = df[df['반납시간']>=16]\n",
    "df_return"
   ]
  },
  {
   "cell_type": "code",
   "execution_count": 132,
   "id": "2794a77b-8863-4efe-831b-ebbc3cc582ab",
   "metadata": {},
   "outputs": [
    {
     "data": {
      "text/html": [
       "<div>\n",
       "<style scoped>\n",
       "    .dataframe tbody tr th:only-of-type {\n",
       "        vertical-align: middle;\n",
       "    }\n",
       "\n",
       "    .dataframe tbody tr th {\n",
       "        vertical-align: top;\n",
       "    }\n",
       "\n",
       "    .dataframe thead th {\n",
       "        text-align: right;\n",
       "    }\n",
       "</style>\n",
       "<table border=\"1\" class=\"dataframe\">\n",
       "  <thead>\n",
       "    <tr style=\"text-align: right;\">\n",
       "      <th></th>\n",
       "      <th></th>\n",
       "      <th>count</th>\n",
       "    </tr>\n",
       "    <tr>\n",
       "      <th>반납대여소번호</th>\n",
       "      <th>반납대여소명</th>\n",
       "      <th></th>\n",
       "    </tr>\n",
       "  </thead>\n",
       "  <tbody>\n",
       "    <tr>\n",
       "      <th>502</th>\n",
       "      <th>뚝섬유원지역 1번출구 앞</th>\n",
       "      <td>53431</td>\n",
       "    </tr>\n",
       "    <tr>\n",
       "      <th>207</th>\n",
       "      <th>여의나루역 1번출구 앞</th>\n",
       "      <td>47695</td>\n",
       "    </tr>\n",
       "    <tr>\n",
       "      <th>152</th>\n",
       "      <th>마포구민체육센터 앞</th>\n",
       "      <td>34041</td>\n",
       "    </tr>\n",
       "    <tr>\n",
       "      <th>2102</th>\n",
       "      <th>봉림교 교통섬</th>\n",
       "      <td>28691</td>\n",
       "    </tr>\n",
       "    <tr>\n",
       "      <th>272</th>\n",
       "      <th>당산육갑문</th>\n",
       "      <td>23274</td>\n",
       "    </tr>\n",
       "    <tr>\n",
       "      <th>565</th>\n",
       "      <th>옥수역 3번출구</th>\n",
       "      <td>20752</td>\n",
       "    </tr>\n",
       "    <tr>\n",
       "      <th>2715</th>\n",
       "      <th>마곡나루역 2번 출구</th>\n",
       "      <td>18991</td>\n",
       "    </tr>\n",
       "    <tr>\n",
       "      <th>583</th>\n",
       "      <th>청계천 생태교실 앞</th>\n",
       "      <td>18682</td>\n",
       "    </tr>\n",
       "    <tr>\n",
       "      <th>2177</th>\n",
       "      <th>신대방역 2번 출구</th>\n",
       "      <td>18419</td>\n",
       "    </tr>\n",
       "    <tr>\n",
       "      <th>2262</th>\n",
       "      <th>한신16차아파트 119동 앞</th>\n",
       "      <td>17716</td>\n",
       "    </tr>\n",
       "    <tr>\n",
       "      <th>1210</th>\n",
       "      <th>롯데월드타워(잠실역2번출구 쪽)</th>\n",
       "      <td>17330</td>\n",
       "    </tr>\n",
       "    <tr>\n",
       "      <th>3511</th>\n",
       "      <th>응봉역 1번출구</th>\n",
       "      <td>16633</td>\n",
       "    </tr>\n",
       "    <tr>\n",
       "      <th>2219</th>\n",
       "      <th>고속터미널역 8-1번, 8-2번 출구 사이</th>\n",
       "      <td>16631</td>\n",
       "    </tr>\n",
       "    <tr>\n",
       "      <th>3533</th>\n",
       "      <th>건대입구역 사거리(롯데백화점)</th>\n",
       "      <td>16453</td>\n",
       "    </tr>\n",
       "    <tr>\n",
       "      <th>1153</th>\n",
       "      <th>발산역 1번, 9번 인근 대여소</th>\n",
       "      <td>16326</td>\n",
       "    </tr>\n",
       "    <tr>\n",
       "      <th>2183</th>\n",
       "      <th>동방1교</th>\n",
       "      <td>16100</td>\n",
       "    </tr>\n",
       "    <tr>\n",
       "      <th>2622</th>\n",
       "      <th>올림픽공원역 3번출구</th>\n",
       "      <td>15249</td>\n",
       "    </tr>\n",
       "    <tr>\n",
       "      <th>1906</th>\n",
       "      <th>신도림역 1번 출구 앞</th>\n",
       "      <td>15011</td>\n",
       "    </tr>\n",
       "    <tr>\n",
       "      <th>907</th>\n",
       "      <th>CJ 드림시티</th>\n",
       "      <td>15003</td>\n",
       "    </tr>\n",
       "    <tr>\n",
       "      <th>247</th>\n",
       "      <th>당산역 10번출구 앞</th>\n",
       "      <td>14844</td>\n",
       "    </tr>\n",
       "  </tbody>\n",
       "</table>\n",
       "</div>"
      ],
      "text/plain": [
       "                                 count\n",
       "반납대여소번호 반납대여소명                        \n",
       "502     뚝섬유원지역 1번출구 앞            53431\n",
       "207     여의나루역 1번출구 앞             47695\n",
       "152     마포구민체육센터 앞               34041\n",
       "2102    봉림교 교통섬                  28691\n",
       "272     당산육갑문                    23274\n",
       "565     옥수역 3번출구                 20752\n",
       "2715    마곡나루역 2번 출구              18991\n",
       "583     청계천 생태교실 앞               18682\n",
       "2177    신대방역 2번 출구               18419\n",
       "2262    한신16차아파트 119동 앞          17716\n",
       "1210    롯데월드타워(잠실역2번출구 쪽)        17330\n",
       "3511    응봉역 1번출구                 16633\n",
       "2219    고속터미널역 8-1번, 8-2번 출구 사이  16631\n",
       "3533    건대입구역 사거리(롯데백화점)         16453\n",
       "1153    발산역 1번, 9번 인근 대여소        16326\n",
       "2183    동방1교                     16100\n",
       "2622    올림픽공원역 3번출구              15249\n",
       "1906    신도림역 1번 출구 앞             15011\n",
       "907     CJ 드림시티                  15003\n",
       "247     당산역 10번출구 앞              14844"
      ]
     },
     "execution_count": 132,
     "metadata": {},
     "output_type": "execute_result"
    }
   ],
   "source": [
    "df_return[['반납대여소번호','반납대여소명']].value_counts()[:20].to_frame()"
   ]
  },
  {
   "cell_type": "code",
   "execution_count": 221,
   "id": "2ec06d3e-ef6b-44bf-9d35-577827e007f7",
   "metadata": {},
   "outputs": [
    {
     "data": {
      "text/html": [
       "<div>\n",
       "<style scoped>\n",
       "    .dataframe tbody tr th:only-of-type {\n",
       "        vertical-align: middle;\n",
       "    }\n",
       "\n",
       "    .dataframe tbody tr th {\n",
       "        vertical-align: top;\n",
       "    }\n",
       "\n",
       "    .dataframe thead th {\n",
       "        text-align: right;\n",
       "    }\n",
       "</style>\n",
       "<table border=\"1\" class=\"dataframe\">\n",
       "  <thead>\n",
       "    <tr style=\"text-align: right;\">\n",
       "      <th></th>\n",
       "      <th>대여일시</th>\n",
       "      <th>대여 대여소번호</th>\n",
       "      <th>대여 대여소명</th>\n",
       "      <th>반납일시</th>\n",
       "      <th>반납대여소번호</th>\n",
       "      <th>반납대여소명</th>\n",
       "      <th>이용시간</th>\n",
       "      <th>이용거리</th>\n",
       "      <th>대여날짜</th>\n",
       "      <th>대여시간</th>\n",
       "      <th>반납시간</th>\n",
       "      <th>반납대여소</th>\n",
       "    </tr>\n",
       "  </thead>\n",
       "  <tbody>\n",
       "    <tr>\n",
       "      <th>6215</th>\n",
       "      <td>2021-01-30 15:35:03</td>\n",
       "      <td>111</td>\n",
       "      <td>상수역 2번출구 앞</td>\n",
       "      <td>2021-01-30 17:06:27</td>\n",
       "      <td>502</td>\n",
       "      <td>뚝섬유원지역 1번출구 앞</td>\n",
       "      <td>91.0</td>\n",
       "      <td>17262.65</td>\n",
       "      <td>2021-01-30</td>\n",
       "      <td>15</td>\n",
       "      <td>17</td>\n",
       "      <td>502</td>\n",
       "    </tr>\n",
       "    <tr>\n",
       "      <th>6216</th>\n",
       "      <td>2021-01-30 15:34:06</td>\n",
       "      <td>111</td>\n",
       "      <td>상수역 2번출구 앞</td>\n",
       "      <td>2021-01-30 17:06:50</td>\n",
       "      <td>502</td>\n",
       "      <td>뚝섬유원지역 1번출구 앞</td>\n",
       "      <td>92.0</td>\n",
       "      <td>17615.89</td>\n",
       "      <td>2021-01-30</td>\n",
       "      <td>15</td>\n",
       "      <td>17</td>\n",
       "      <td>502</td>\n",
       "    </tr>\n",
       "    <tr>\n",
       "      <th>38682</th>\n",
       "      <td>2021-01-23 20:01:59</td>\n",
       "      <td>186</td>\n",
       "      <td>월드컵공원</td>\n",
       "      <td>2021-01-23 22:14:36</td>\n",
       "      <td>502</td>\n",
       "      <td>뚝섬유원지역 1번출구 앞</td>\n",
       "      <td>132.0</td>\n",
       "      <td>21040.00</td>\n",
       "      <td>2021-01-23</td>\n",
       "      <td>20</td>\n",
       "      <td>22</td>\n",
       "      <td>502</td>\n",
       "    </tr>\n",
       "    <tr>\n",
       "      <th>38684</th>\n",
       "      <td>2021-01-23 20:00:40</td>\n",
       "      <td>186</td>\n",
       "      <td>월드컵공원</td>\n",
       "      <td>2021-01-23 22:14:48</td>\n",
       "      <td>502</td>\n",
       "      <td>뚝섬유원지역 1번출구 앞</td>\n",
       "      <td>134.0</td>\n",
       "      <td>22989.18</td>\n",
       "      <td>2021-01-23</td>\n",
       "      <td>20</td>\n",
       "      <td>22</td>\n",
       "      <td>502</td>\n",
       "    </tr>\n",
       "    <tr>\n",
       "      <th>42710</th>\n",
       "      <td>2021-01-14 15:58:12</td>\n",
       "      <td>202</td>\n",
       "      <td>국민일보 앞</td>\n",
       "      <td>2021-01-14 17:12:14</td>\n",
       "      <td>502</td>\n",
       "      <td>뚝섬유원지역 1번출구 앞</td>\n",
       "      <td>74.0</td>\n",
       "      <td>16490.74</td>\n",
       "      <td>2021-01-14</td>\n",
       "      <td>15</td>\n",
       "      <td>17</td>\n",
       "      <td>502</td>\n",
       "    </tr>\n",
       "    <tr>\n",
       "      <th>...</th>\n",
       "      <td>...</td>\n",
       "      <td>...</td>\n",
       "      <td>...</td>\n",
       "      <td>...</td>\n",
       "      <td>...</td>\n",
       "      <td>...</td>\n",
       "      <td>...</td>\n",
       "      <td>...</td>\n",
       "      <td>...</td>\n",
       "      <td>...</td>\n",
       "      <td>...</td>\n",
       "      <td>...</td>\n",
       "    </tr>\n",
       "    <tr>\n",
       "      <th>3442493</th>\n",
       "      <td>2021-06-30 20:42:43</td>\n",
       "      <td>1564</td>\n",
       "      <td>419민주묘지역 1번출구</td>\n",
       "      <td>2021-06-30 22:46:02</td>\n",
       "      <td>502</td>\n",
       "      <td>뚝섬유원지역 1번출구 앞</td>\n",
       "      <td>123.0</td>\n",
       "      <td>22146.59</td>\n",
       "      <td>2021-06-30</td>\n",
       "      <td>20</td>\n",
       "      <td>22</td>\n",
       "      <td>00502</td>\n",
       "    </tr>\n",
       "    <tr>\n",
       "      <th>3442712</th>\n",
       "      <td>2021-06-30 21:20:13</td>\n",
       "      <td>1332</td>\n",
       "      <td>석계역 5번출구 건너편</td>\n",
       "      <td>2021-06-30 22:47:37</td>\n",
       "      <td>502</td>\n",
       "      <td>뚝섬유원지역 1번출구 앞</td>\n",
       "      <td>87.0</td>\n",
       "      <td>16226.78</td>\n",
       "      <td>2021-06-30</td>\n",
       "      <td>21</td>\n",
       "      <td>22</td>\n",
       "      <td>00502</td>\n",
       "    </tr>\n",
       "    <tr>\n",
       "      <th>3442737</th>\n",
       "      <td>2021-06-30 20:37:55</td>\n",
       "      <td>1526</td>\n",
       "      <td>수유동 채선당앞</td>\n",
       "      <td>2021-06-30 22:47:49</td>\n",
       "      <td>502</td>\n",
       "      <td>뚝섬유원지역 1번출구 앞</td>\n",
       "      <td>129.0</td>\n",
       "      <td>18809.14</td>\n",
       "      <td>2021-06-30</td>\n",
       "      <td>20</td>\n",
       "      <td>22</td>\n",
       "      <td>00502</td>\n",
       "    </tr>\n",
       "    <tr>\n",
       "      <th>3442988</th>\n",
       "      <td>2021-06-30 21:54:20</td>\n",
       "      <td>588</td>\n",
       "      <td>뚝섬 유원지역</td>\n",
       "      <td>2021-06-30 22:49:42</td>\n",
       "      <td>502</td>\n",
       "      <td>뚝섬유원지역 1번출구 앞</td>\n",
       "      <td>55.0</td>\n",
       "      <td>7400.00</td>\n",
       "      <td>2021-06-30</td>\n",
       "      <td>21</td>\n",
       "      <td>22</td>\n",
       "      <td>00502</td>\n",
       "    </tr>\n",
       "    <tr>\n",
       "      <th>3443168</th>\n",
       "      <td>2021-06-30 21:53:59</td>\n",
       "      <td>588</td>\n",
       "      <td>뚝섬 유원지역</td>\n",
       "      <td>2021-06-30 22:50:54</td>\n",
       "      <td>502</td>\n",
       "      <td>뚝섬유원지역 1번출구 앞</td>\n",
       "      <td>56.0</td>\n",
       "      <td>7144.09</td>\n",
       "      <td>2021-06-30</td>\n",
       "      <td>21</td>\n",
       "      <td>22</td>\n",
       "      <td>00502</td>\n",
       "    </tr>\n",
       "  </tbody>\n",
       "</table>\n",
       "<p>53434 rows × 12 columns</p>\n",
       "</div>"
      ],
      "text/plain": [
       "                       대여일시 대여 대여소번호        대여 대여소명                반납일시  \\\n",
       "6215    2021-01-30 15:35:03      111     상수역 2번출구 앞 2021-01-30 17:06:27   \n",
       "6216    2021-01-30 15:34:06      111     상수역 2번출구 앞 2021-01-30 17:06:50   \n",
       "38682   2021-01-23 20:01:59      186          월드컵공원 2021-01-23 22:14:36   \n",
       "38684   2021-01-23 20:00:40      186          월드컵공원 2021-01-23 22:14:48   \n",
       "42710   2021-01-14 15:58:12      202         국민일보 앞 2021-01-14 17:12:14   \n",
       "...                     ...      ...            ...                 ...   \n",
       "3442493 2021-06-30 20:42:43     1564  419민주묘지역 1번출구 2021-06-30 22:46:02   \n",
       "3442712 2021-06-30 21:20:13     1332   석계역 5번출구 건너편 2021-06-30 22:47:37   \n",
       "3442737 2021-06-30 20:37:55     1526       수유동 채선당앞 2021-06-30 22:47:49   \n",
       "3442988 2021-06-30 21:54:20      588        뚝섬 유원지역 2021-06-30 22:49:42   \n",
       "3443168 2021-06-30 21:53:59      588        뚝섬 유원지역 2021-06-30 22:50:54   \n",
       "\n",
       "        반납대여소번호         반납대여소명   이용시간      이용거리        대여날짜  대여시간  반납시간  반납대여소  \n",
       "6215        502  뚝섬유원지역 1번출구 앞   91.0  17262.65  2021-01-30    15    17    502  \n",
       "6216        502  뚝섬유원지역 1번출구 앞   92.0  17615.89  2021-01-30    15    17    502  \n",
       "38682       502  뚝섬유원지역 1번출구 앞  132.0  21040.00  2021-01-23    20    22    502  \n",
       "38684       502  뚝섬유원지역 1번출구 앞  134.0  22989.18  2021-01-23    20    22    502  \n",
       "42710       502  뚝섬유원지역 1번출구 앞   74.0  16490.74  2021-01-14    15    17    502  \n",
       "...         ...            ...    ...       ...         ...   ...   ...    ...  \n",
       "3442493     502  뚝섬유원지역 1번출구 앞  123.0  22146.59  2021-06-30    20    22  00502  \n",
       "3442712     502  뚝섬유원지역 1번출구 앞   87.0  16226.78  2021-06-30    21    22  00502  \n",
       "3442737     502  뚝섬유원지역 1번출구 앞  129.0  18809.14  2021-06-30    20    22  00502  \n",
       "3442988     502  뚝섬유원지역 1번출구 앞   55.0   7400.00  2021-06-30    21    22  00502  \n",
       "3443168     502  뚝섬유원지역 1번출구 앞   56.0   7144.09  2021-06-30    21    22  00502  \n",
       "\n",
       "[53434 rows x 12 columns]"
      ]
     },
     "execution_count": 221,
     "metadata": {},
     "output_type": "execute_result"
    }
   ],
   "source": [
    "df_dd = df[(df['반납대여소번호']==502)&(df['반납시간']>=16)]\n",
    "df_dd"
   ]
  },
  {
   "cell_type": "code",
   "execution_count": 222,
   "id": "cc6bf2c0-4f57-4187-b84a-457865ec2958",
   "metadata": {},
   "outputs": [
    {
     "name": "stderr",
     "output_type": "stream",
     "text": [
      "C:\\Users\\tjoeun\\AppData\\Local\\Temp\\ipykernel_9700\\1048198081.py:1: SettingWithCopyWarning: \n",
      "A value is trying to be set on a copy of a slice from a DataFrame.\n",
      "Try using .loc[row_indexer,col_indexer] = value instead\n",
      "\n",
      "See the caveats in the documentation: https://pandas.pydata.org/pandas-docs/stable/user_guide/indexing.html#returning-a-view-versus-a-copy\n",
      "  df_dd['대여요일']=df_dd['대여일시'].dt.strftime('%a')\n"
     ]
    }
   ],
   "source": [
    "df_dd['대여요일']=df_dd['대여일시'].dt.strftime('%a')"
   ]
  },
  {
   "cell_type": "code",
   "execution_count": 223,
   "id": "38f6f8a1-0144-4d9c-a944-6665f0ce51ec",
   "metadata": {},
   "outputs": [
    {
     "data": {
      "text/html": [
       "<div>\n",
       "<style scoped>\n",
       "    .dataframe tbody tr th:only-of-type {\n",
       "        vertical-align: middle;\n",
       "    }\n",
       "\n",
       "    .dataframe tbody tr th {\n",
       "        vertical-align: top;\n",
       "    }\n",
       "\n",
       "    .dataframe thead th {\n",
       "        text-align: right;\n",
       "    }\n",
       "</style>\n",
       "<table border=\"1\" class=\"dataframe\">\n",
       "  <thead>\n",
       "    <tr style=\"text-align: right;\">\n",
       "      <th></th>\n",
       "      <th>대여일시</th>\n",
       "      <th>대여 대여소번호</th>\n",
       "      <th>대여 대여소명</th>\n",
       "      <th>반납일시</th>\n",
       "      <th>반납대여소번호</th>\n",
       "      <th>반납대여소명</th>\n",
       "      <th>이용시간</th>\n",
       "      <th>이용거리</th>\n",
       "      <th>대여날짜</th>\n",
       "      <th>대여시간</th>\n",
       "      <th>반납시간</th>\n",
       "      <th>반납대여소</th>\n",
       "      <th>대여요일</th>\n",
       "    </tr>\n",
       "  </thead>\n",
       "  <tbody>\n",
       "    <tr>\n",
       "      <th>6215</th>\n",
       "      <td>2021-01-30 15:35:03</td>\n",
       "      <td>111</td>\n",
       "      <td>상수역 2번출구 앞</td>\n",
       "      <td>2021-01-30 17:06:27</td>\n",
       "      <td>502</td>\n",
       "      <td>뚝섬유원지역 1번출구 앞</td>\n",
       "      <td>91.0</td>\n",
       "      <td>17262.65</td>\n",
       "      <td>2021-01-30</td>\n",
       "      <td>15</td>\n",
       "      <td>17</td>\n",
       "      <td>502</td>\n",
       "      <td>Sat</td>\n",
       "    </tr>\n",
       "    <tr>\n",
       "      <th>6216</th>\n",
       "      <td>2021-01-30 15:34:06</td>\n",
       "      <td>111</td>\n",
       "      <td>상수역 2번출구 앞</td>\n",
       "      <td>2021-01-30 17:06:50</td>\n",
       "      <td>502</td>\n",
       "      <td>뚝섬유원지역 1번출구 앞</td>\n",
       "      <td>92.0</td>\n",
       "      <td>17615.89</td>\n",
       "      <td>2021-01-30</td>\n",
       "      <td>15</td>\n",
       "      <td>17</td>\n",
       "      <td>502</td>\n",
       "      <td>Sat</td>\n",
       "    </tr>\n",
       "    <tr>\n",
       "      <th>38682</th>\n",
       "      <td>2021-01-23 20:01:59</td>\n",
       "      <td>186</td>\n",
       "      <td>월드컵공원</td>\n",
       "      <td>2021-01-23 22:14:36</td>\n",
       "      <td>502</td>\n",
       "      <td>뚝섬유원지역 1번출구 앞</td>\n",
       "      <td>132.0</td>\n",
       "      <td>21040.00</td>\n",
       "      <td>2021-01-23</td>\n",
       "      <td>20</td>\n",
       "      <td>22</td>\n",
       "      <td>502</td>\n",
       "      <td>Sat</td>\n",
       "    </tr>\n",
       "    <tr>\n",
       "      <th>38684</th>\n",
       "      <td>2021-01-23 20:00:40</td>\n",
       "      <td>186</td>\n",
       "      <td>월드컵공원</td>\n",
       "      <td>2021-01-23 22:14:48</td>\n",
       "      <td>502</td>\n",
       "      <td>뚝섬유원지역 1번출구 앞</td>\n",
       "      <td>134.0</td>\n",
       "      <td>22989.18</td>\n",
       "      <td>2021-01-23</td>\n",
       "      <td>20</td>\n",
       "      <td>22</td>\n",
       "      <td>502</td>\n",
       "      <td>Sat</td>\n",
       "    </tr>\n",
       "    <tr>\n",
       "      <th>42710</th>\n",
       "      <td>2021-01-14 15:58:12</td>\n",
       "      <td>202</td>\n",
       "      <td>국민일보 앞</td>\n",
       "      <td>2021-01-14 17:12:14</td>\n",
       "      <td>502</td>\n",
       "      <td>뚝섬유원지역 1번출구 앞</td>\n",
       "      <td>74.0</td>\n",
       "      <td>16490.74</td>\n",
       "      <td>2021-01-14</td>\n",
       "      <td>15</td>\n",
       "      <td>17</td>\n",
       "      <td>502</td>\n",
       "      <td>Thu</td>\n",
       "    </tr>\n",
       "    <tr>\n",
       "      <th>...</th>\n",
       "      <td>...</td>\n",
       "      <td>...</td>\n",
       "      <td>...</td>\n",
       "      <td>...</td>\n",
       "      <td>...</td>\n",
       "      <td>...</td>\n",
       "      <td>...</td>\n",
       "      <td>...</td>\n",
       "      <td>...</td>\n",
       "      <td>...</td>\n",
       "      <td>...</td>\n",
       "      <td>...</td>\n",
       "      <td>...</td>\n",
       "    </tr>\n",
       "    <tr>\n",
       "      <th>3442493</th>\n",
       "      <td>2021-06-30 20:42:43</td>\n",
       "      <td>1564</td>\n",
       "      <td>419민주묘지역 1번출구</td>\n",
       "      <td>2021-06-30 22:46:02</td>\n",
       "      <td>502</td>\n",
       "      <td>뚝섬유원지역 1번출구 앞</td>\n",
       "      <td>123.0</td>\n",
       "      <td>22146.59</td>\n",
       "      <td>2021-06-30</td>\n",
       "      <td>20</td>\n",
       "      <td>22</td>\n",
       "      <td>00502</td>\n",
       "      <td>Wed</td>\n",
       "    </tr>\n",
       "    <tr>\n",
       "      <th>3442712</th>\n",
       "      <td>2021-06-30 21:20:13</td>\n",
       "      <td>1332</td>\n",
       "      <td>석계역 5번출구 건너편</td>\n",
       "      <td>2021-06-30 22:47:37</td>\n",
       "      <td>502</td>\n",
       "      <td>뚝섬유원지역 1번출구 앞</td>\n",
       "      <td>87.0</td>\n",
       "      <td>16226.78</td>\n",
       "      <td>2021-06-30</td>\n",
       "      <td>21</td>\n",
       "      <td>22</td>\n",
       "      <td>00502</td>\n",
       "      <td>Wed</td>\n",
       "    </tr>\n",
       "    <tr>\n",
       "      <th>3442737</th>\n",
       "      <td>2021-06-30 20:37:55</td>\n",
       "      <td>1526</td>\n",
       "      <td>수유동 채선당앞</td>\n",
       "      <td>2021-06-30 22:47:49</td>\n",
       "      <td>502</td>\n",
       "      <td>뚝섬유원지역 1번출구 앞</td>\n",
       "      <td>129.0</td>\n",
       "      <td>18809.14</td>\n",
       "      <td>2021-06-30</td>\n",
       "      <td>20</td>\n",
       "      <td>22</td>\n",
       "      <td>00502</td>\n",
       "      <td>Wed</td>\n",
       "    </tr>\n",
       "    <tr>\n",
       "      <th>3442988</th>\n",
       "      <td>2021-06-30 21:54:20</td>\n",
       "      <td>588</td>\n",
       "      <td>뚝섬 유원지역</td>\n",
       "      <td>2021-06-30 22:49:42</td>\n",
       "      <td>502</td>\n",
       "      <td>뚝섬유원지역 1번출구 앞</td>\n",
       "      <td>55.0</td>\n",
       "      <td>7400.00</td>\n",
       "      <td>2021-06-30</td>\n",
       "      <td>21</td>\n",
       "      <td>22</td>\n",
       "      <td>00502</td>\n",
       "      <td>Wed</td>\n",
       "    </tr>\n",
       "    <tr>\n",
       "      <th>3443168</th>\n",
       "      <td>2021-06-30 21:53:59</td>\n",
       "      <td>588</td>\n",
       "      <td>뚝섬 유원지역</td>\n",
       "      <td>2021-06-30 22:50:54</td>\n",
       "      <td>502</td>\n",
       "      <td>뚝섬유원지역 1번출구 앞</td>\n",
       "      <td>56.0</td>\n",
       "      <td>7144.09</td>\n",
       "      <td>2021-06-30</td>\n",
       "      <td>21</td>\n",
       "      <td>22</td>\n",
       "      <td>00502</td>\n",
       "      <td>Wed</td>\n",
       "    </tr>\n",
       "  </tbody>\n",
       "</table>\n",
       "<p>53434 rows × 13 columns</p>\n",
       "</div>"
      ],
      "text/plain": [
       "                       대여일시 대여 대여소번호        대여 대여소명                반납일시  \\\n",
       "6215    2021-01-30 15:35:03      111     상수역 2번출구 앞 2021-01-30 17:06:27   \n",
       "6216    2021-01-30 15:34:06      111     상수역 2번출구 앞 2021-01-30 17:06:50   \n",
       "38682   2021-01-23 20:01:59      186          월드컵공원 2021-01-23 22:14:36   \n",
       "38684   2021-01-23 20:00:40      186          월드컵공원 2021-01-23 22:14:48   \n",
       "42710   2021-01-14 15:58:12      202         국민일보 앞 2021-01-14 17:12:14   \n",
       "...                     ...      ...            ...                 ...   \n",
       "3442493 2021-06-30 20:42:43     1564  419민주묘지역 1번출구 2021-06-30 22:46:02   \n",
       "3442712 2021-06-30 21:20:13     1332   석계역 5번출구 건너편 2021-06-30 22:47:37   \n",
       "3442737 2021-06-30 20:37:55     1526       수유동 채선당앞 2021-06-30 22:47:49   \n",
       "3442988 2021-06-30 21:54:20      588        뚝섬 유원지역 2021-06-30 22:49:42   \n",
       "3443168 2021-06-30 21:53:59      588        뚝섬 유원지역 2021-06-30 22:50:54   \n",
       "\n",
       "        반납대여소번호         반납대여소명   이용시간      이용거리        대여날짜  대여시간  반납시간  \\\n",
       "6215        502  뚝섬유원지역 1번출구 앞   91.0  17262.65  2021-01-30    15    17   \n",
       "6216        502  뚝섬유원지역 1번출구 앞   92.0  17615.89  2021-01-30    15    17   \n",
       "38682       502  뚝섬유원지역 1번출구 앞  132.0  21040.00  2021-01-23    20    22   \n",
       "38684       502  뚝섬유원지역 1번출구 앞  134.0  22989.18  2021-01-23    20    22   \n",
       "42710       502  뚝섬유원지역 1번출구 앞   74.0  16490.74  2021-01-14    15    17   \n",
       "...         ...            ...    ...       ...         ...   ...   ...   \n",
       "3442493     502  뚝섬유원지역 1번출구 앞  123.0  22146.59  2021-06-30    20    22   \n",
       "3442712     502  뚝섬유원지역 1번출구 앞   87.0  16226.78  2021-06-30    21    22   \n",
       "3442737     502  뚝섬유원지역 1번출구 앞  129.0  18809.14  2021-06-30    20    22   \n",
       "3442988     502  뚝섬유원지역 1번출구 앞   55.0   7400.00  2021-06-30    21    22   \n",
       "3443168     502  뚝섬유원지역 1번출구 앞   56.0   7144.09  2021-06-30    21    22   \n",
       "\n",
       "         반납대여소 대여요일  \n",
       "6215       502  Sat  \n",
       "6216       502  Sat  \n",
       "38682      502  Sat  \n",
       "38684      502  Sat  \n",
       "42710      502  Thu  \n",
       "...        ...  ...  \n",
       "3442493  00502  Wed  \n",
       "3442712  00502  Wed  \n",
       "3442737  00502  Wed  \n",
       "3442988  00502  Wed  \n",
       "3443168  00502  Wed  \n",
       "\n",
       "[53434 rows x 13 columns]"
      ]
     },
     "execution_count": 223,
     "metadata": {},
     "output_type": "execute_result"
    }
   ],
   "source": [
    "df_dd"
   ]
  },
  {
   "cell_type": "code",
   "execution_count": 224,
   "id": "f6afbfbb-f0fb-470f-a12c-c682d01b8207",
   "metadata": {},
   "outputs": [],
   "source": [
    "df_week = df_dd.groupby(['대여요일'])['이용시간'].sum().to_frame()"
   ]
  },
  {
   "cell_type": "code",
   "execution_count": 228,
   "id": "98636afb-cd07-4419-a1b8-c131cc6a8c1e",
   "metadata": {
    "scrolled": true
   },
   "outputs": [
    {
     "name": "stdout",
     "output_type": "stream",
     "text": [
      "<class 'pandas.core.frame.DataFrame'>\n",
      "Index: 7 entries, Mon to Sun\n",
      "Data columns (total 1 columns):\n",
      " #   Column  Non-Null Count  Dtype  \n",
      "---  ------  --------------  -----  \n",
      " 0   이용시간    7 non-null      float64\n",
      "dtypes: float64(1)\n",
      "memory usage: 112.0+ bytes\n"
     ]
    }
   ],
   "source": [
    "df_week.info()"
   ]
  },
  {
   "cell_type": "code",
   "execution_count": 226,
   "id": "2ca80c10-ec49-4841-b235-eab0f9c0f95d",
   "metadata": {},
   "outputs": [
    {
     "data": {
      "text/html": [
       "<div>\n",
       "<style scoped>\n",
       "    .dataframe tbody tr th:only-of-type {\n",
       "        vertical-align: middle;\n",
       "    }\n",
       "\n",
       "    .dataframe tbody tr th {\n",
       "        vertical-align: top;\n",
       "    }\n",
       "\n",
       "    .dataframe thead th {\n",
       "        text-align: right;\n",
       "    }\n",
       "</style>\n",
       "<table border=\"1\" class=\"dataframe\">\n",
       "  <thead>\n",
       "    <tr style=\"text-align: right;\">\n",
       "      <th></th>\n",
       "      <th>이용시간</th>\n",
       "    </tr>\n",
       "  </thead>\n",
       "  <tbody>\n",
       "    <tr>\n",
       "      <th>Mon</th>\n",
       "      <td>268148.0</td>\n",
       "    </tr>\n",
       "    <tr>\n",
       "      <th>Tue</th>\n",
       "      <td>251076.0</td>\n",
       "    </tr>\n",
       "    <tr>\n",
       "      <th>Wed</th>\n",
       "      <td>417715.0</td>\n",
       "    </tr>\n",
       "    <tr>\n",
       "      <th>Thu</th>\n",
       "      <td>284313.0</td>\n",
       "    </tr>\n",
       "    <tr>\n",
       "      <th>Fri</th>\n",
       "      <td>397009.0</td>\n",
       "    </tr>\n",
       "    <tr>\n",
       "      <th>Sat</th>\n",
       "      <td>519706.0</td>\n",
       "    </tr>\n",
       "    <tr>\n",
       "      <th>Sun</th>\n",
       "      <td>698413.0</td>\n",
       "    </tr>\n",
       "  </tbody>\n",
       "</table>\n",
       "</div>"
      ],
      "text/plain": [
       "         이용시간\n",
       "Mon  268148.0\n",
       "Tue  251076.0\n",
       "Wed  417715.0\n",
       "Thu  284313.0\n",
       "Fri  397009.0\n",
       "Sat  519706.0\n",
       "Sun  698413.0"
      ]
     },
     "execution_count": 226,
     "metadata": {},
     "output_type": "execute_result"
    }
   ],
   "source": [
    "weeks = ['Mon', 'Tue', 'Wed', 'Thu', 'Fri', 'Sat', 'Sun']\n",
    "df_week = df_week.agg(weeks)\n",
    "df_week"
   ]
  },
  {
   "cell_type": "code",
   "execution_count": 227,
   "id": "090348ae-0fba-4f89-949e-5032a5267e9e",
   "metadata": {},
   "outputs": [
    {
     "data": {
      "image/png": "[encoded data removed]",
      "text/plain": [
       "<Figure size 1000x500 with 1 Axes>"
      ]
     },
     "metadata": {},
     "output_type": "display_data"
    }
   ],
   "source": [
    "df_week.plot(kind='bar', width=0.7, figsize= (10,5))\n",
    "plt.ylabel('이용시간')\n",
    "plt.xlabel('대여요일')\n",
    "plt.legend(loc='best')\n",
    "plt.show()"
   ]
  },
  {
   "cell_type": "code",
   "execution_count": null,
   "id": "615d4472-569d-44b0-b999-8950880f4b10",
   "metadata": {},
   "outputs": [],
   "source": []
  },
  {
   "cell_type": "code",
   "execution_count": null,
   "id": "b9ad9e54-e9e3-48e5-b734-16f597efb37f",
   "metadata": {},
   "outputs": [],
   "source": []
  }
 ],
 "metadata": {
  "colab": {
   "provenance": []
  },
  "kernelspec": {
   "display_name": "Python 3 (ipykernel)",
   "language": "python",
   "name": "python3"
  },
  "language_info": {
   "codemirror_mode": {
    "name": "ipython",
    "version": 3
   },
   "file_extension": ".py",
   "mimetype": "text/x-python",
   "name": "python",
   "nbconvert_exporter": "python",
   "pygments_lexer": "ipython3",
   "version": "3.9.12"
  },
  "toc": {
   "base_numbering": 1,
   "nav_menu": {},
   "number_sections": true,
   "sideBar": true,
   "skip_h1_title": false,
   "title_cell": "Table of Contents",
   "title_sidebar": "Contents",
   "toc_cell": false,
   "toc_position": {
    "height": "calc(100% - 180px)",
    "left": "10px",
    "top": "150px",
    "width": "307.188px"
   },
   "toc_section_display": true,
   "toc_window_display": true
  }
 },
 "nbformat": 4,
 "nbformat_minor": 5
}
